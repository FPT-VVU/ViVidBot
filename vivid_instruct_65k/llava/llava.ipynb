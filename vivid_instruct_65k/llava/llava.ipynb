{
 "cells": [
  {
   "cell_type": "code",
   "execution_count": null,
   "metadata": {},
   "outputs": [],
   "source": [
    "%pip install ollama"
   ]
  },
  {
   "cell_type": "code",
   "execution_count": null,
   "metadata": {},
   "outputs": [],
   "source": [
    "from pprint import pprint\n",
    "import ollama"
   ]
  },
  {
   "cell_type": "code",
   "execution_count": null,
   "metadata": {},
   "outputs": [],
   "source": [
    "stream = ollama.generate(\n",
    "    model=\"llava-phi3\",\n",
    "    prompt=\"give me a general description of the image\",\n",
    "    images=[\"/home/dminhvu/Documents/avatar.jpeg\"],\n",
    "    stream=True,\n",
    ")\n",
    "\n",
    "answer = \"\"\n",
    "for chunk in stream:\n",
    "    answer += chunk[\"response\"]\n",
    "    print(chunk[\"response\"], end=\"\")"
   ]
  },
  {
   "cell_type": "code",
   "execution_count": null,
   "metadata": {},
   "outputs": [],
   "source": [
    "pprint(answer)"
   ]
  }
 ],
 "metadata": {
  "language_info": {
   "name": "python"
  }
 },
 "nbformat": 4,
 "nbformat_minor": 2
}
