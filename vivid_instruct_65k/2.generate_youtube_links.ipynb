{
 "cells": [
  {
   "cell_type": "code",
   "execution_count": 1,
   "metadata": {},
   "outputs": [],
   "source": [
    "import json\n",
    "from typing import Dict, List\n",
    "\n",
    "saved_keywords: Dict[str, List[str]] = json.load(\n",
    "    open(\"generated_keywords.json\", \"r\", encoding=\"utf-8\")\n",
    ")\n",
    "\n",
    "CATEGORIES = list(saved_keywords.keys())"
   ]
  },
  {
   "cell_type": "code",
   "execution_count": 2,
   "metadata": {},
   "outputs": [
    {
     "data": {
      "text/plain": [
       "['Food',\n",
       " 'Travel',\n",
       " 'Entertainment',\n",
       " 'Gaming',\n",
       " 'Lifestyle',\n",
       " 'Education',\n",
       " 'Sports',\n",
       " 'Technology',\n",
       " 'Pets & Animals',\n",
       " 'Health & Wellness']"
      ]
     },
     "execution_count": 2,
     "metadata": {},
     "output_type": "execute_result"
    }
   ],
   "source": [
    "CATEGORIES"
   ]
  },
  {
   "cell_type": "code",
   "execution_count": 5,
   "metadata": {},
   "outputs": [
    {
     "name": "stderr",
     "output_type": "stream",
     "text": [
      "100%|██████████| 124/124 [01:09<00:00,  1.78it/s]\n",
      "100%|██████████| 106/106 [01:09<00:00,  1.52it/s]\n",
      "100%|██████████| 131/131 [01:29<00:00,  1.47it/s]\n",
      "100%|██████████| 113/113 [01:19<00:00,  1.42it/s]\n",
      "100%|██████████| 109/109 [01:03<00:00,  1.73it/s]\n",
      "100%|██████████| 146/146 [01:37<00:00,  1.50it/s]\n",
      "100%|██████████| 136/136 [01:20<00:00,  1.68it/s]\n",
      "100%|██████████| 126/126 [01:25<00:00,  1.47it/s]\n",
      "100%|██████████| 179/179 [01:49<00:00,  1.64it/s]\n",
      "100%|██████████| 125/125 [01:13<00:00,  1.70it/s]\n",
      "100%|██████████| 10/10 [13:38<00:00, 81.85s/it]\n"
     ]
    }
   ],
   "source": [
    "# a function to get all youtube search results for a given keyword\n",
    "import os\n",
    "from youtubesearchpython import VideosSearch\n",
    "from typing import List\n",
    "\n",
    "\n",
    "def get_youtube_search_results(keyword: str) -> List[str]:\n",
    "    if os.path.exists(f\"cache/youtube_search_results/{keyword}.json\"):\n",
    "        with open(f\"cache/youtube_search_results/{keyword}.json\", \"r\") as f:\n",
    "            return json.load(f)\n",
    "\n",
    "    videosSearch = VideosSearch(\n",
    "        keyword,\n",
    "        limit=10,\n",
    "        region=\"VN\",\n",
    "        language=\"vi\",\n",
    "    )\n",
    "    results = videosSearch.result()[\"result\"]\n",
    "    ids = [result[\"id\"] for result in results]\n",
    "\n",
    "    with open(f\"cache/youtube_search_results/{keyword}.json\", \"w\") as f:\n",
    "        json.dump(ids, f, indent=2, ensure_ascii=False)\n",
    "\n",
    "    return ids\n",
    "\n",
    "\n",
    "# a function to iterate through all keywords and get all youtube search results\n",
    "# filter out duplicate results\n",
    "from tqdm import tqdm\n",
    "from typing import Dict, List\n",
    "\n",
    "\n",
    "def get_all_youtube_search_results(\n",
    "    keywords: Dict[str, List[str]]\n",
    ") -> Dict[str, List[str]]:\n",
    "    all_youtube_search_results = {}\n",
    "    for category in tqdm(keywords):\n",
    "        all_youtube_search_results[category] = []\n",
    "        for keyword in tqdm(keywords[category]):\n",
    "            results = get_youtube_search_results(keyword)\n",
    "            all_youtube_search_results[category] += results\n",
    "        all_youtube_search_results[category] = list(\n",
    "            set(all_youtube_search_results[category])\n",
    "        )\n",
    "\n",
    "    return all_youtube_search_results\n",
    "\n",
    "\n",
    "all_youtube_search_results = get_all_youtube_search_results(saved_keywords)\n",
    "\n",
    "# write the results to a json file\n",
    "with open(\"all_youtube_search_results.json\", \"w\", encoding=\"utf-8\") as f:\n",
    "    json.dump(all_youtube_search_results, f, indent=2, ensure_ascii=False)"
   ]
  },
  {
   "cell_type": "code",
   "execution_count": null,
   "metadata": {},
   "outputs": [],
   "source": []
  }
 ],
 "metadata": {
  "kernelspec": {
   "display_name": "Python 3",
   "language": "python",
   "name": "python3"
  },
  "language_info": {
   "codemirror_mode": {
    "name": "ipython",
    "version": 3
   },
   "file_extension": ".py",
   "mimetype": "text/x-python",
   "name": "python",
   "nbconvert_exporter": "python",
   "pygments_lexer": "ipython3",
   "version": "3.10.12"
  }
 },
 "nbformat": 4,
 "nbformat_minor": 2
}
