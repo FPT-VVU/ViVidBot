{
 "cells": [
  {
   "cell_type": "code",
   "execution_count": 5,
   "metadata": {},
   "outputs": [],
   "source": [
    "from youtubesearchpython import VideosSearch\n",
    "from pprint import pprint\n",
    "import json\n",
    "import ollama"
   ]
  },
  {
   "cell_type": "code",
   "execution_count": 10,
   "metadata": {},
   "outputs": [
    {
     "name": "stdout",
     "output_type": "stream",
     "text": [
      " In the image, there is a young man who appears to be in his early twenties. He has short hair and is wearing glasses with black frames that contrast against his fair complexion. His attire consists of a dark blue t-shirt which complements his eyes, adding a touch of color coordination to his look.\n",
      "\n",
      "He is standing on a white railing that seems to be part of a balcony or porch. The background reveals an urban setting with a cityscape visible behind him. The buildings and trees in the distance suggest that he might be located in a residential area or near some green spaces within the city.\n",
      "\n",
      "The man's pose is relaxed, and his expression is neutral. He seems to be posing for the photo, possibly on a casual outing or during a break from daily activities. His gaze is directed towards the camera, engaging the viewer with an unspoken narrative about this moment captured in time."
     ]
    }
   ],
   "source": [
    "stream = ollama.generate(\n",
    "    model=\"llava-phi3\",\n",
    "    prompt=\"give me a general description of the image\",\n",
    "    images=[\"/home/dminhvu/Documents/avatar.jpeg\"],\n",
    "    stream=True\n",
    ")\n",
    "\n",
    "answer = ''\n",
    "for chunk in stream:\n",
    "    answer += chunk['response']\n",
    "    print(chunk['response'], end='')"
   ]
  },
  {
   "cell_type": "code",
   "execution_count": 12,
   "metadata": {},
   "outputs": [
    {
     "name": "stdout",
     "output_type": "stream",
     "text": [
      "(' In the image, there is a young man who appears to be in his early twenties. '\n",
      " 'He has short hair and is wearing glasses with black frames that contrast '\n",
      " 'against his fair complexion. His attire consists of a dark blue t-shirt '\n",
      " 'which complements his eyes, adding a touch of color coordination to his '\n",
      " 'look.\\n'\n",
      " '\\n'\n",
      " 'He is standing on a white railing that seems to be part of a balcony or '\n",
      " 'porch. The background reveals an urban setting with a cityscape visible '\n",
      " 'behind him. The buildings and trees in the distance suggest that he might be '\n",
      " 'located in a residential area or near some green spaces within the city.\\n'\n",
      " '\\n'\n",
      " \"The man's pose is relaxed, and his expression is neutral. He seems to be \"\n",
      " 'posing for the photo, possibly on a casual outing or during a break from '\n",
      " 'daily activities. His gaze is directed towards the camera, engaging the '\n",
      " 'viewer with an unspoken narrative about this moment captured in time.')\n"
     ]
    }
   ],
   "source": [
    "pprint(answer)"
   ]
  }
 ],
 "metadata": {
  "kernelspec": {
   "display_name": "Python 3",
   "language": "python",
   "name": "python3"
  },
  "language_info": {
   "codemirror_mode": {
    "name": "ipython",
    "version": 3
   },
   "file_extension": ".py",
   "mimetype": "text/x-python",
   "name": "python",
   "nbconvert_exporter": "python",
   "pygments_lexer": "ipython3",
   "version": "3.10.12"
  }
 },
 "nbformat": 4,
 "nbformat_minor": 2
}
