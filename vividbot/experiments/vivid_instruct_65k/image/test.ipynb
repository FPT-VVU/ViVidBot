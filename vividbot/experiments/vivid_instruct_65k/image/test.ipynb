{
 "cells": [
  {
   "cell_type": "code",
   "execution_count": 4,
   "metadata": {},
   "outputs": [],
   "source": [
    "import json\n",
    "from typing import Dict, List\n",
    "\n",
    "saved_keywords: Dict[str, List[str]] = json.load(\n",
    "    open(\"../data/generated_keywords.json\", \"r\", encoding=\"utf-8\")\n",
    ")\n",
    "\n",
    "CATEGORIES = list(saved_keywords.keys())"
   ]
  },
  {
   "cell_type": "code",
   "execution_count": 6,
   "metadata": {},
   "outputs": [],
   "source": [
    "keywords = [keyword for category in CATEGORIES for keyword in saved_keywords[category]]\n",
    "\n",
    "with open(\"../data/flattened_keywords.jsonl\", \"w\", encoding=\"utf-8\") as f:\n",
    "    for keyword in keywords:\n",
    "        f.write(json.dumps({\n",
    "            \"keyword\": keyword,\n",
    "            \"category\": next(category for category in CATEGORIES if keyword in saved_keywords[category])\n",
    "        }, ensure_ascii=False) + \"\\n\")"
   ]
  },
  {
   "cell_type": "code",
   "execution_count": 5,
   "metadata": {},
   "outputs": [
    {
     "data": {
      "text/plain": [
       "1295"
      ]
     },
     "execution_count": 5,
     "metadata": {},
     "output_type": "execute_result"
    }
   ],
   "source": [
    "len(keywords)"
   ]
  },
  {
   "cell_type": "code",
   "execution_count": 2,
   "metadata": {},
   "outputs": [],
   "source": [
    "from vividbot.data.task.vivid_instruct_65k.utils import pinscrape\n",
    "\n",
    "\n",
    "details = pinscrape.scraper.scrape(\"messi\", \"output\", {}, 10, 2)"
   ]
  },
  {
   "cell_type": "code",
   "execution_count": 7,
   "metadata": {},
   "outputs": [
    {
     "data": {
      "text/plain": [
       "{'isDownloaded': True,\n",
       " 'search_engine_status_code': 200,\n",
       " 'urls_list': ['https://i.pinimg.com/originals/12/8e/6e/128e6e5e651dab7aae7f135e24b74a08.jpg',\n",
       "  'https://i.pinimg.com/originals/6d/8c/ef/6d8cef114f2613042765e3f7fc8262d0.jpg'],\n",
       " 'searched_urls': ['https://www.pinterest.com/mariojrlopez/lionel-messi',\n",
       "  'wallpapercave.com',\n",
       "  'wallpapers.com',\n",
       "  'pinterest.com'],\n",
       " 'extracted_urls': ['https://www.pinterest.com/mariojrlopez/lionel-messi',\n",
       "  'pinterest.com'],\n",
       " 'keyword': 'messi'}"
      ]
     },
     "execution_count": 7,
     "metadata": {},
     "output_type": "execute_result"
    }
   ],
   "source": [
    "details"
   ]
  }
 ],
 "metadata": {
  "kernelspec": {
   "display_name": "vividbot",
   "language": "python",
   "name": "python3"
  },
  "language_info": {
   "codemirror_mode": {
    "name": "ipython",
    "version": 3
   },
   "file_extension": ".py",
   "mimetype": "text/x-python",
   "name": "python",
   "nbconvert_exporter": "python",
   "pygments_lexer": "ipython3",
   "version": "3.10.0"
  }
 },
 "nbformat": 4,
 "nbformat_minor": 2
}
