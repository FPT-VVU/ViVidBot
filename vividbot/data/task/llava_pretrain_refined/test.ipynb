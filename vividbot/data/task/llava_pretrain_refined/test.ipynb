{
 "cells": [
  {
   "cell_type": "code",
   "execution_count": 1,
   "metadata": {},
   "outputs": [],
   "source": [
    "import json\n",
    "from pathlib import Path\n",
    "\n",
    "data = json.load(open(f\"{Path.home()}/Downloads/llava_pretrain_en.jsonl\"))"
   ]
  },
  {
   "cell_type": "code",
   "execution_count": 2,
   "metadata": {},
   "outputs": [],
   "source": [
    "with open(f\"{Path.home()}/data/llava-pretrain/llava_pretrain_en.jsonl\", \"w\") as f:\n",
    "    for item in data:\n",
    "        f.write(json.dumps(item, ensure_ascii=False) + \"\\n\")"
   ]
  },
  {
   "cell_type": "code",
   "execution_count": 1,
   "metadata": {},
   "outputs": [
    {
     "name": "stdout",
     "output_type": "stream",
     "text": [
      "Throughput: 3.6992393594616626 records per second\n",
      "Throughput: 221.95436156769975 records per minute\n"
     ]
    }
   ],
   "source": [
    "from time import sleep, time\n",
    "from datasets import load_dataset\n",
    "from pathlib import Path\n",
    "\n",
    "start_time = time()\n",
    "start_count = None\n",
    "while True:\n",
    "  metadatas = open(f\"{Path.home()}/data/llava-pretrain/llava_pretrain_vi.jsonl\", \"r\").readlines()\n",
    "  if start_count is None:\n",
    "    start_count = len(metadatas)\n",
    "\n",
    "  end_time = time()\n",
    "\n",
    "  # 10 seconds\n",
    "  if end_time - start_time >= 60:\n",
    "    break\n",
    "  else:\n",
    "    sleep(60)\n",
    "\n",
    "print(f\"Throughput: {(len(metadatas) - start_count) / (end_time - start_time)} records per second\")\n",
    "# throughput per 1 minute\n",
    "print(f\"Throughput: {(len(metadatas) - start_count) / (end_time - start_time) * 60} records per minute\")"
   ]
  },
  {
   "cell_type": "code",
   "execution_count": 21,
   "metadata": {},
   "outputs": [
    {
     "name": "stdout",
     "output_type": "stream",
     "text": [
      "371003\n"
     ]
    }
   ],
   "source": [
    "print(len(metadatas))"
   ]
  },
  {
   "cell_type": "code",
   "execution_count": 9,
   "metadata": {},
   "outputs": [
    {
     "data": {
      "application/vnd.jupyter.widget-view+json": {
       "model_id": "a3f65d739bd9476e9e3be3c0ff05a8a0",
       "version_major": 2,
       "version_minor": 0
      },
      "text/plain": [
       "Filter:   0%|          | 0/182800 [00:00<?, ? examples/s]"
      ]
     },
     "metadata": {},
     "output_type": "display_data"
    },
    {
     "data": {
      "text/plain": [
       "Dataset({\n",
       "    features: ['id', 'image', 'conversations'],\n",
       "    num_rows: 1\n",
       "})"
      ]
     },
     "execution_count": 9,
     "metadata": {},
     "output_type": "execute_result"
    }
   ],
   "source": [
    "metadatas.filter(lambda x: x[\"id\"] in [\"000823624\"])"
   ]
  },
  {
   "cell_type": "code",
   "execution_count": 10,
   "metadata": {},
   "outputs": [],
   "source": [
    "unique_ids = set()\n",
    "for metadata in metadatas:\n",
    "    if len(metadata[\"conversations\"]) != 2:\n",
    "        print(metadata)\n",
    "\n",
    "# print(len(unique_ids))"
   ]
  },
  {
   "cell_type": "code",
   "execution_count": 13,
   "metadata": {},
   "outputs": [
    {
     "data": {
      "text/plain": [
       "'select luxury furniture 3 - inch gel memory foam mattress topper'"
      ]
     },
     "execution_count": 13,
     "metadata": {},
     "output_type": "execute_result"
    }
   ],
   "source": [
    "metadatas[0][\"conversations\"][1][\"value\"]"
   ]
  },
  {
   "cell_type": "code",
   "execution_count": 23,
   "metadata": {},
   "outputs": [],
   "source": [
    "from datasets import load_dataset\n",
    "\n",
    "ds = open(f\"{Path.home()}/data/llava-pretrain/llava_pretrain_vi.jsonl\").readlines()\n",
    "\n",
    "ds = [json.loads(item) for item in ds]"
   ]
  },
  {
   "cell_type": "code",
   "execution_count": 26,
   "metadata": {},
   "outputs": [
    {
     "data": {
      "text/plain": [
       "371246"
      ]
     },
     "execution_count": 26,
     "metadata": {},
     "output_type": "execute_result"
    }
   ],
   "source": [
    "len(ds)"
   ]
  },
  {
   "cell_type": "code",
   "execution_count": 25,
   "metadata": {},
   "outputs": [],
   "source": [
    "import json\n",
    "\n",
    "# dump ids to file\n",
    "with open(f\"{Path.home()}/data/llava-pretrain/process_ids.json\", \"w\") as f:\n",
    "  ids = [item[\"id\"] for item in ds]\n",
    "  f.write(json.dumps(ids))\n",
    "    "
   ]
  }
 ],
 "metadata": {
  "kernelspec": {
   "display_name": "vividbot",
   "language": "python",
   "name": "python3"
  },
  "language_info": {
   "codemirror_mode": {
    "name": "ipython",
    "version": 3
   },
   "file_extension": ".py",
   "mimetype": "text/x-python",
   "name": "python",
   "nbconvert_exporter": "python",
   "pygments_lexer": "ipython3",
   "version": "3.10.0"
  }
 },
 "nbformat": 4,
 "nbformat_minor": 2
}
