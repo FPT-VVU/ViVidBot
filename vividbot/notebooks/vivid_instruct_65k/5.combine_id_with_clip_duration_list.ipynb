{
 "cells": [
  {
   "cell_type": "code",
   "execution_count": 3,
   "metadata": {},
   "outputs": [
    {
     "name": "stdout",
     "output_type": "stream",
     "text": [
      "Dataset({\n",
      "    features: ['id', 'category', 'duration'],\n",
      "    num_rows: 7871\n",
      "})\n",
      "[78, 32, 5, 48, 10]\n",
      "65000\n"
     ]
    }
   ],
   "source": [
    "import json\n",
    "import os\n",
    "\n",
    "from datasets import load_dataset\n",
    "import numpy as np\n",
    "from yt_dlp import YoutubeDL\n",
    "from yt_dlp.utils import DownloadError\n",
    "\n",
    "dataset = load_dataset(\"json\", data_files=\"data/4.vivid_instruct_65k_result.jsonl\")[\n",
    "  \"train\"\n",
    "]\n",
    "# dataset = dataset.sort(\"duration\")\n",
    "print(dataset)\n",
    "\n",
    "random_durations = json.load(\n",
    "  open(\"/home/dminhvu/workspace/fpt-vvu/ViVidBot/random_durations.json\")\n",
    ")\n",
    "print(random_durations[:5])\n",
    "random_duration_index = 0\n",
    "\n",
    "result = []\n",
    "\n",
    "for i, data in enumerate(dataset):\n",
    "  clip_durations = []\n",
    "  video_duration = data[\"duration\"]\n",
    "  while (\n",
    "    random_duration_index < len(random_durations)\n",
    "    and sum(clip_durations) + random_durations[random_duration_index] < video_duration\n",
    "    and len(clip_durations) < 11\n",
    "  ):\n",
    "    clip_durations.append(random_durations[random_duration_index])\n",
    "    random_duration_index += 1\n",
    "\n",
    "  result.append(\n",
    "    {\n",
    "      \"id\": data[\"id\"],\n",
    "      \"category\": data[\"category\"],\n",
    "      \"duration\": video_duration,\n",
    "      \"clip_durations\": clip_durations,\n",
    "    }\n",
    "  )\n",
    "\n",
    "print(random_duration_index)\n",
    "\n",
    "# filter out videos with len of clip_durations = 0\n",
    "result = [item for item in result if len(item[\"clip_durations\"]) > 0]\n",
    "\n",
    "# save to jsonl\n",
    "with open(\"data/5.vivid_instruct_65k_result.jsonl\", \"w\") as f:\n",
    "  for item in result:\n",
    "    f.write(json.dumps(item) + \"\\n\")\n",
    "\n",
    "# {\"id\":\"w2CHbo08N9E\",\"category\":\"Food\",\"duration\":518}\n",
    "\n",
    "# dataset.to_json(\"/home/dminhvu/workspace/fpt-vvu/ViVidBot/vivid_instruct_65k_1.jsonl\")"
   ]
  },
  {
   "cell_type": "code",
   "execution_count": 12,
   "metadata": {},
   "outputs": [
    {
     "name": "stdout",
     "output_type": "stream",
     "text": [
      "43.16801538461539\n",
      "28.12790842506769\n",
      "5\n",
      "221\n"
     ]
    }
   ],
   "source": [
    "import numpy as np\n",
    "\n",
    "random_durations = json.load(\n",
    "  open(\"/home/dminhvu/workspace/fpt-vvu/ViVidBot/random_durations.json\")\n",
    ")\n",
    "\n",
    "\n",
    "print(np.mean(random_durations))\n",
    "print(np.std(random_durations))\n",
    "print(np.min(random_durations))\n",
    "print(np.max(random_durations))"
   ]
  },
  {
   "cell_type": "code",
   "execution_count": 6,
   "metadata": {},
   "outputs": [
    {
     "data": {
      "application/vnd.jupyter.widget-view+json": {
       "model_id": "f30fe7c520164dd6a6d45397b21216e6",
       "version_major": 2,
       "version_minor": 0
      },
      "text/plain": [
       "Creating json from Arrow format:   0%|          | 0/8 [00:00<?, ?ba/s]"
      ]
     },
     "metadata": {},
     "output_type": "display_data"
    },
    {
     "data": {
      "text/plain": [
       "473371"
      ]
     },
     "execution_count": 6,
     "metadata": {},
     "output_type": "execute_result"
    }
   ],
   "source": [
    "data.filter(lambda x: x.get(\"duration\", -1) > -1).to_json(\n",
    "  \"data/vivid_instruct_65k_test.jsonl\", index=False\n",
    ")"
   ]
  }
 ],
 "metadata": {
  "kernelspec": {
   "display_name": "Python 3",
   "language": "python",
   "name": "python3"
  },
  "language_info": {
   "codemirror_mode": {
    "name": "ipython",
    "version": 3
   },
   "file_extension": ".py",
   "mimetype": "text/x-python",
   "name": "python",
   "nbconvert_exporter": "python",
   "pygments_lexer": "ipython3",
   "version": "3.10.12"
  }
 },
 "nbformat": 4,
 "nbformat_minor": 2
}
