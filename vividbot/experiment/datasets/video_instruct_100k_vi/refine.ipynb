{
 "cells": [
  {
   "cell_type": "code",
   "execution_count": 1,
   "metadata": {},
   "outputs": [],
   "source": [
    "import json\n",
    "from pathlib import Path\n",
    "\n",
    "data = json.load(open(f\"{Path.home()}/data/video_instruct_100k_vi_all.json\"))"
   ]
  },
  {
   "cell_type": "code",
   "execution_count": 2,
   "metadata": {},
   "outputs": [
    {
     "data": {
      "text/plain": [
       "{'id': 'GqWH2IYPw6U',\n",
       " 'video': 'shard_0/GqWH2IYPw6U.mp4',\n",
       " 'conversations': [{'from': 'human',\n",
       "   'value': 'Có phải diễn viên kịch câm là người duy nhất làm việc gì khác ngoài ca hát?\\n<video>'},\n",
       "  {'from': 'gpt',\n",
       "   'value': 'Đúng vậy, người diễn kịch câm bước vào với pháo hoa trong khi cả nhóm vẫn hát và nhiều người xung quanh được nhìn thấy đang cười nói vui vẻ.'}]}"
      ]
     },
     "execution_count": 2,
     "metadata": {},
     "output_type": "execute_result"
    }
   ],
   "source": [
    "data[0]"
   ]
  },
  {
   "cell_type": "code",
   "execution_count": 3,
   "metadata": {},
   "outputs": [
    {
     "data": {
      "text/plain": [
       "88065"
      ]
     },
     "execution_count": 3,
     "metadata": {},
     "output_type": "execute_result"
    }
   ],
   "source": [
    "len(data)"
   ]
  },
  {
   "cell_type": "code",
   "execution_count": 5,
   "metadata": {},
   "outputs": [],
   "source": [
    "new_data = [{**d, \"path\": \"Vividbot/video-instruct-100k-vi/video\"} for d in data]\n",
    "with open(f\"{Path.home()}/data/video_instruct_100k_vi.json\", \"w\") as f:\n",
    "  json.dump(new_data, f, ensure_ascii=False, indent=2)"
   ]
  },
  {
   "cell_type": "code",
   "execution_count": 6,
   "metadata": {},
   "outputs": [
    {
     "data": {
      "text/plain": [
       "{'id': 'GqWH2IYPw6U',\n",
       " 'video': 'shard_0/GqWH2IYPw6U.mp4',\n",
       " 'conversations': [{'from': 'human',\n",
       "   'value': 'Có phải diễn viên kịch câm là người duy nhất làm việc gì khác ngoài ca hát?\\n<video>'},\n",
       "  {'from': 'gpt',\n",
       "   'value': 'Đúng vậy, người diễn kịch câm bước vào với pháo hoa trong khi cả nhóm vẫn hát và nhiều người xung quanh được nhìn thấy đang cười nói vui vẻ.'}],\n",
       " 'path': 'Vividbot/video-instruct-100k-vi/video'}"
      ]
     },
     "execution_count": 6,
     "metadata": {},
     "output_type": "execute_result"
    }
   ],
   "source": [
    "new_data[0]"
   ]
  },
  {
   "cell_type": "code",
   "execution_count": 3,
   "metadata": {},
   "outputs": [
    {
     "data": {
      "text/plain": [
       "88065"
      ]
     },
     "execution_count": 3,
     "metadata": {},
     "output_type": "execute_result"
    }
   ],
   "source": [
    "len(data)"
   ]
  },
  {
   "cell_type": "code",
   "execution_count": 13,
   "metadata": {},
   "outputs": [],
   "source": [
    "longs = []\n",
    "lengths_set = set()\n",
    "\n",
    "for d in data:\n",
    "  conv = d[\"conversations\"]\n",
    "  total_word_count = 0\n",
    "  lengths_set.add(len(conv))\n",
    "  for i in range(0, len(conv), 2):\n",
    "    total_word_count += total_word_count + len(conv[i + 1][\"value\"].split(\" \"))\n",
    "    if total_word_count > 1000:\n",
    "      longs.append(d)\n",
    "      break"
   ]
  },
  {
   "cell_type": "code",
   "execution_count": 14,
   "metadata": {},
   "outputs": [
    {
     "data": {
      "text/plain": [
       "[]"
      ]
     },
     "execution_count": 14,
     "metadata": {},
     "output_type": "execute_result"
    }
   ],
   "source": [
    "longs"
   ]
  },
  {
   "cell_type": "code",
   "execution_count": 7,
   "metadata": {},
   "outputs": [],
   "source": [
    "import json\n",
    "from pathlib import Path\n",
    "\n",
    "d2 = json.load(open(f\"{Path.home()}/data/video_instruct_100k_vi.json\"))"
   ]
  },
  {
   "cell_type": "code",
   "execution_count": 8,
   "metadata": {},
   "outputs": [
    {
     "data": {
      "text/plain": [
       "{'id': 'GqWH2IYPw6U',\n",
       " 'video': 'shard_0/GqWH2IYPw6U.mp4',\n",
       " 'conversations': [{'from': 'human',\n",
       "   'value': 'Có phải diễn viên kịch câm là người duy nhất làm việc gì khác ngoài ca hát?\\n<video>'},\n",
       "  {'from': 'gpt',\n",
       "   'value': 'Đúng vậy, người diễn kịch câm bước vào với pháo hoa trong khi cả nhóm vẫn hát và nhiều người xung quanh được nhìn thấy đang cười nói vui vẻ.'}],\n",
       " 'path': 'Vividbot/video-instruct-100k-vi/video'}"
      ]
     },
     "execution_count": 8,
     "metadata": {},
     "output_type": "execute_result"
    }
   ],
   "source": [
    "d2[0]"
   ]
  }
 ],
 "metadata": {
  "kernelspec": {
   "display_name": "vividbot",
   "language": "python",
   "name": "python3"
  },
  "language_info": {
   "codemirror_mode": {
    "name": "ipython",
    "version": 3
   },
   "file_extension": ".py",
   "mimetype": "text/x-python",
   "name": "python",
   "nbconvert_exporter": "python",
   "pygments_lexer": "ipython3",
   "version": "3.10.0"
  }
 },
 "nbformat": 4,
 "nbformat_minor": 2
}
