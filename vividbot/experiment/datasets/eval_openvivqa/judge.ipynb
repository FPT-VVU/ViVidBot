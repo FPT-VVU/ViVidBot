{
 "cells": [
  {
   "cell_type": "code",
   "execution_count": 1,
   "metadata": {},
   "outputs": [],
   "source": [
    "import json\n",
    "\n",
    "data = [json.loads(d) for d in open(\"openvivqa_submission.jsonl\")]"
   ]
  },
  {
   "cell_type": "code",
   "execution_count": 2,
   "metadata": {},
   "outputs": [
    {
     "data": {
      "text/plain": [
       "{'940': '940',\n",
       " 'question': '<image>\\nngười dân không được tụ tập quá bao nhiêu người ?',\n",
       " 'answer': '10 người',\n",
       " 'predicted': 'không'}"
      ]
     },
     "execution_count": 2,
     "metadata": {},
     "output_type": "execute_result"
    }
   ],
   "source": [
    "data[0]"
   ]
  },
  {
   "cell_type": "code",
   "execution_count": 5,
   "metadata": {},
   "outputs": [],
   "source": [
    "import os\n",
    "from pathlib import Path\n",
    "\n",
    "from langchain.globals import set_llm_cache\n",
    "from langchain.prompts import ChatPromptTemplate\n",
    "from langchain_community.cache import SQLiteCache\n",
    "from langchain_core.output_parsers import StrOutputParser\n",
    "from tqdm import tqdm\n",
    "\n",
    "from vividbot.data.task.vivid_instruct_65k.utils.llms import LLM\n",
    "\n",
    "os.makedirs(f\"{Path.home()}/.cache\", exist_ok=True)\n",
    "set_llm_cache(SQLiteCache(database_path=f\"{Path.home()}/.cache/.langchain.db\"))\n",
    "\n",
    "\n",
    "def get_generate_qa_pairs_chain():\n",
    "  return (\n",
    "    ChatPromptTemplate.from_messages(\n",
    "      [\n",
    "        (\n",
    "          \"system\",\n",
    "          \"Bạn là trợ lý đánh giá về độ chính xác của câu trả lời của một hệ thống AI. \"\n",
    "          \"Bạn được cung cấp một câu hỏi, một câu trả lời đúng và một câu trả lời dự đoán. \"\n",
    "          \"Nhiệm vụ của bạn là đánh giá xem câu trả lời dự đoán có đúng hay không. \"\n",
    "          \"Nếu câu trả lời dự đoán đúng, hãy trả lời 1. \"\n",
    "          \"Nếu câu trả lời dự đoán sai, hãy trả lời 0. \"\n",
    "          \"Chỉ cần trả lời 0 hoặc 1 mà không cần giải thích. \"\n",
    "          \"Ví dụ: Câu hỏi: Ai là người đầu tiên đặt chân lên mặt trăng? \"\n",
    "          \"Đáp án đúng: Neil Armstrong \"\n",
    "          \"Câu trả lời: Neil Armstrong\"\n",
    "          \"Trả lời: 1\"\n",
    "          \"Ví dụ 2: Câu hỏi: Ai là người đầu tiên đặt chân lên mặt trăng? \"\n",
    "          \"Đáp án đúng: Neil Armstrong \"\n",
    "          \"Câu trả lời: Buzz Aldrin\"\n",
    "          \"Trả lời: 0\",\n",
    "        ),\n",
    "        (\n",
    "          \"human\",\n",
    "          \"Câu hỏi: {question}\\n\\nĐáp án đúng: {answer}Câu trả lời: {predicted}\",\n",
    "        ),\n",
    "      ]\n",
    "    )\n",
    "    | LLM\n",
    "    | StrOutputParser()\n",
    "  )\n",
    "\n",
    "\n",
    "scores = []\n",
    "for d in tqdm(data):\n",
    "  chain = get_generate_qa_pairs_chain()\n",
    "  score = float(\n",
    "    chain.invoke(\n",
    "      {\n",
    "        \"question\": d[\"question\"].replace(\"<image>\", \"\").strip(),\n",
    "        \"answer\": d[\"answer\"],\n",
    "        \"predicted\": d[\"predicted\"],\n",
    "      }\n",
    "    )\n",
    "  )\n",
    "  scores.append({**d, \"score\": score})"
   ]
  },
  {
   "cell_type": "code",
   "execution_count": 7,
   "metadata": {},
   "outputs": [
    {
     "name": "stdout",
     "output_type": "stream",
     "text": [
      "Accuracy: 0.19\n"
     ]
    }
   ],
   "source": [
    "correct = sum(s[\"score\"] for s in scores)\n",
    "total = len(scores)\n",
    "accuracy = correct / total\n",
    "print(f\"Accuracy: {accuracy:.2f}\")"
   ]
  },
  {
   "cell_type": "code",
   "execution_count": 9,
   "metadata": {},
   "outputs": [],
   "source": [
    "with open(\"openvivqa_scores.jsonl\", \"w\") as f:\n",
    "  for s in scores:\n",
    "    f.write(json.dumps(s, ensure_ascii=False) + \"\\n\")"
   ]
  },
  {
   "cell_type": "code",
   "execution_count": 10,
   "metadata": {},
   "outputs": [],
   "source": [
    "corrects = [s for s in scores if s[\"score\"] == 1]"
   ]
  },
  {
   "cell_type": "code",
   "execution_count": 11,
   "metadata": {},
   "outputs": [
    {
     "data": {
      "text/plain": [
       "679"
      ]
     },
     "execution_count": 11,
     "metadata": {},
     "output_type": "execute_result"
    }
   ],
   "source": [
    "len(corrects)"
   ]
  },
  {
   "cell_type": "code",
   "execution_count": 36,
   "metadata": {},
   "outputs": [
    {
     "data": {
      "text/plain": [
       "{'12516': '12516',\n",
       " 'question': '<image>\\nnhà hàng ngưu phồn có mấy tầng ?',\n",
       " 'answer': 'nhà hàng có hai tầng',\n",
       " 'predicted': 'nhà hàng ngưu phồn có hai tầng',\n",
       " 'score': 1.0}"
      ]
     },
     "execution_count": 36,
     "metadata": {},
     "output_type": "execute_result"
    }
   ],
   "source": [
    "corrects[15]"
   ]
  }
 ],
 "metadata": {
  "kernelspec": {
   "display_name": "vividbot",
   "language": "python",
   "name": "python3"
  },
  "language_info": {
   "codemirror_mode": {
    "name": "ipython",
    "version": 3
   },
   "file_extension": ".py",
   "mimetype": "text/x-python",
   "name": "python",
   "nbconvert_exporter": "python",
   "pygments_lexer": "ipython3",
   "version": "3.10.0"
  }
 },
 "nbformat": 4,
 "nbformat_minor": 2
}
