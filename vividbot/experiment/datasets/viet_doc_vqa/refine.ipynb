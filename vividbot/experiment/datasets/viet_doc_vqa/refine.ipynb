{
 "cells": [
  {
   "cell_type": "code",
   "execution_count": 1,
   "metadata": {},
   "outputs": [],
   "source": [
    "import json\n",
    "from pathlib import Path\n",
    "\n",
    "data = json.load(open(f\"{Path.home()}/data/viet_doc_vqa_102k_all.json\"))"
   ]
  },
  {
   "cell_type": "code",
   "execution_count": 2,
   "metadata": {},
   "outputs": [
    {
     "data": {
      "text/plain": [
       "103712"
      ]
     },
     "execution_count": 2,
     "metadata": {},
     "output_type": "execute_result"
    }
   ],
   "source": [
    "len(data)"
   ]
  },
  {
   "cell_type": "code",
   "execution_count": 17,
   "metadata": {},
   "outputs": [],
   "source": [
    "longs = []\n",
    "for d in data:\n",
    "  total_word_count = 0\n",
    "  for i in range(0, len(d[\"conversations\"]), 2):\n",
    "    conv = d[\"conversations\"][i]\n",
    "    total_word_count += total_word_count + len(conv[\"value\"].split())\n",
    "    if total_word_count > 2000:\n",
    "      longs.append(d)\n",
    "      break\n",
    "    total_word_count += len(conv[\"value\"].split())"
   ]
  },
  {
   "cell_type": "code",
   "execution_count": 18,
   "metadata": {},
   "outputs": [
    {
     "data": {
      "text/plain": [
       "477"
      ]
     },
     "execution_count": 18,
     "metadata": {},
     "output_type": "execute_result"
    }
   ],
   "source": [
    "len(longs)"
   ]
  },
  {
   "cell_type": "code",
   "execution_count": 19,
   "metadata": {},
   "outputs": [
    {
     "data": {
      "text/plain": [
       "{'id': 425,\n",
       " 'image': 'images/425.jpeg',\n",
       " 'conversations': [{'from': 'human',\n",
       "   'value': 'Câu hỏi số 22 yêu cầu tìm tọa độ của vectơ  a + b với a = (3; -4), b = (-1; 2). Hãy giải thích cách tìm tọa độ của vectơ a + b và đưa ra đáp án chính xác.\\n<image>'},\n",
       "  {'from': 'gpt',\n",
       "   'value': 'Để tìm tọa độ của vectơ a + b, ta thực hiện phép cộng từng thành phần tương ứng của hai vectơ: \\n a + b = (3; -4) + (-1; 2) = (3 + (-1); -4 + 2) = (2; -2).\\n Vậy đáp án chính xác là (B) (2; -2).'},\n",
       "  {'from': 'human',\n",
       "   'value': 'Câu hỏi số 23 yêu cầu tìm tọa độ của vectơ a - b với a = (-1; 2), b = (5; -7). Hãy giải thích cách tìm tọa độ của vectơ a - b và đưa ra đáp án chính xác.'},\n",
       "  {'from': 'gpt',\n",
       "   'value': 'Để tìm tọa độ của vectơ a - b, ta thực hiện phép trừ từng thành phần tương ứng của hai vectơ:\\n a - b = (-1; 2) - (5; -7) = (-1 - 5; 2 - (-7)) = (-6; 9).\\n Vậy đáp án chính xác là (C) (-6; 9).'},\n",
       "  {'from': 'human',\n",
       "   'value': 'Câu hỏi số 24 yêu cầu xác định điều kiện để hai vectơ a = (-5; 0), b = (4; x) cùng phương. Hãy giải thích điều kiện để hai vectơ cùng phương và đưa ra đáp án chính xác.'},\n",
       "  {'from': 'gpt',\n",
       "   'value': 'Hai vectơ cùng phương khi và chỉ khi chúng cùng hướng hoặc ngược hướng. Điều kiện để hai vectơ cùng hướng hoặc ngược hướng là tỉ lệ của các tọa độ tương ứng của hai vectơ bằng nhau.  Trong trường hợp này, ta có: \\n (-5) / 4 = 0 / x.\\n Để phương trình trên có nghiệm, x phải bằng 0. \\n Vậy đáp án chính xác là (C) 0.'},\n",
       "  {'from': 'human',\n",
       "   'value': 'Câu hỏi số 26 yêu cầu xác định khẳng định đúng về vị trí điểm B trong tam giác ABC với A(1; 1), B(-2; -2), C(7; 7). Hãy giải thích lý do chọn khẳng định đúng.'},\n",
       "  {'from': 'gpt',\n",
       "   'value': 'Để xác định vị trí điểm B, ta có thể sử dụng công thức tính tọa độ trung điểm: \\n Tọa độ trung điểm của đoạn thẳng AB là:  ((1 + (-2)) / 2; (1 + (-2)) / 2) = (-1/2; -1/2). \\n Tọa độ trung điểm của đoạn thẳng BC là:  ((-2 + 7) / 2; (-2 + 7) / 2) = (5/2; 5/2). \\n Tọa độ trung điểm của đoạn thẳng AC là:  ((1 + 7) / 2; (1 + 7) / 2) = (4; 4). \\n Nhận thấy tọa độ trung điểm của đoạn thẳng AC là (4; 4) trùng với tọa độ của điểm C. Điều này cho thấy điểm C là trung điểm của đoạn thẳng AC. \\n Vậy khẳng định đúng là (C) Điểm A ở giữa hai điểm B và C.'},\n",
       "  {'from': 'human',\n",
       "   'value': 'Câu hỏi số 28 yêu cầu tìm tọa độ của điểm C trong tam giác ABC có trọng tâm là gốc tọa độ O, hai đỉnh A(-2; 2), B(3; 5). Hãy giải thích cách tìm tọa độ điểm C và đưa ra đáp án chính xác.'},\n",
       "  {'from': 'gpt',\n",
       "   'value': 'Trọng tâm G của tam giác ABC có tọa độ là trung bình cộng của tọa độ ba đỉnh: \\n G = ((-2 + 3 + x) / 3; (2 + 5 + y) / 3) = (0; 0). \\n Từ đó ta có hệ phương trình: \\n (-2 + 3 + x) / 3 = 0\\n (2 + 5 + y) / 3 = 0\\n Giải hệ phương trình, ta được x = -1 và y = -7. \\n Vậy tọa độ của điểm C là (-1; -7). \\n Đáp án chính xác là (A) (-1; -7).'}]}"
      ]
     },
     "execution_count": 19,
     "metadata": {},
     "output_type": "execute_result"
    }
   ],
   "source": [
    "longs[0]"
   ]
  },
  {
   "cell_type": "code",
   "execution_count": 40,
   "metadata": {},
   "outputs": [],
   "source": [
    "new_data = []\n",
    "\n",
    "for d in data:\n",
    "  d_copy = d.copy()\n",
    "  new_conv = []\n",
    "  for i in range(0, len(d[\"conversations\"]), 2):\n",
    "    conv = d[\"conversations\"][i : i + 2]\n",
    "    conv[0][\"value\"] = conv[0][\"value\"].strip()\n",
    "    conv[1][\"value\"] = conv[1][\"value\"].strip()\n",
    "    if (\n",
    "      len(conv[1][\"value\"].split(\" \")) > 3\n",
    "      and len(conv[1][\"value\"].split(\" \")) < 180\n",
    "      and len(conv[0][\"value\"].split(\" \")) > 2\n",
    "      and len(conv[0][\"value\"].split(\" \")) < 40\n",
    "    ):\n",
    "      new_conv.extend(conv)\n",
    "  if len(new_conv) > 0:\n",
    "    d_copy[\"conversations\"] = []\n",
    "    total_word_count = 0\n",
    "    for i in range(0, len(new_conv), 2):\n",
    "      try:\n",
    "        total_word_count += total_word_count + len(new_conv[i][\"value\"].split(\" \"))\n",
    "        if total_word_count <= 2000:\n",
    "          d_copy[\"conversations\"].extend(new_conv[i : i + 2])\n",
    "        total_word_count += len(new_conv[i + 1][\"value\"].split(\" \"))\n",
    "      except:\n",
    "        pass\n",
    "    new_data.append(d_copy)"
   ]
  },
  {
   "cell_type": "code",
   "execution_count": 41,
   "metadata": {},
   "outputs": [
    {
     "data": {
      "text/plain": [
       "79135"
      ]
     },
     "execution_count": 41,
     "metadata": {},
     "output_type": "execute_result"
    }
   ],
   "source": [
    "len(new_data)"
   ]
  },
  {
   "cell_type": "code",
   "execution_count": 42,
   "metadata": {},
   "outputs": [],
   "source": [
    "sorted_new_data = sorted(\n",
    "  new_data,\n",
    "  key=lambda x: sum(\n",
    "    [\n",
    "      sum([len(x[\"value\"].split(\" \")) for x in x[\"conversations\"][:j]])\n",
    "      for j in range(1, len(x[\"conversations\"]) + 1)\n",
    "    ]\n",
    "  ),\n",
    "  reverse=True,\n",
    ")"
   ]
  },
  {
   "cell_type": "code",
   "execution_count": 43,
   "metadata": {},
   "outputs": [
    {
     "data": {
      "text/plain": [
       "{'id': 42311,\n",
       " 'image': 'images/42311.jpeg',\n",
       " 'conversations': [{'from': 'human',\n",
       "   'value': '<image>\\nHãy nêu các hệ sinh thái chủ yếu trên Trái Đất, lấy ví dụ'},\n",
       "  {'from': 'gpt',\n",
       "   'value': 'Trên Trái Đất, các hệ sinh thái chủ yếu bao gồm: hệ sinh thái rừng, hệ sinh thái biển, hệ sinh thái vùng  nghiệp... Trong đó:\\n- Hệ sinh thái rừng:  Bao gồm rừng nhiệt đới, rừng ôn đới, rừng lá kim, rừng ngập mặn, ...\\n- Hệ sinh thái biển: Bao gồm các hệ sinh thái như rạn san hô, rừng rong biển, vùng nước nông, vùng nước sâu, ...\\n- Hệ sinh thái vùng  nghiệp: Bao gồm các hệ sinh thái như đồng bằng, đồi núi, ...'},\n",
       "  {'from': 'human',\n",
       "   'value': 'Vì sao cần bảo vệ hệ sinh thái rừng? Nêu biện pháp bảo vệ hệ sinh thái rừng?'},\n",
       "  {'from': 'gpt',\n",
       "   'value': 'Cần bảo vệ hệ sinh thái rừng bởi vì rừng đóng vai trò quan trọng đối với sự sống của con người và các loài sinh vật trên Trái Đất. Rừng có vai trò: \\n- Cung cấp oxy, điều hòa khí hậu, bảo vệ môi trường.\\n- Là nơi cư trú của nhiều loài động thực vật, góp phần bảo vệ đa dạng sinh học.\\n- Ngăn chặn xói mòn, sạt lở, bảo vệ nguồn nước, giữ đất.\\n- Cung cấp nguồn gỗ, dược liệu, thực phẩm... phục vụ đời sống con người.\\n- Giúp bảo vệ cảnh quan, tạo môi trường du lịch sinh thái.\\n\\nĐể bảo vệ hệ sinh thái rừng cần thực hiện các biện pháp:\\n-  Nghiêm cấm khai thác rừng bừa bãi, khai thác rừng theo kế hoạch, khoa học.\\n- Phát triển trồng rừng, trồng cây gây rừng, phục hồi rừng.\\n- Bảo vệ rừng khỏi cháy rừng, sâu bệnh.\\n- Tuyên truyền, giáo dục nâng cao ý thức bảo vệ rừng cho người dân.'},\n",
       "  {'from': 'human',\n",
       "   'value': 'Hãy chứng minh rằng nước ta là nước có hệ sinh thái nông nghiệp phong phú. Cần làm gì để bảo vệ sự phong phú của các hệ sinh thái đó?'},\n",
       "  {'from': 'gpt',\n",
       "   'value': 'Nước ta nằm trong vùng nhiệt đới gió mùa, có hệ sinh thái đa dạng và phong phú với nhiều loại cây trồng, vật nuôi, tạo điều kiện thuận lợi cho phát triển nông nghiệp.  \\n- Hệ sinh thái nông nghiệp ở nước ta có sự đa dạng về các loại cây trồng, vật nuôi.  \\n- Nước ta có nhiều vùng đất phù sa màu mỡ, điều kiện khí hậu thuận lợi cho việc canh tác nông nghiệp. \\n- Nước ta có nhiều giống cây trồng, vật nuôi bản địa có giá trị kinh tế cao. \\nĐể bảo vệ sự phong phú của các hệ sinh thái nông nghiệp, cần thực hiện các biện pháp:\\n- Bảo vệ đất đai, hạn chế ô nhiễm môi trường đất, nước, không khí.\\n- Khuyến khích sử dụng các giống cây trồng, vật nuôi bản địa, hạn chế sử dụng các giống biến đổi gen.\\n- Thực hiện canh tác nông nghiệp theo hướng bền vững, bảo vệ đa dạng sinh học, bảo vệ môi trường.'},\n",
       "  {'from': 'human',\n",
       "   'value': 'Hãy chứng minh về sức mạnh tài nguyên của hệ sinh thái nông nghiệp phong phú. Cần làm gì để bảo vệ sự phong phú của các hệ sinh thái đó?'},\n",
       "  {'from': 'gpt',\n",
       "   'value': 'Hệ sinh thái nông nghiệp phong phú là nguồn lực to lớn cho phát triển kinh tế và đời sống của con người. Nó góp phần tạo ra sản phẩm nông nghiệp dồi dào, cung cấp thực phẩm, nguyên liệu cho ngành công nghiệp chế biến, góp phần tạo ra việc làm, thu nhập cho người dân.  \\nĐể bảo vệ sự phong phú của hệ sinh thái nông nghiệp, cần thực hiện các biện pháp:\\n- Bảo vệ đất đai, hạn chế ô nhiễm môi trường đất, nước, không khí.\\n- Khuyến khích sử dụng các giống cây trồng, vật nuôi bản địa, hạn chế sử dụng các giống biến đổi gen.\\n- Thực hiện canh tác nông nghiệp theo hướng bền vững, bảo vệ đa dạng sinh học, bảo vệ môi trường.'}]}"
      ]
     },
     "execution_count": 43,
     "metadata": {},
     "output_type": "execute_result"
    }
   ],
   "source": [
    "sorted_new_data[0]"
   ]
  },
  {
   "cell_type": "code",
   "execution_count": 44,
   "metadata": {},
   "outputs": [],
   "source": [
    "new_data = sorted(new_data, key=lambda x: x[\"id\"])"
   ]
  },
  {
   "cell_type": "code",
   "execution_count": 45,
   "metadata": {},
   "outputs": [],
   "source": [
    "with open(f\"{Path.home()}/data/viet_doc_vqa.json\", \"w\") as f:\n",
    "  json.dump(new_data, f, ensure_ascii=False, indent=2)"
   ]
  },
  {
   "cell_type": "code",
   "execution_count": 21,
   "metadata": {},
   "outputs": [],
   "source": [
    "longs = []\n",
    "for d in new_data:\n",
    "  total_word_count = 0\n",
    "  for i in range(0, len(d[\"conversations\"]), 2):\n",
    "    conv = d[\"conversations\"][i]\n",
    "    total_word_count += total_word_count + len(conv[\"value\"].split())\n",
    "    if total_word_count > 2000:\n",
    "      longs.append(d)\n",
    "      break\n",
    "    total_word_count += len(conv[\"value\"].split())"
   ]
  },
  {
   "cell_type": "code",
   "execution_count": 2,
   "metadata": {},
   "outputs": [],
   "source": [
    "import json\n",
    "from pathlib import Path\n",
    "\n",
    "data = json.load(open(f\"{Path.home()}/data/viet_doc_vqa.json\"))"
   ]
  },
  {
   "cell_type": "code",
   "execution_count": 3,
   "metadata": {},
   "outputs": [
    {
     "data": {
      "text/plain": [
       "79135"
      ]
     },
     "execution_count": 3,
     "metadata": {},
     "output_type": "execute_result"
    }
   ],
   "source": [
    "len(data)"
   ]
  },
  {
   "cell_type": "code",
   "execution_count": 5,
   "metadata": {},
   "outputs": [],
   "source": [
    "data = [{**d, \"path\": \"Vividbot/viet-doc-vqa/images\"} for d in data]"
   ]
  },
  {
   "cell_type": "code",
   "execution_count": 6,
   "metadata": {},
   "outputs": [],
   "source": [
    "with open(f\"{Path.home()}/data/viet_doc_vqa.json\", \"w\") as f:\n",
    "  json.dump(data, f, ensure_ascii=False, indent=2)"
   ]
  },
  {
   "cell_type": "code",
   "execution_count": 7,
   "metadata": {},
   "outputs": [],
   "source": [
    "data2 = json.load(open(f\"{Path.home()}/data/viet_doc_vqa.json\"))"
   ]
  },
  {
   "cell_type": "code",
   "execution_count": 8,
   "metadata": {},
   "outputs": [
    {
     "data": {
      "text/plain": [
       "{'id': 0,\n",
       " 'image': 'images/0.jpeg',\n",
       " 'conversations': [{'from': 'human',\n",
       "   'value': 'Cuốn sách trong ảnh thuộc bộ môn học nào?\\n<image>'},\n",
       "  {'from': 'gpt', 'value': 'Cuốn sách trong ảnh thuộc bộ môn Ngữ văn.'},\n",
       "  {'from': 'human', 'value': 'Cuốn sách dành cho học sinh lớp nào?'},\n",
       "  {'from': 'gpt', 'value': 'Cuốn sách dành cho học sinh lớp 12.'},\n",
       "  {'from': 'human', 'value': 'Cuốn sách được in lần thứ mấy?'},\n",
       "  {'from': 'gpt', 'value': 'Cuốn sách được in lần thứ ba.'},\n",
       "  {'from': 'human',\n",
       "   'value': 'Ai là người chủ biên phần tiếng Việt của cuốn sách?'},\n",
       "  {'from': 'gpt',\n",
       "   'value': 'Bùi Minh Toàn là người chủ biên phần tiếng Việt của cuốn sách.'},\n",
       "  {'from': 'human', 'value': 'Cuốn sách do đơn vị nào xuất bản?'},\n",
       "  {'from': 'gpt',\n",
       "   'value': 'Cuốn sách được xuất bản bởi Nhà xuất bản Giáo dục Việt Nam.'}],\n",
       " 'path': 'Vividbot/viet-doc-vqa/images'}"
      ]
     },
     "execution_count": 8,
     "metadata": {},
     "output_type": "execute_result"
    }
   ],
   "source": [
    "data2[0]"
   ]
  }
 ],
 "metadata": {
  "kernelspec": {
   "display_name": "vividbot",
   "language": "python",
   "name": "python3"
  },
  "language_info": {
   "codemirror_mode": {
    "name": "ipython",
    "version": 3
   },
   "file_extension": ".py",
   "mimetype": "text/x-python",
   "name": "python",
   "nbconvert_exporter": "python",
   "pygments_lexer": "ipython3",
   "version": "3.10.0"
  }
 },
 "nbformat": 4,
 "nbformat_minor": 2
}
