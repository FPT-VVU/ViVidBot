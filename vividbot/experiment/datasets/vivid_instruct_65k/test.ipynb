{
 "cells": [
  {
   "cell_type": "code",
   "execution_count": 1,
   "metadata": {},
   "outputs": [],
   "source": [
    "from datasets import load_dataset"
   ]
  },
  {
   "cell_type": "code",
   "execution_count": 5,
   "metadata": {},
   "outputs": [
    {
     "data": {
      "application/vnd.jupyter.widget-view+json": {
       "model_id": "1064a798f3d94ccba0a6fbd1d7bc49dc",
       "version_major": 2,
       "version_minor": 0
      },
      "text/plain": [
       "Generating train split: 0 examples [00:00, ? examples/s]"
      ]
     },
     "metadata": {},
     "output_type": "display_data"
    }
   ],
   "source": [
    "data = load_dataset(\n",
    "  \"json\",\n",
    "  data_files=\"./vividbot/notebooks/vivid_instruct_65k/data/vivid_instruct_65k_unprocessed.jsonl\",\n",
    ")"
   ]
  },
  {
   "cell_type": "code",
   "execution_count": 8,
   "metadata": {},
   "outputs": [
    {
     "name": "stdout",
     "output_type": "stream",
     "text": [
      "{'id': 'w2CHbo08N9E', 'category': 'Food', 'duration': 518}\n"
     ]
    }
   ],
   "source": [
    "for row in data[\"train\"]:\n",
    "  print(row)\n",
    "  break"
   ]
  },
  {
   "cell_type": "code",
   "execution_count": 8,
   "metadata": {},
   "outputs": [],
   "source": [
    "import anthropic\n",
    "import os\n",
    "\n",
    "GENERATE_QA_PROMPT = \"\"\"Generate 5 different pairs of questions and answers in JSON format based on the description of the video (in which the description is generated for person without vision can fully understand it).\n",
    "The questions should be relevant to the video content and the answers should be correct.\n",
    "Also, diversify the types of questions and answers as much as possible.\n",
    "Remember to use Vietnamese language to generate the questions and answers.\n",
    "Examples of questions (do not need to follow the order and these are just examples):\n",
    "- What's the video about?\n",
    "- What are key points in the video?\n",
    "- What is the color of the object?\n",
    "- What is the person doing?\n",
    "- What is the person in the video holding and what are its characteristics?\n",
    "- How does the person in the video look?\n",
    "- What is the position of the object in the video?\n",
    "And more questions that can be asked about the video content (what, where, when, why, how, etc.) with varying levels of complexity.\n",
    "All questions should be relevant to the video content and the answers should be FULLY informative and correct. The answer should be a complete sentence or a complete phrase.\n",
    "Only return the list of pair of questions and answers in the following JSON format:\n",
    "[{\"question\":\"Q1\",\"answer\":\"A1\"},{\"question\":\"Q2\",\"answer\":\"A2\"},...]\n",
    "Your response should be only the JSON list without narrative or additional information.\n",
    "\"\"\"\n",
    "\n",
    "anthropic_client = anthropic.Anthropic(\n",
    "  api_key=os.getenv(\"ANTHROPIC_API_KEY\"),\n",
    ")\n",
    "\n",
    "message = anthropic_client.messages.create(\n",
    "  model=\"claude-3-haiku-20240307\",\n",
    "  system=GENERATE_QA_PROMPT,\n",
    "  messages=[\n",
    "    {\n",
    "      \"role\": \"user\",\n",
    "      \"content\": \"VIDEO CONTENT: Video này có hình ảnh một người phụ nữ mang thai đang mở tủ lạnh. Trong tủ lạnh có rất nhiều trái cây và rau củ. Người phụ nữ đang cầm một củ cà rốt. Bên cạnh tủ lạnh là một người phụ nữ khác đang đeo mặt nạ.\",\n",
    "    },\n",
    "  ],\n",
    "  stream=False,\n",
    "  max_tokens=4096,\n",
    "  temperature=1,\n",
    ")"
   ]
  },
  {
   "cell_type": "code",
   "execution_count": 12,
   "metadata": {},
   "outputs": [
    {
     "name": "stdout",
     "output_type": "stream",
     "text": [
      "[\n",
      "  {\n",
      "    \"question\": \"Người phụ nữ đang làm gì trong video?\",\n",
      "    \"answer\": \"Người phụ nữ mang thai đang mở tủ lạnh và cầm một củ cà rốt.\"\n",
      "  },\n",
      "  {\n",
      "    \"question\": \"Trong tủ lạnh có gì?\",\n",
      "    \"answer\": \"Trong tủ lạnh có rất nhiều trái cây và rau củ.\"\n",
      "  },\n",
      "  {\n",
      "    \"question\": \"Ai đang đứng bên cạnh tủ lạnh?\",\n",
      "    \"answer\": \"Bên cạnh tủ lạnh là một người phụ nữ khác đang đeo mặt nạ.\"\n",
      "  },\n",
      "  {\n",
      "    \"question\": \"Người phụ nữ đang cầm vật gì?\",\n",
      "    \"answer\": \"Người phụ nữ đang cầm một củ cà rốt.\"\n",
      "  },\n",
      "  {\n",
      "    \"question\": \"Người phụ nữ trong video có điều gì đặc biệt?\",\n",
      "    \"answer\": \"Người phụ nữ trong video là người mang thai.\"\n",
      "  }\n",
      "]\n"
     ]
    }
   ],
   "source": [
    "print(message.content[0].text)"
   ]
  }
 ],
 "metadata": {
  "kernelspec": {
   "display_name": "Python 3",
   "language": "python",
   "name": "python3"
  },
  "language_info": {
   "codemirror_mode": {
    "name": "ipython",
    "version": 3
   },
   "file_extension": ".py",
   "mimetype": "text/x-python",
   "name": "python",
   "nbconvert_exporter": "python",
   "pygments_lexer": "ipython3",
   "version": "3.10.12"
  }
 },
 "nbformat": 4,
 "nbformat_minor": 2
}
