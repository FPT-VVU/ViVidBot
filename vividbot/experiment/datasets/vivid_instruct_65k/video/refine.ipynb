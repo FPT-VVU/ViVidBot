{
 "cells": [
  {
   "cell_type": "code",
   "execution_count": 1,
   "metadata": {},
   "outputs": [],
   "source": [
    "import json\n",
    "from pathlib import Path\n",
    "\n",
    "data = json.load(open(f\"{Path.home()}/data/vivid_video_instruct_125k_all.json\"))"
   ]
  },
  {
   "cell_type": "code",
   "execution_count": 76,
   "metadata": {},
   "outputs": [
    {
     "data": {
      "text/plain": [
       "{'id': '01gE8ErrcJ4.0',\n",
       " 'video': 'shard_0/01gE8ErrcJ4.0.mp4',\n",
       " 'conversations': [{'from': 'human',\n",
       "   'value': '<video>\\nMô tả cụ thể các hành động, nhân vật và bối cảnh xuất hiện trong video.'},\n",
       "  {'from': 'gpt',\n",
       "   'value': 'Video bắt đầu với hình ảnh một phổi được mô tả bằng hình ảnh 3D. Phổi được mô tả với nhiều màu sắc khác nhau. Sau đó, video chuyển sang hình ảnh mô tả cấu trúc của phổi với nhiều túi khí nhỏ.'}]}"
      ]
     },
     "execution_count": 76,
     "metadata": {},
     "output_type": "execute_result"
    }
   ],
   "source": [
    "sorted(data, key=lambda x: x[\"video\"])[0]"
   ]
  },
  {
   "cell_type": "code",
   "execution_count": 6,
   "metadata": {},
   "outputs": [],
   "source": [
    "longs = [x for x in data if len(x[\"conversations\"]) > 2 * 3]\n",
    "shorts = [x for x in data if len(x[\"conversations\"]) <= 2 * 3]"
   ]
  },
  {
   "cell_type": "code",
   "execution_count": 33,
   "metadata": {},
   "outputs": [],
   "source": [
    "superlongs = []\n",
    "\n",
    "for i in range(0, 10000):\n",
    "  # total word count incrementally of all conversations, i.e. 1st, 1st+2nd, 1st+2nd+3rd, etc.\n",
    "\n",
    "  total_word_count = sum(\n",
    "    [\n",
    "      sum([len(x[\"value\"].split(\" \")) for x in data[i][\"conversations\"][:j]])\n",
    "      for j in range(1, len(data[i][\"conversations\"]) + 1)\n",
    "    ]\n",
    "  )\n",
    "  if total_word_count > 5000:\n",
    "    superlongs.append((i, len(data[i][\"conversations\"]), data[i][\"conversations\"]))"
   ]
  },
  {
   "cell_type": "code",
   "execution_count": 38,
   "metadata": {},
   "outputs": [],
   "source": [
    "sorted_data = sorted(\n",
    "  data,\n",
    "  key=lambda x: sum(\n",
    "    [\n",
    "      sum([len(x[\"value\"].split(\" \")) for x in x[\"conversations\"][:j]])\n",
    "      for j in range(1, len(x[\"conversations\"]) + 1)\n",
    "    ]\n",
    "  ),\n",
    "  reverse=True,\n",
    ")"
   ]
  },
  {
   "cell_type": "code",
   "execution_count": 40,
   "metadata": {},
   "outputs": [
    {
     "data": {
      "text/plain": [
       "125884"
      ]
     },
     "execution_count": 40,
     "metadata": {},
     "output_type": "execute_result"
    }
   ],
   "source": [
    "len(sorted_data)"
   ]
  },
  {
   "cell_type": "code",
   "execution_count": 34,
   "metadata": {},
   "outputs": [
    {
     "data": {
      "text/plain": [
       "1"
      ]
     },
     "execution_count": 34,
     "metadata": {},
     "output_type": "execute_result"
    }
   ],
   "source": [
    "len(superlongs)"
   ]
  },
  {
   "cell_type": "code",
   "execution_count": 35,
   "metadata": {},
   "outputs": [
    {
     "data": {
      "text/plain": [
       "[(8471,\n",
       "  20,\n",
       "  [{'from': 'human', 'value': 'Video này nói về chủ đề gì?\\n<video>'},\n",
       "   {'from': 'gpt',\n",
       "    'value': 'Video này thảo luận về lý thuyết rằng các kim tự tháp ở Giza được xây dựng như một nguồn năng lượng khổng lồ, sử dụng các thuộc tính của vật liệu chúng được xây dựng để tạo ra và truyền tải năng lượng.'},\n",
       "   {'from': 'human', 'value': 'Kim tự tháp Giza được căn chỉnh với cái gì?'},\n",
       "   {'from': 'gpt',\n",
       "    'value': 'Video bắt đầu bằng việc nêu bật sự căn chỉnh chính xác của ba kim tự tháp với vành đai của chòm sao Orion, gợi ý về mối liên hệ giữa các kim tự tháp và các thiên thể.'},\n",
       "   {'from': 'human',\n",
       "    'value': 'Tại sao đá vôi trắng Tura lại quan trọng trong việc xây dựng kim tự tháp?'},\n",
       "   {'from': 'gpt',\n",
       "    'value': 'Đá vôi trắng Tura được sử dụng cho lớp vỏ ngoài của các kim tự tháp, đóng vai trò như một chất cách điện, ngăn ngừa sự mất năng lượng từ cấu trúc.'},\n",
       "   {'from': 'human',\n",
       "    'value': 'Cấu trúc bên trong của kim tự tháp bao gồm những vật liệu gì?'},\n",
       "   {'from': 'gpt',\n",
       "    'value': 'Bên trong kim tự tháp, một loại đá vôi khác giàu tinh thể thạch anh và granite đã được sử dụng, các vật liệu này nổi tiếng với tính dẫn điện của chúng, cho thấy vai trò của chúng trong việc dẫn năng lượng bên trong kim tự tháp.'},\n",
       "   {'from': 'human',\n",
       "    'value': 'Các đường hầm bằng granite trong kim tự tháp được cho là có chức năng gì?'},\n",
       "   {'from': 'gpt',\n",
       "    'value': 'Video cho rằng các đường hầm làm bằng granite trong kim tự tháp không được xây dựng để thông gió, mà được thiết kế để ion hóa không khí bên trong cấu trúc, tăng cường khả năng dẫn năng lượng.'},\n",
       "   {'from': 'human', 'value': 'Video so sánh kim tự tháp với cái gì?'},\n",
       "   {'from': 'gpt',\n",
       "    'value': 'Video so sánh các kim tự tháp như những cáp điện khổng lồ, với lõi granite hoạt động như một chất dẫn điện và lớp vỏ đá vôi như một chất cách điện.'},\n",
       "   {'from': 'human',\n",
       "    'value': 'Nước ngầm có vai trò gì trong lý thuyết năng lượng của kim tự tháp?'},\n",
       "   {'from': 'gpt',\n",
       "    'value': 'Video kết luận rằng các kim tự tháp được xây dựng trên các nguồn nước ngầm, và khi nước này được bơm lên mặt đất, nó có thể tương tác với các thuộc tính dẫn năng lượng của các kim tự tháp để truyền tải năng lượng không dây.'},\n",
       "   {'from': 'human',\n",
       "    'value': 'Ai là người sáng lập ra ý tưởng truyền tải năng lượng không dây liên quan đến kim tự tháp?'},\n",
       "   {'from': 'gpt',\n",
       "    'value': 'Video đề cập đến Nikola Tesla, người đã thiết kế Tháp Wardenclyffe với mục đích truyền tải năng lượng không dây, và đưa ra sự tương đồng giữa tháp này với các kim tự tháp.'},\n",
       "   {'from': 'human',\n",
       "    'value': 'Video này sử dụng những phương tiện gì để trình bày thông tin?'},\n",
       "   {'from': 'gpt',\n",
       "    'value': 'Video sử dụng hình ảnh được tạo ra bằng máy tính, phim tư liệu lịch sử và bình luận từ các chuyên gia để trình bày lập luận của mình.'},\n",
       "   {'from': 'human',\n",
       "    'value': 'Lý thuyết về mục đích của các kim tự tháp có phải là một chủ đề gây tranh cãi không?'},\n",
       "   {'from': 'gpt',\n",
       "    'value': 'Có, video nhấn mạnh rằng đây chỉ là một trong nhiều lý thuyết về mục đích của các kim tự tháp, và nó vẫn là một chủ đề gây tranh cãi giữa các học giả.'}])]"
      ]
     },
     "execution_count": 35,
     "metadata": {},
     "output_type": "execute_result"
    }
   ],
   "source": [
    "superlongs"
   ]
  },
  {
   "cell_type": "code",
   "execution_count": 110,
   "metadata": {},
   "outputs": [],
   "source": [
    "new_data = []\n",
    "\n",
    "for d in data:\n",
    "  d_copy = d.copy()\n",
    "  new_conv = []\n",
    "  for i in range(0, len(d[\"conversations\"]), 2):\n",
    "    conv = d[\"conversations\"][i : i + 2]\n",
    "    conv[0][\"value\"] = conv[0][\"value\"].strip()\n",
    "    conv[1][\"value\"] = conv[1][\"value\"].strip()\n",
    "    if len(conv[1][\"value\"].split(\" \")) > 10:\n",
    "      new_conv.extend(conv)\n",
    "  if len(new_conv) > 0:\n",
    "    d_copy[\"conversations\"] = new_conv[:6]\n",
    "    new_data.append(d_copy)"
   ]
  },
  {
   "cell_type": "code",
   "execution_count": 111,
   "metadata": {},
   "outputs": [
    {
     "data": {
      "text/plain": [
       "121054"
      ]
     },
     "execution_count": 111,
     "metadata": {},
     "output_type": "execute_result"
    }
   ],
   "source": [
    "len(new_data)"
   ]
  },
  {
   "cell_type": "code",
   "execution_count": 106,
   "metadata": {},
   "outputs": [
    {
     "data": {
      "text/plain": [
       "{'id': 'z3X29hqSTGQ.8',\n",
       " 'video': 'shard_99/z3X29hqSTGQ.8.mp4',\n",
       " 'conversations': [{'from': 'human',\n",
       "   'value': 'Video bắt đầu bằng hình ảnh gì?\\n<video>'},\n",
       "  {'from': 'gpt',\n",
       "   'value': 'Video bắt đầu bằng hình ảnh một nhà máy nhiệt điện với những cột khói cao ngất, bao phủ bầu trời trong làn khói mờ ảo.'},\n",
       "  {'from': 'human',\n",
       "   'value': 'Tác động của năng lượng than đá đến môi trường là gì?'},\n",
       "  {'from': 'gpt',\n",
       "   'value': 'Không được đề cập trực tiếp trong video, nhưng hình ảnh khói mờ ảo bao phủ bầu trời ngụ ý tác động tiêu cực đến môi trường.'},\n",
       "  {'from': 'human', 'value': 'Video kết thúc bằng hình ảnh gì?'},\n",
       "  {'from': 'gpt',\n",
       "   'value': 'Video kết thúc bằng hình ảnh một thành phố hiện đại với những tòa nhà cao tầng và dòng sông êm đềm.'}]}"
      ]
     },
     "execution_count": 106,
     "metadata": {},
     "output_type": "execute_result"
    }
   ],
   "source": [
    "new_data[1]"
   ]
  },
  {
   "cell_type": "code",
   "execution_count": 99,
   "metadata": {},
   "outputs": [],
   "source": [
    "sorted_new_data = sorted(\n",
    "  new_data,\n",
    "  key=lambda x: sum(\n",
    "    [\n",
    "      sum([len(x[\"value\"].split(\" \")) for x in x[\"conversations\"][:j]])\n",
    "      for j in range(1, len(x[\"conversations\"]) + 1)\n",
    "    ]\n",
    "  ),\n",
    "  reverse=True,\n",
    ")"
   ]
  },
  {
   "cell_type": "code",
   "execution_count": 100,
   "metadata": {},
   "outputs": [
    {
     "data": {
      "text/plain": [
       "{'id': '1uzz3-v_OtE.5',\n",
       " 'video': 'shard_47/1uzz3-v_OtE.5.mp4',\n",
       " 'conversations': [{'from': 'human',\n",
       "   'value': '<video>\\nNội dung của video là gì?'},\n",
       "  {'from': 'gpt',\n",
       "   'value': 'Video bắt đầu với hình ảnh một nhân vật nữ trong game đang đứng trước một cái bàn, sau đó chuyển sang hình ảnh một thành phố với một đài phun nước ở giữa. Tiếp theo là hình ảnh một nhân vật nữ trong game đang đi trên một con đường, rồi đến hình ảnh nhân vật nữ đó đang chiến đấu với một đàn chim. Cuối cùng, video còn hiển thị các hình ảnh khác như một ứng dụng game trên điện thoại, một người đàn ông ném vật thể vào thùng rác, một túi rác có vật thể màu vàng bên trong, một nhân vật nữ trong game với chiếc mũ hề, một bức tranh biếm họa, hai phụ nữ trẻ nói chuyện trước máy quay, và một meme với một người đàn ông đầu trọc mặc đồng phục cảnh sát.'},\n",
       "  {'from': 'human', 'value': 'Trong video, có những đối tượng chính nào?'},\n",
       "  {'from': 'gpt',\n",
       "   'value': 'Các đối tượng chính trong video bao gồm một nhân vật nữ trong game, một thành phố với đài phun nước, một đàn chim, một ứng dụng game trên điện thoại, một người đàn ông ném vật thể vào thùng rác, một túi rác có vật thể màu vàng bên trong, một nhân vật nữ trong game với chiếc mũ hề, một bức tranh biếm họa, hai phụ nữ trẻ nói chuyện trước máy quay, và một meme với một người đàn ông đầu trọc mặc đồng phục cảnh sát.'},\n",
       "  {'from': 'human', 'value': 'Vật thể màu vàng trong túi rác là gì?'},\n",
       "  {'from': 'gpt',\n",
       "   'value': 'Video không cung cấp thông tin cụ thể về vật thể màu vàng bên trong túi rác, nhưng ta có thể đoán đó có thể là một vật dụng hoặc đồ vật nào đó.'}]}"
      ]
     },
     "execution_count": 100,
     "metadata": {},
     "output_type": "execute_result"
    }
   ],
   "source": [
    "sorted_new_data[0]"
   ]
  },
  {
   "cell_type": "code",
   "execution_count": 63,
   "metadata": {},
   "outputs": [],
   "source": [
    "new_data = [\n",
    "  {**x, \"conversations\": x[\"conversations\"][:6]}\n",
    "  for x in sorted_data\n",
    "  if len(x[\"conversations\"][1][\"value\"].split(\" \")) > 10\n",
    "]"
   ]
  },
  {
   "cell_type": "code",
   "execution_count": 112,
   "metadata": {},
   "outputs": [],
   "source": [
    "new_data = sorted(new_data, key=lambda x: x[\"video\"])"
   ]
  },
  {
   "cell_type": "code",
   "execution_count": 113,
   "metadata": {},
   "outputs": [
    {
     "data": {
      "text/plain": [
       "121054"
      ]
     },
     "execution_count": 113,
     "metadata": {},
     "output_type": "execute_result"
    }
   ],
   "source": [
    "len(new_data)"
   ]
  },
  {
   "cell_type": "code",
   "execution_count": 115,
   "metadata": {},
   "outputs": [],
   "source": [
    "with open(f\"{Path.home()}/data/vivid_video_instruct_121k_all.json\", \"w\") as f:\n",
    "  json.dump(new_data, f, indent=2, ensure_ascii=False)"
   ]
  },
  {
   "cell_type": "code",
   "execution_count": 66,
   "metadata": {},
   "outputs": [],
   "source": [
    "sorted_new_data = sorted(\n",
    "  new_data,\n",
    "  key=lambda x: sum(\n",
    "    [\n",
    "      sum([len(x[\"value\"].split(\" \")) for x in x[\"conversations\"][:j]])\n",
    "      for j in range(1, len(x[\"conversations\"]) + 1)\n",
    "    ]\n",
    "  ),\n",
    "  reverse=True,\n",
    ")"
   ]
  },
  {
   "cell_type": "code",
   "execution_count": 74,
   "metadata": {},
   "outputs": [
    {
     "data": {
      "text/plain": [
       "(975,\n",
       " {'id': 'KRsrPnVGVkE.5',\n",
       "  'video': 'shard_59/KRsrPnVGVkE.5.mp4',\n",
       "  'conversations': [{'from': 'human',\n",
       "    'value': '<video>\\nHình ảnh minh họa cho podcast này là gì?'},\n",
       "   {'from': 'gpt',\n",
       "    'value': 'Hình ảnh là một căn phòng với một chiếc ghế sofa màu xanh lá cây có đệm sọc trắng và xanh lá cây, trên bàn cạnh ghế sofa có một chậu cây nhỏ, bên cạnh bàn là một chiếc bàn nhỏ khác có một chậu cây nhỏ khác, ở góc trên bên phải của hình ảnh là một chiếc điện thoại thông minh màu xanh lá cây với một biểu tượng phát màu trắng, trên màn hình điện thoại là một hình ảnh minh họa cho một podcast với một cô gái đang đọc sách, ở góc trên bên trái của hình ảnh là một dòng chữ màu xanh dương \"Tối giản\" và một dòng chữ màu xanh dương \"Tối ưu\" ở bên dưới, ở giữa hình ảnh là một dòng chữ màu xanh dương \"Lối sống cuộc đời\" với các chữ cái được trang trí bằng các hình ngôi sao màu trắng, ở góc dưới bên phải của hình ảnh là một dòng chữ màu xanh dương \"RADIOCHUALANHTRAITIM\".'},\n",
       "   {'from': 'human', 'value': 'Màu sắc của ghế sofa trong hình ảnh là gì?'},\n",
       "   {'from': 'gpt', 'value': 'Màu xanh lá cây.'},\n",
       "   {'from': 'human', 'value': 'Trên bàn cạnh ghế sofa có gì?'},\n",
       "   {'from': 'gpt', 'value': 'Trên bàn cạnh ghế sofa có một chậu cây nhỏ.'}]})"
      ]
     },
     "execution_count": 74,
     "metadata": {},
     "output_type": "execute_result"
    }
   ],
   "source": [
    "i = 1\n",
    "\n",
    "total_word_count = sum(\n",
    "  [\n",
    "    sum([len(x[\"value\"].split(\" \")) for x in sorted_new_data[i][\"conversations\"][:j]])\n",
    "    for j in range(1, len(sorted_new_data[i][\"conversations\"]) + 1)\n",
    "  ]\n",
    ")\n",
    "total_word_count, sorted_new_data[i]"
   ]
  },
  {
   "cell_type": "code",
   "execution_count": null,
   "metadata": {},
   "outputs": [],
   "source": []
  }
 ],
 "metadata": {
  "kernelspec": {
   "display_name": "vividbot",
   "language": "python",
   "name": "python3"
  },
  "language_info": {
   "codemirror_mode": {
    "name": "ipython",
    "version": 3
   },
   "file_extension": ".py",
   "mimetype": "text/x-python",
   "name": "python",
   "nbconvert_exporter": "python",
   "pygments_lexer": "ipython3",
   "version": "3.10.0"
  }
 },
 "nbformat": 4,
 "nbformat_minor": 2
}
