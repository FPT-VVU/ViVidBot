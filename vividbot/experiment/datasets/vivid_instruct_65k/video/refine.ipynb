{
 "cells": [
  {
   "cell_type": "code",
   "execution_count": 1,
   "metadata": {},
   "outputs": [],
   "source": [
    "import json\n",
    "from pathlib import Path\n",
    "\n",
    "data = json.load(open(f\"{Path.home()}/data/vivid_video_instruct.json\"))"
   ]
  },
  {
   "cell_type": "code",
   "execution_count": 2,
   "metadata": {},
   "outputs": [
    {
     "data": {
      "text/plain": [
       "{'id': '01gE8ErrcJ4.0',\n",
       " 'video': 'shard_0/01gE8ErrcJ4.0.mp4',\n",
       " 'conversations': [{'from': 'human',\n",
       "   'value': '<video>\\nMô tả cụ thể các hành động, nhân vật và bối cảnh xuất hiện trong video.'},\n",
       "  {'from': 'gpt',\n",
       "   'value': 'Video bắt đầu với hình ảnh một phổi được mô tả bằng hình ảnh 3D. Phổi được mô tả với nhiều màu sắc khác nhau. Sau đó, video chuyển sang hình ảnh mô tả cấu trúc của phổi với nhiều túi khí nhỏ.'}],\n",
       " 'path': 'Vividbot/vivid-video-instruct/videos'}"
      ]
     },
     "execution_count": 2,
     "metadata": {},
     "output_type": "execute_result"
    }
   ],
   "source": [
    "sorted(data, key=lambda x: x[\"video\"])[0]"
   ]
  },
  {
   "cell_type": "code",
   "execution_count": 6,
   "metadata": {},
   "outputs": [],
   "source": [
    "longs = [x for x in data if len(x[\"conversations\"]) > 2 * 3]\n",
    "shorts = [x for x in data if len(x[\"conversations\"]) <= 2 * 3]"
   ]
  },
  {
   "cell_type": "code",
   "execution_count": 33,
   "metadata": {},
   "outputs": [],
   "source": [
    "superlongs = []\n",
    "\n",
    "for i in range(0, 10000):\n",
    "  # total word count incrementally of all conversations, i.e. 1st, 1st+2nd, 1st+2nd+3rd, etc.\n",
    "\n",
    "  total_word_count = sum(\n",
    "    [\n",
    "      sum([len(x[\"value\"].split(\" \")) for x in data[i][\"conversations\"][:j]])\n",
    "      for j in range(1, len(data[i][\"conversations\"]) + 1)\n",
    "    ]\n",
    "  )\n",
    "  if total_word_count > 5000:\n",
    "    superlongs.append((i, len(data[i][\"conversations\"]), data[i][\"conversations\"]))"
   ]
  },
  {
   "cell_type": "code",
   "execution_count": 7,
   "metadata": {},
   "outputs": [],
   "source": [
    "sorted_data = sorted(\n",
    "  data,\n",
    "  key=lambda x: sum(\n",
    "    [\n",
    "      sum([len(x[\"value\"].split(\" \")) for x in x[\"conversations\"][:j]])\n",
    "      for j in range(1, len(x[\"conversations\"]) + 1)\n",
    "    ]\n",
    "  ),\n",
    "  reverse=True,\n",
    ")"
   ]
  },
  {
   "cell_type": "code",
   "execution_count": 8,
   "metadata": {},
   "outputs": [
    {
     "data": {
      "text/plain": [
       "97448"
      ]
     },
     "execution_count": 8,
     "metadata": {},
     "output_type": "execute_result"
    }
   ],
   "source": [
    "len(sorted_data)"
   ]
  },
  {
   "cell_type": "code",
   "execution_count": 9,
   "metadata": {},
   "outputs": [
    {
     "data": {
      "text/plain": [
       "{'id': 'RXk4fg4rVY0.7',\n",
       " 'video': 'shard_57/RXk4fg4rVY0.7.mp4',\n",
       " 'conversations': [{'from': 'human',\n",
       "   'value': '<video>\\nĐối tượng và sự kiện trong đoạn video là gì?'},\n",
       "  {'from': 'gpt',\n",
       "   'value': 'Đoạn video bắt đầu với một gia đình gồm bố mẹ và hai con nhỏ đang ngồi trên bờ biển, nhìn về phía mặt trời đang lặn. Sau đó, video chuyển sang hình ảnh một người phụ nữ đang ngồi trên ghế sofa với vẻ mặt buồn bã. Tiếp theo, video hiển thị hai người đang nắm tay nhau với nền là hoàng hôn. Cuối cùng, video kết thúc với một gia đình gồm bố mẹ và con trai đang ngồi trên một chiếc thuyền nhỏ, nhìn về phía mặt trời đang lặn.'},\n",
       "  {'from': 'human',\n",
       "   'value': 'Theo video, những cảnh quan và hoàn cảnh nào được thể hiện?'},\n",
       "  {'from': 'gpt',\n",
       "   'value': 'Trong đoạn video, các cảnh quan chính được thể hiện bao gồm: bờ biển với gia đình ngắm mặt trời lặn, người phụ nữ ngồi trên ghế sofa với vẻ mặt buồn bã, hai người đang nắm tay nhau với nền là hoàng hôn, và một gia đình ngồi trên thuyền nhỏ nhìn về phía mặt trời lặn.'},\n",
       "  {'from': 'human',\n",
       "   'value': 'Những cảm xúc và trạng thái tâm trạng nào được thể hiện trong video?'},\n",
       "  {'from': 'gpt',\n",
       "   'value': 'Đoạn video thể hiện những cảm xúc và trạng thái tâm trạng như sự bình yên, sự buồn bã, và sự gắn kết gia đình.'}],\n",
       " 'path': 'Vividbot/vivid-video-instruct/videos'}"
      ]
     },
     "execution_count": 9,
     "metadata": {},
     "output_type": "execute_result"
    }
   ],
   "source": [
    "sorted_data[0]"
   ]
  },
  {
   "cell_type": "code",
   "execution_count": 34,
   "metadata": {},
   "outputs": [
    {
     "data": {
      "text/plain": [
       "1"
      ]
     },
     "execution_count": 34,
     "metadata": {},
     "output_type": "execute_result"
    }
   ],
   "source": [
    "len(superlongs)"
   ]
  },
  {
   "cell_type": "code",
   "execution_count": 35,
   "metadata": {},
   "outputs": [
    {
     "data": {
      "text/plain": [
       "[(8471,\n",
       "  20,\n",
       "  [{'from': 'human', 'value': 'Video này nói về chủ đề gì?\\n<video>'},\n",
       "   {'from': 'gpt',\n",
       "    'value': 'Video này thảo luận về lý thuyết rằng các kim tự tháp ở Giza được xây dựng như một nguồn năng lượng khổng lồ, sử dụng các thuộc tính của vật liệu chúng được xây dựng để tạo ra và truyền tải năng lượng.'},\n",
       "   {'from': 'human', 'value': 'Kim tự tháp Giza được căn chỉnh với cái gì?'},\n",
       "   {'from': 'gpt',\n",
       "    'value': 'Video bắt đầu bằng việc nêu bật sự căn chỉnh chính xác của ba kim tự tháp với vành đai của chòm sao Orion, gợi ý về mối liên hệ giữa các kim tự tháp và các thiên thể.'},\n",
       "   {'from': 'human',\n",
       "    'value': 'Tại sao đá vôi trắng Tura lại quan trọng trong việc xây dựng kim tự tháp?'},\n",
       "   {'from': 'gpt',\n",
       "    'value': 'Đá vôi trắng Tura được sử dụng cho lớp vỏ ngoài của các kim tự tháp, đóng vai trò như một chất cách điện, ngăn ngừa sự mất năng lượng từ cấu trúc.'},\n",
       "   {'from': 'human',\n",
       "    'value': 'Cấu trúc bên trong của kim tự tháp bao gồm những vật liệu gì?'},\n",
       "   {'from': 'gpt',\n",
       "    'value': 'Bên trong kim tự tháp, một loại đá vôi khác giàu tinh thể thạch anh và granite đã được sử dụng, các vật liệu này nổi tiếng với tính dẫn điện của chúng, cho thấy vai trò của chúng trong việc dẫn năng lượng bên trong kim tự tháp.'},\n",
       "   {'from': 'human',\n",
       "    'value': 'Các đường hầm bằng granite trong kim tự tháp được cho là có chức năng gì?'},\n",
       "   {'from': 'gpt',\n",
       "    'value': 'Video cho rằng các đường hầm làm bằng granite trong kim tự tháp không được xây dựng để thông gió, mà được thiết kế để ion hóa không khí bên trong cấu trúc, tăng cường khả năng dẫn năng lượng.'},\n",
       "   {'from': 'human', 'value': 'Video so sánh kim tự tháp với cái gì?'},\n",
       "   {'from': 'gpt',\n",
       "    'value': 'Video so sánh các kim tự tháp như những cáp điện khổng lồ, với lõi granite hoạt động như một chất dẫn điện và lớp vỏ đá vôi như một chất cách điện.'},\n",
       "   {'from': 'human',\n",
       "    'value': 'Nước ngầm có vai trò gì trong lý thuyết năng lượng của kim tự tháp?'},\n",
       "   {'from': 'gpt',\n",
       "    'value': 'Video kết luận rằng các kim tự tháp được xây dựng trên các nguồn nước ngầm, và khi nước này được bơm lên mặt đất, nó có thể tương tác với các thuộc tính dẫn năng lượng của các kim tự tháp để truyền tải năng lượng không dây.'},\n",
       "   {'from': 'human',\n",
       "    'value': 'Ai là người sáng lập ra ý tưởng truyền tải năng lượng không dây liên quan đến kim tự tháp?'},\n",
       "   {'from': 'gpt',\n",
       "    'value': 'Video đề cập đến Nikola Tesla, người đã thiết kế Tháp Wardenclyffe với mục đích truyền tải năng lượng không dây, và đưa ra sự tương đồng giữa tháp này với các kim tự tháp.'},\n",
       "   {'from': 'human',\n",
       "    'value': 'Video này sử dụng những phương tiện gì để trình bày thông tin?'},\n",
       "   {'from': 'gpt',\n",
       "    'value': 'Video sử dụng hình ảnh được tạo ra bằng máy tính, phim tư liệu lịch sử và bình luận từ các chuyên gia để trình bày lập luận của mình.'},\n",
       "   {'from': 'human',\n",
       "    'value': 'Lý thuyết về mục đích của các kim tự tháp có phải là một chủ đề gây tranh cãi không?'},\n",
       "   {'from': 'gpt',\n",
       "    'value': 'Có, video nhấn mạnh rằng đây chỉ là một trong nhiều lý thuyết về mục đích của các kim tự tháp, và nó vẫn là một chủ đề gây tranh cãi giữa các học giả.'}])]"
      ]
     },
     "execution_count": 35,
     "metadata": {},
     "output_type": "execute_result"
    }
   ],
   "source": [
    "superlongs"
   ]
  },
  {
   "cell_type": "code",
   "execution_count": 110,
   "metadata": {},
   "outputs": [],
   "source": [
    "# new_data = []\n",
    "\n",
    "# for d in data:\n",
    "#   d_copy = d.copy()\n",
    "#   new_conv = []\n",
    "#   for i in range(0, len(d[\"conversations\"]), 2):\n",
    "#     conv = d[\"conversations\"][i : i + 2]\n",
    "#     conv[0][\"value\"] = conv[0][\"value\"].strip()\n",
    "#     conv[1][\"value\"] = conv[1][\"value\"].strip()\n",
    "#     if len(conv[1][\"value\"].split(\" \")) > 10:\n",
    "#       new_conv.extend(conv)\n",
    "#   if len(new_conv) > 0:\n",
    "#     d_copy[\"conversations\"] = new_conv[:6]\n",
    "#     new_data.append(d_copy)"
   ]
  },
  {
   "cell_type": "code",
   "execution_count": 3,
   "metadata": {},
   "outputs": [],
   "source": [
    "new_data = []\n",
    "superlongs = []\n",
    "\n",
    "for d in data:\n",
    "  d_copy = d.copy()\n",
    "  new_conv = []\n",
    "  for i in range(0, len(d[\"conversations\"]), 2):\n",
    "    conv = d[\"conversations\"][i : i + 2]\n",
    "    conv[0][\"value\"] = conv[0][\"value\"].strip()\n",
    "    conv[1][\"value\"] = conv[1][\"value\"].strip()\n",
    "    if (\n",
    "      len(conv[1][\"value\"].split(\" \")) > 10\n",
    "      and len(conv[1][\"value\"].split(\" \")) < 120\n",
    "      and len(conv[0][\"value\"].split(\" \")) > 3\n",
    "      and len(conv[0][\"value\"].split(\" \")) < 60\n",
    "    ):\n",
    "      new_conv.extend(conv)\n",
    "  if len(new_conv) > 0:\n",
    "    d_copy[\"conversations\"] = []\n",
    "    total_word_count = 0\n",
    "    for i in range(0, len(new_conv), 2):\n",
    "      try:\n",
    "        total_word_count += total_word_count + len(new_conv[i][\"value\"].split(\" \"))\n",
    "        if total_word_count < 1200:\n",
    "          d_copy[\"conversations\"].extend(new_conv[i : i + 2])\n",
    "        else:\n",
    "          superlongs.append(d)\n",
    "          break\n",
    "        total_word_count += len(new_conv[i + 1][\"value\"].split(\" \"))\n",
    "      except:\n",
    "        pass\n",
    "    new_data.append(d_copy)"
   ]
  },
  {
   "cell_type": "code",
   "execution_count": 4,
   "metadata": {},
   "outputs": [
    {
     "data": {
      "text/plain": [
       "97448"
      ]
     },
     "execution_count": 4,
     "metadata": {},
     "output_type": "execute_result"
    }
   ],
   "source": [
    "len(new_data)"
   ]
  },
  {
   "cell_type": "code",
   "execution_count": 52,
   "metadata": {},
   "outputs": [
    {
     "data": {
      "text/plain": [
       "{'id': '01gE8ErrcJ4.0',\n",
       " 'video': 'shard_0/01gE8ErrcJ4.0.mp4',\n",
       " 'conversations': [{'from': 'human',\n",
       "   'value': '<video>\\nMô tả cụ thể các hành động, nhân vật và bối cảnh xuất hiện trong video.'},\n",
       "  {'from': 'gpt',\n",
       "   'value': 'Video bắt đầu với hình ảnh một phổi được mô tả bằng hình ảnh 3D. Phổi được mô tả với nhiều màu sắc khác nhau. Sau đó, video chuyển sang hình ảnh mô tả cấu trúc của phổi với nhiều túi khí nhỏ.'}]}"
      ]
     },
     "execution_count": 52,
     "metadata": {},
     "output_type": "execute_result"
    }
   ],
   "source": [
    "new_data[0]"
   ]
  },
  {
   "cell_type": "code",
   "execution_count": 5,
   "metadata": {},
   "outputs": [],
   "source": [
    "sorted_new_data = sorted(\n",
    "  new_data,\n",
    "  key=lambda x: sum(\n",
    "    [\n",
    "      sum([len(x[\"value\"].split(\" \")) for x in x[\"conversations\"][:j]])\n",
    "      for j in range(1, len(x[\"conversations\"]) + 1)\n",
    "    ]\n",
    "  ),\n",
    "  reverse=True,\n",
    ")"
   ]
  },
  {
   "cell_type": "code",
   "execution_count": 6,
   "metadata": {},
   "outputs": [
    {
     "data": {
      "text/plain": [
       "{'id': 'RXk4fg4rVY0.7',\n",
       " 'video': 'shard_57/RXk4fg4rVY0.7.mp4',\n",
       " 'conversations': [{'from': 'human',\n",
       "   'value': '<video>\\nĐối tượng và sự kiện trong đoạn video là gì?'},\n",
       "  {'from': 'gpt',\n",
       "   'value': 'Đoạn video bắt đầu với một gia đình gồm bố mẹ và hai con nhỏ đang ngồi trên bờ biển, nhìn về phía mặt trời đang lặn. Sau đó, video chuyển sang hình ảnh một người phụ nữ đang ngồi trên ghế sofa với vẻ mặt buồn bã. Tiếp theo, video hiển thị hai người đang nắm tay nhau với nền là hoàng hôn. Cuối cùng, video kết thúc với một gia đình gồm bố mẹ và con trai đang ngồi trên một chiếc thuyền nhỏ, nhìn về phía mặt trời đang lặn.'},\n",
       "  {'from': 'human',\n",
       "   'value': 'Theo video, những cảnh quan và hoàn cảnh nào được thể hiện?'},\n",
       "  {'from': 'gpt',\n",
       "   'value': 'Trong đoạn video, các cảnh quan chính được thể hiện bao gồm: bờ biển với gia đình ngắm mặt trời lặn, người phụ nữ ngồi trên ghế sofa với vẻ mặt buồn bã, hai người đang nắm tay nhau với nền là hoàng hôn, và một gia đình ngồi trên thuyền nhỏ nhìn về phía mặt trời lặn.'},\n",
       "  {'from': 'human',\n",
       "   'value': 'Những cảm xúc và trạng thái tâm trạng nào được thể hiện trong video?'},\n",
       "  {'from': 'gpt',\n",
       "   'value': 'Đoạn video thể hiện những cảm xúc và trạng thái tâm trạng như sự bình yên, sự buồn bã, và sự gắn kết gia đình.'}],\n",
       " 'path': 'Vividbot/vivid-video-instruct/videos'}"
      ]
     },
     "execution_count": 6,
     "metadata": {},
     "output_type": "execute_result"
    }
   ],
   "source": [
    "sorted_new_data[0]"
   ]
  },
  {
   "cell_type": "code",
   "execution_count": 63,
   "metadata": {},
   "outputs": [],
   "source": [
    "# new_data = [\n",
    "#   {**x, \"path\": \"\"}\n",
    "#   for x in sorted_new_data\n",
    "#   if len(x[\"conversations\"][1][\"value\"].split(\" \")) > 10\n",
    "# ]"
   ]
  },
  {
   "cell_type": "code",
   "execution_count": 64,
   "metadata": {},
   "outputs": [],
   "source": [
    "new_data = sorted(new_data, key=lambda x: x[\"video\"])"
   ]
  },
  {
   "cell_type": "code",
   "execution_count": 65,
   "metadata": {},
   "outputs": [
    {
     "data": {
      "text/plain": [
       "97448"
      ]
     },
     "execution_count": 65,
     "metadata": {},
     "output_type": "execute_result"
    }
   ],
   "source": [
    "len(new_data)"
   ]
  },
  {
   "cell_type": "code",
   "execution_count": 66,
   "metadata": {},
   "outputs": [],
   "source": [
    "new_data = [{**d, \"path\": \"Vividbot/vivid-video-instruct/videos\"} for d in new_data]"
   ]
  },
  {
   "cell_type": "code",
   "execution_count": 67,
   "metadata": {},
   "outputs": [],
   "source": [
    "with open(f\"{Path.home()}/data/vivid_video_instruct.json\", \"w\") as f:\n",
    "  json.dump(new_data, f, indent=2, ensure_ascii=False)"
   ]
  },
  {
   "cell_type": "code",
   "execution_count": null,
   "metadata": {},
   "outputs": [],
   "source": []
  },
  {
   "cell_type": "code",
   "execution_count": 66,
   "metadata": {},
   "outputs": [],
   "source": [
    "sorted_new_data = sorted(\n",
    "  new_data,\n",
    "  key=lambda x: sum(\n",
    "    [\n",
    "      sum([len(x[\"value\"].split(\" \")) for x in x[\"conversations\"][:j]])\n",
    "      for j in range(1, len(x[\"conversations\"]) + 1)\n",
    "    ]\n",
    "  ),\n",
    "  reverse=True,\n",
    ")"
   ]
  },
  {
   "cell_type": "code",
   "execution_count": 74,
   "metadata": {},
   "outputs": [
    {
     "data": {
      "text/plain": [
       "(975,\n",
       " {'id': 'KRsrPnVGVkE.5',\n",
       "  'video': 'shard_59/KRsrPnVGVkE.5.mp4',\n",
       "  'conversations': [{'from': 'human',\n",
       "    'value': '<video>\\nHình ảnh minh họa cho podcast này là gì?'},\n",
       "   {'from': 'gpt',\n",
       "    'value': 'Hình ảnh là một căn phòng với một chiếc ghế sofa màu xanh lá cây có đệm sọc trắng và xanh lá cây, trên bàn cạnh ghế sofa có một chậu cây nhỏ, bên cạnh bàn là một chiếc bàn nhỏ khác có một chậu cây nhỏ khác, ở góc trên bên phải của hình ảnh là một chiếc điện thoại thông minh màu xanh lá cây với một biểu tượng phát màu trắng, trên màn hình điện thoại là một hình ảnh minh họa cho một podcast với một cô gái đang đọc sách, ở góc trên bên trái của hình ảnh là một dòng chữ màu xanh dương \"Tối giản\" và một dòng chữ màu xanh dương \"Tối ưu\" ở bên dưới, ở giữa hình ảnh là một dòng chữ màu xanh dương \"Lối sống cuộc đời\" với các chữ cái được trang trí bằng các hình ngôi sao màu trắng, ở góc dưới bên phải của hình ảnh là một dòng chữ màu xanh dương \"RADIOCHUALANHTRAITIM\".'},\n",
       "   {'from': 'human', 'value': 'Màu sắc của ghế sofa trong hình ảnh là gì?'},\n",
       "   {'from': 'gpt', 'value': 'Màu xanh lá cây.'},\n",
       "   {'from': 'human', 'value': 'Trên bàn cạnh ghế sofa có gì?'},\n",
       "   {'from': 'gpt', 'value': 'Trên bàn cạnh ghế sofa có một chậu cây nhỏ.'}]})"
      ]
     },
     "execution_count": 74,
     "metadata": {},
     "output_type": "execute_result"
    }
   ],
   "source": [
    "i = 1\n",
    "\n",
    "total_word_count = sum(\n",
    "  [\n",
    "    sum([len(x[\"value\"].split(\" \")) for x in sorted_new_data[i][\"conversations\"][:j]])\n",
    "    for j in range(1, len(sorted_new_data[i][\"conversations\"]) + 1)\n",
    "  ]\n",
    ")\n",
    "total_word_count, sorted_new_data[i]"
   ]
  },
  {
   "cell_type": "code",
   "execution_count": 1,
   "metadata": {},
   "outputs": [],
   "source": [
    "import json\n",
    "from pathlib import Path\n",
    "\n",
    "d2 = json.load(open(f\"{Path.home()}/data/vivid_video_instruct.json\"))"
   ]
  },
  {
   "cell_type": "code",
   "execution_count": 2,
   "metadata": {},
   "outputs": [
    {
     "data": {
      "text/plain": [
       "97448"
      ]
     },
     "execution_count": 2,
     "metadata": {},
     "output_type": "execute_result"
    }
   ],
   "source": [
    "len(d2)"
   ]
  },
  {
   "cell_type": "code",
   "execution_count": 4,
   "metadata": {},
   "outputs": [
    {
     "data": {
      "text/plain": [
       "{'id': 'z3X29hqSTGQ.9',\n",
       " 'video': 'shard_99/z3X29hqSTGQ.9.mp4',\n",
       " 'conversations': [{'from': 'human',\n",
       "   'value': 'Khi nào vụ tấn công tượng đài xảy ra?'},\n",
       "  {'from': 'gpt',\n",
       "   'value': 'Khoảng 3 giờ sáng ngày 10 tháng 6 theo giờ địa phương'}],\n",
       " 'path': 'Vividbot/vivid-video-instruct/videos'}"
      ]
     },
     "execution_count": 4,
     "metadata": {},
     "output_type": "execute_result"
    }
   ],
   "source": [
    "d2[-1]"
   ]
  }
 ],
 "metadata": {
  "kernelspec": {
   "display_name": "vividbot",
   "language": "python",
   "name": "python3"
  },
  "language_info": {
   "codemirror_mode": {
    "name": "ipython",
    "version": 3
   },
   "file_extension": ".py",
   "mimetype": "text/x-python",
   "name": "python",
   "nbconvert_exporter": "python",
   "pygments_lexer": "ipython3",
   "version": "3.10.0"
  }
 },
 "nbformat": 4,
 "nbformat_minor": 2
}
