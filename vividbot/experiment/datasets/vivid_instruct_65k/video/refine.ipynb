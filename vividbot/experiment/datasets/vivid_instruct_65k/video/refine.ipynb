{
 "cells": [
  {
   "cell_type": "code",
   "execution_count": 1,
   "metadata": {},
   "outputs": [],
   "source": [
    "import json\n",
    "from pathlib import Path\n",
    "\n",
    "data = json.load(open(f\"{Path.home()}/data/vivid_video_instruct_128k_all.json\"))"
   ]
  },
  {
   "cell_type": "code",
   "execution_count": 6,
   "metadata": {},
   "outputs": [],
   "source": [
    "longs = [x for x in data if len(x[\"conversations\"]) > 2 * 3]\n",
    "shorts = [x for x in data if len(x[\"conversations\"]) <= 2 * 3]"
   ]
  },
  {
   "cell_type": "code",
   "execution_count": 33,
   "metadata": {},
   "outputs": [],
   "source": [
    "superlongs = []\n",
    "\n",
    "for i in range(0, 10000):\n",
    "  # total word count incrementally of all conversations, i.e. 1st, 1st+2nd, 1st+2nd+3rd, etc.\n",
    "\n",
    "  total_word_count = sum(\n",
    "    [\n",
    "      sum([len(x[\"value\"].split(\" \")) for x in data[i][\"conversations\"][:j]])\n",
    "      for j in range(1, len(data[i][\"conversations\"]) + 1)\n",
    "    ]\n",
    "  )\n",
    "  if total_word_count > 5000:\n",
    "    superlongs.append((i, len(data[i][\"conversations\"]), data[i][\"conversations\"]))"
   ]
  },
  {
   "cell_type": "code",
   "execution_count": 5,
   "metadata": {},
   "outputs": [],
   "source": [
    "sorted_data = sorted(\n",
    "  data,\n",
    "  key=lambda x: sum(\n",
    "    [\n",
    "      sum([len(x[\"value\"].split(\" \")) for x in x[\"conversations\"][:j]])\n",
    "      for j in range(1, len(x[\"conversations\"]) + 1)\n",
    "    ]\n",
    "  ),\n",
    "  reverse=True,\n",
    ")"
   ]
  },
  {
   "cell_type": "code",
   "execution_count": 6,
   "metadata": {},
   "outputs": [
    {
     "data": {
      "text/plain": [
       "128880"
      ]
     },
     "execution_count": 6,
     "metadata": {},
     "output_type": "execute_result"
    }
   ],
   "source": [
    "len(sorted_data)"
   ]
  },
  {
   "cell_type": "code",
   "execution_count": 7,
   "metadata": {},
   "outputs": [
    {
     "data": {
      "text/plain": [
       "{'id': 'egu0jca7G8o.9',\n",
       " 'video': 'shard_23/egu0jca7G8o.9.mp4',\n",
       " 'conversations': [{'from': 'human',\n",
       "   'value': '<video>\\nMàn hình đầu tiên của video là gì?'},\n",
       "  {'from': 'gpt', 'value': 'Cảnh một người đàn ông đang bơi dưới nước.'},\n",
       "  {'from': 'human',\n",
       "   'value': 'Sau cảnh người đàn ông bơi dưới nước, cảnh tiếp theo là gì?'},\n",
       "  {'from': 'gpt',\n",
       "   'value': 'Cảnh một người đàn ông đang lái thuyền trên biển.'},\n",
       "  {'from': 'human', 'value': 'Trên thuyền có những ai?'},\n",
       "  {'from': 'gpt', 'value': 'Có nhiều người trên thuyền, họ đang mặc áo phao.'},\n",
       "  {'from': 'human', 'value': 'Người phụ nữ trên thuyền đang làm gì?'},\n",
       "  {'from': 'gpt', 'value': 'Đang ngồi trên thuyền và sử dụng điện thoại.'},\n",
       "  {'from': 'human',\n",
       "   'value': 'Cảnh tiếp theo sau người phụ nữ sử dụng điện thoại là gì?'},\n",
       "  {'from': 'gpt', 'value': 'Cảnh một chiếc thuyền đang chạy trên biển.'},\n",
       "  {'from': 'human',\n",
       "   'value': 'Cảnh tiếp theo sau chiếc thuyền chạy trên biển là gì?'},\n",
       "  {'from': 'gpt',\n",
       "   'value': 'Cảnh một nhóm người đang ngồi trên xe ba bánh và đi dọc bờ biển.'},\n",
       "  {'from': 'human',\n",
       "   'value': 'Người phụ nữ trong cảnh chuẩn bị thức ăn đang làm gì?'},\n",
       "  {'from': 'gpt', 'value': 'Đang chuẩn bị thức ăn.'},\n",
       "  {'from': 'human',\n",
       "   'value': 'Sau cảnh chuẩn bị thức ăn, cảnh tiếp theo là gì?'},\n",
       "  {'from': 'gpt', 'value': 'Cảnh một người đàn ông đang ăn thức ăn.'},\n",
       "  {'from': 'human',\n",
       "   'value': 'Cảnh tiếp theo sau người đàn ông ăn thức ăn là gì?'},\n",
       "  {'from': 'gpt', 'value': 'Cảnh một con ong đang bay trên một bông hoa.'},\n",
       "  {'from': 'human', 'value': 'Cảnh cuối cùng của video là gì?'},\n",
       "  {'from': 'gpt',\n",
       "   'value': 'Cảnh một người phụ nữ đang thay đồ trên bãi biển.'},\n",
       "  {'from': 'human',\n",
       "   'value': 'Cảnh trước người phụ nữ thay đồ trên bãi biển là gì?'},\n",
       "  {'from': 'gpt', 'value': 'Cảnh một cặp đôi đang đi bộ trên bãi biển.'},\n",
       "  {'from': 'human', 'value': 'Cảnh trước cặp đôi đi bộ trên bãi biển là gì?'},\n",
       "  {'from': 'gpt', 'value': 'Cảnh một bãi biển với những chiếc thuyền.'},\n",
       "  {'from': 'human',\n",
       "   'value': 'Người đàn ông trong cảnh lái xe máy đang làm gì?'},\n",
       "  {'from': 'gpt', 'value': 'Đang lái xe máy trên đường.'},\n",
       "  {'from': 'human',\n",
       "   'value': 'Sau cảnh người đàn ông lái xe máy, cảnh tiếp theo là gì?'},\n",
       "  {'from': 'gpt', 'value': 'Cảnh một người phụ nữ đang đứng trên bãi biển.'},\n",
       "  {'from': 'human',\n",
       "   'value': 'Cảnh tiếp theo sau người phụ nữ đứng trên bãi biển là gì?'},\n",
       "  {'from': 'gpt', 'value': 'Cảnh một nhóm người đang đi bộ trên bãi biển.'},\n",
       "  {'from': 'human',\n",
       "   'value': 'Cảnh tiếp theo sau nhóm người đi bộ trên bãi biển là gì?'},\n",
       "  {'from': 'gpt',\n",
       "   'value': 'Cảnh một ngọn hải đăng với những người đang đứng trên đó.'},\n",
       "  {'from': 'human',\n",
       "   'value': 'Người đàn ông trong cảnh nhìn ra biển đang làm gì?'},\n",
       "  {'from': 'gpt', 'value': 'Đang nhìn ra biển.'},\n",
       "  {'from': 'human',\n",
       "   'value': 'Sau cảnh người đàn ông nhìn ra biển, cảnh tiếp theo là gì?'},\n",
       "  {'from': 'gpt', 'value': 'Cảnh một nhóm người đang đi bộ trong rừng.'},\n",
       "  {'from': 'human',\n",
       "   'value': 'Cảnh tiếp theo sau nhóm người đi bộ trong rừng là gì?'},\n",
       "  {'from': 'gpt',\n",
       "   'value': 'Cảnh một ngọn hải đăng với những người đang đứng trên đó.'},\n",
       "  {'from': 'human', 'value': 'Cảnh tiếp theo sau ngọn hải đăng là gì?'},\n",
       "  {'from': 'gpt', 'value': 'Cảnh một bãi biển với những chiếc thuyền.'},\n",
       "  {'from': 'human', 'value': 'Màu sắc của nước biển trong video là gì?'},\n",
       "  {'from': 'gpt', 'value': 'Nước biển xanh.'},\n",
       "  {'from': 'human', 'value': 'Có những phương tiện nào trong video?'},\n",
       "  {'from': 'gpt', 'value': 'Có xe ba bánh, xe máy, thuyền.'},\n",
       "  {'from': 'human', 'value': 'Có những con vật nào trong video?'},\n",
       "  {'from': 'gpt', 'value': 'Có con ong.'},\n",
       "  {'from': 'human', 'value': 'Người phụ nữ trên bãi biển đang làm gì?'},\n",
       "  {'from': 'gpt', 'value': 'Đang thay đồ hoặc đang đứng trên bãi biển.'},\n",
       "  {'from': 'human', 'value': 'Trong video có những cảnh ở đâu?'},\n",
       "  {'from': 'gpt',\n",
       "   'value': 'Có cảnh dưới nước, trên biển, trên bãi biển, trên thuyền, trên xe ba bánh, trên đường, trên rừng.'},\n",
       "  {'from': 'human', 'value': 'Người đàn ông trên thuyền đang làm gì?'},\n",
       "  {'from': 'gpt', 'value': 'Đang lái thuyền trên biển.'}]}"
      ]
     },
     "execution_count": 7,
     "metadata": {},
     "output_type": "execute_result"
    }
   ],
   "source": [
    "sorted_data[0]"
   ]
  },
  {
   "cell_type": "code",
   "execution_count": 34,
   "metadata": {},
   "outputs": [
    {
     "data": {
      "text/plain": [
       "1"
      ]
     },
     "execution_count": 34,
     "metadata": {},
     "output_type": "execute_result"
    }
   ],
   "source": [
    "len(superlongs)"
   ]
  },
  {
   "cell_type": "code",
   "execution_count": 35,
   "metadata": {},
   "outputs": [
    {
     "data": {
      "text/plain": [
       "[(8471,\n",
       "  20,\n",
       "  [{'from': 'human', 'value': 'Video này nói về chủ đề gì?\\n<video>'},\n",
       "   {'from': 'gpt',\n",
       "    'value': 'Video này thảo luận về lý thuyết rằng các kim tự tháp ở Giza được xây dựng như một nguồn năng lượng khổng lồ, sử dụng các thuộc tính của vật liệu chúng được xây dựng để tạo ra và truyền tải năng lượng.'},\n",
       "   {'from': 'human', 'value': 'Kim tự tháp Giza được căn chỉnh với cái gì?'},\n",
       "   {'from': 'gpt',\n",
       "    'value': 'Video bắt đầu bằng việc nêu bật sự căn chỉnh chính xác của ba kim tự tháp với vành đai của chòm sao Orion, gợi ý về mối liên hệ giữa các kim tự tháp và các thiên thể.'},\n",
       "   {'from': 'human',\n",
       "    'value': 'Tại sao đá vôi trắng Tura lại quan trọng trong việc xây dựng kim tự tháp?'},\n",
       "   {'from': 'gpt',\n",
       "    'value': 'Đá vôi trắng Tura được sử dụng cho lớp vỏ ngoài của các kim tự tháp, đóng vai trò như một chất cách điện, ngăn ngừa sự mất năng lượng từ cấu trúc.'},\n",
       "   {'from': 'human',\n",
       "    'value': 'Cấu trúc bên trong của kim tự tháp bao gồm những vật liệu gì?'},\n",
       "   {'from': 'gpt',\n",
       "    'value': 'Bên trong kim tự tháp, một loại đá vôi khác giàu tinh thể thạch anh và granite đã được sử dụng, các vật liệu này nổi tiếng với tính dẫn điện của chúng, cho thấy vai trò của chúng trong việc dẫn năng lượng bên trong kim tự tháp.'},\n",
       "   {'from': 'human',\n",
       "    'value': 'Các đường hầm bằng granite trong kim tự tháp được cho là có chức năng gì?'},\n",
       "   {'from': 'gpt',\n",
       "    'value': 'Video cho rằng các đường hầm làm bằng granite trong kim tự tháp không được xây dựng để thông gió, mà được thiết kế để ion hóa không khí bên trong cấu trúc, tăng cường khả năng dẫn năng lượng.'},\n",
       "   {'from': 'human', 'value': 'Video so sánh kim tự tháp với cái gì?'},\n",
       "   {'from': 'gpt',\n",
       "    'value': 'Video so sánh các kim tự tháp như những cáp điện khổng lồ, với lõi granite hoạt động như một chất dẫn điện và lớp vỏ đá vôi như một chất cách điện.'},\n",
       "   {'from': 'human',\n",
       "    'value': 'Nước ngầm có vai trò gì trong lý thuyết năng lượng của kim tự tháp?'},\n",
       "   {'from': 'gpt',\n",
       "    'value': 'Video kết luận rằng các kim tự tháp được xây dựng trên các nguồn nước ngầm, và khi nước này được bơm lên mặt đất, nó có thể tương tác với các thuộc tính dẫn năng lượng của các kim tự tháp để truyền tải năng lượng không dây.'},\n",
       "   {'from': 'human',\n",
       "    'value': 'Ai là người sáng lập ra ý tưởng truyền tải năng lượng không dây liên quan đến kim tự tháp?'},\n",
       "   {'from': 'gpt',\n",
       "    'value': 'Video đề cập đến Nikola Tesla, người đã thiết kế Tháp Wardenclyffe với mục đích truyền tải năng lượng không dây, và đưa ra sự tương đồng giữa tháp này với các kim tự tháp.'},\n",
       "   {'from': 'human',\n",
       "    'value': 'Video này sử dụng những phương tiện gì để trình bày thông tin?'},\n",
       "   {'from': 'gpt',\n",
       "    'value': 'Video sử dụng hình ảnh được tạo ra bằng máy tính, phim tư liệu lịch sử và bình luận từ các chuyên gia để trình bày lập luận của mình.'},\n",
       "   {'from': 'human',\n",
       "    'value': 'Lý thuyết về mục đích của các kim tự tháp có phải là một chủ đề gây tranh cãi không?'},\n",
       "   {'from': 'gpt',\n",
       "    'value': 'Có, video nhấn mạnh rằng đây chỉ là một trong nhiều lý thuyết về mục đích của các kim tự tháp, và nó vẫn là một chủ đề gây tranh cãi giữa các học giả.'}])]"
      ]
     },
     "execution_count": 35,
     "metadata": {},
     "output_type": "execute_result"
    }
   ],
   "source": [
    "superlongs"
   ]
  },
  {
   "cell_type": "code",
   "execution_count": 110,
   "metadata": {},
   "outputs": [],
   "source": [
    "# new_data = []\n",
    "\n",
    "# for d in data:\n",
    "#   d_copy = d.copy()\n",
    "#   new_conv = []\n",
    "#   for i in range(0, len(d[\"conversations\"]), 2):\n",
    "#     conv = d[\"conversations\"][i : i + 2]\n",
    "#     conv[0][\"value\"] = conv[0][\"value\"].strip()\n",
    "#     conv[1][\"value\"] = conv[1][\"value\"].strip()\n",
    "#     if len(conv[1][\"value\"].split(\" \")) > 10:\n",
    "#       new_conv.extend(conv)\n",
    "#   if len(new_conv) > 0:\n",
    "#     d_copy[\"conversations\"] = new_conv[:6]\n",
    "#     new_data.append(d_copy)"
   ]
  },
  {
   "cell_type": "code",
   "execution_count": 2,
   "metadata": {},
   "outputs": [],
   "source": [
    "new_data = []\n",
    "superlongs = []\n",
    "\n",
    "for d in data:\n",
    "  d_copy = d.copy()\n",
    "  new_conv = []\n",
    "  for i in range(0, len(d[\"conversations\"]), 2):\n",
    "    conv = d[\"conversations\"][i : i + 2]\n",
    "    conv[0][\"value\"] = conv[0][\"value\"].strip()\n",
    "    conv[1][\"value\"] = conv[1][\"value\"].strip()\n",
    "    if (\n",
    "      len(conv[0][\"value\"].split(\" \")) > 2\n",
    "      and len(conv[0][\"value\"].split(\" \")) < 60\n",
    "      and len(conv[1][\"value\"].split(\" \")) > 20\n",
    "      and len(conv[1][\"value\"].split(\" \")) < 300\n",
    "    ):\n",
    "      new_conv.extend(conv)\n",
    "  if len(new_conv) > 0:\n",
    "    d_copy[\"conversations\"] = []\n",
    "    total_word_count = 0\n",
    "    for i in range(0, len(new_conv), 2):\n",
    "      try:\n",
    "        total_word_count += total_word_count + len(new_conv[i][\"value\"].split(\" \"))\n",
    "        if total_word_count < 2000:\n",
    "          d_copy[\"conversations\"].extend(new_conv[i : i + 2])\n",
    "        else:\n",
    "          superlongs.append(d)\n",
    "          break\n",
    "        total_word_count += len(new_conv[i + 1][\"value\"].split(\" \"))\n",
    "      except:\n",
    "        pass\n",
    "\n",
    "    if \"<video>\" not in d_copy[\"conversations\"][0][\"value\"]:\n",
    "      d_copy[\"conversations\"][0][\"value\"] = (\n",
    "        \"<video>\\n\" + d_copy[\"conversations\"][0][\"value\"]\n",
    "      )\n",
    "\n",
    "    if len(d_copy[\"conversations\"]) > 0:\n",
    "      new_data.append(d_copy)"
   ]
  },
  {
   "cell_type": "code",
   "execution_count": 3,
   "metadata": {},
   "outputs": [
    {
     "data": {
      "text/plain": [
       "92218"
      ]
     },
     "execution_count": 3,
     "metadata": {},
     "output_type": "execute_result"
    }
   ],
   "source": [
    "len(new_data)"
   ]
  },
  {
   "cell_type": "code",
   "execution_count": 4,
   "metadata": {},
   "outputs": [
    {
     "data": {
      "text/plain": [
       "{'id': 'zU633ZJUB4s.6',\n",
       " 'video': 'shard_69/zU633ZJUB4s.6.mp4',\n",
       " 'conversations': [{'from': 'human',\n",
       "   'value': 'Diễn đạt chính xác nội dung video, tập trung vào cốt truyện và hình ảnh quan trọng.\\n<video>'},\n",
       "  {'from': 'gpt',\n",
       "   'value': 'Video bắt đầu với một bảng gồm hai cột. Cột bên trái có chữ \"đồng hồ đó là một chút...\" và hai dòng bên dưới là \"Nhanh\" và \"chậm\". Cột bên phải có chữ \"ese reloj está un poco...\" và hai dòng bên dưới là \"adelantado\" và \"atrasado\". Bên cạnh bảng là hình ảnh của bốn lá cỏ bốn lá màu xanh lá cây. Phía dưới bảng là hình ảnh của những chấm tròn màu vàng nhạt. Sau đó, video chuyển sang hình ảnh nền mờ với những vòng tròn màu vàng, cam và đỏ. Cuối cùng, video hiển thị dòng chữ \"Muchas gracias!!!\" màu tím trên nền mờ.'}]}"
      ]
     },
     "execution_count": 4,
     "metadata": {},
     "output_type": "execute_result"
    }
   ],
   "source": [
    "new_data[-1]"
   ]
  },
  {
   "cell_type": "code",
   "execution_count": 5,
   "metadata": {},
   "outputs": [],
   "source": [
    "sorted_new_data = sorted(\n",
    "  new_data,\n",
    "  key=lambda x: sum(\n",
    "    [\n",
    "      sum([len(x[\"value\"].split(\" \")) for x in x[\"conversations\"][:j]])\n",
    "      for j in range(1, len(x[\"conversations\"]) + 1)\n",
    "    ]\n",
    "  ),\n",
    "  reverse=True,\n",
    ")"
   ]
  },
  {
   "cell_type": "code",
   "execution_count": 6,
   "metadata": {},
   "outputs": [
    {
     "data": {
      "text/plain": [
       "{'id': '1uzz3-v_OtE.5',\n",
       " 'video': 'shard_47/1uzz3-v_OtE.5.mp4',\n",
       " 'conversations': [{'from': 'human',\n",
       "   'value': '<video>\\nNội dung của video là gì?'},\n",
       "  {'from': 'gpt',\n",
       "   'value': 'Video bắt đầu với hình ảnh một nhân vật nữ trong game đang đứng trước một cái bàn, sau đó chuyển sang hình ảnh một thành phố với một đài phun nước ở giữa. Tiếp theo là hình ảnh một nhân vật nữ trong game đang đi trên một con đường, rồi đến hình ảnh nhân vật nữ đó đang chiến đấu với một đàn chim. Cuối cùng, video còn hiển thị các hình ảnh khác như một ứng dụng game trên điện thoại, một người đàn ông ném vật thể vào thùng rác, một túi rác có vật thể màu vàng bên trong, một nhân vật nữ trong game với chiếc mũ hề, một bức tranh biếm họa, hai phụ nữ trẻ nói chuyện trước máy quay, và một meme với một người đàn ông đầu trọc mặc đồng phục cảnh sát.'},\n",
       "  {'from': 'human', 'value': 'Trong video, có những đối tượng chính nào?'},\n",
       "  {'from': 'gpt',\n",
       "   'value': 'Các đối tượng chính trong video bao gồm một nhân vật nữ trong game, một thành phố với đài phun nước, một đàn chim, một ứng dụng game trên điện thoại, một người đàn ông ném vật thể vào thùng rác, một túi rác có vật thể màu vàng bên trong, một nhân vật nữ trong game với chiếc mũ hề, một bức tranh biếm họa, hai phụ nữ trẻ nói chuyện trước máy quay, và một meme với một người đàn ông đầu trọc mặc đồng phục cảnh sát.'},\n",
       "  {'from': 'human', 'value': 'Vật thể màu vàng trong túi rác là gì?'},\n",
       "  {'from': 'gpt',\n",
       "   'value': 'Video không cung cấp thông tin cụ thể về vật thể màu vàng bên trong túi rác, nhưng ta có thể đoán đó có thể là một vật dụng hoặc đồ vật nào đó.'},\n",
       "  {'from': 'human', 'value': 'Nhân vật nữ trong game có đặc điểm gì?'},\n",
       "  {'from': 'gpt',\n",
       "   'value': 'Trong video, nhân vật nữ trong game được hiển thị ở một số đoạn khác nhau, như đứng trước bàn, đi trên một con đường, và chiến đấu với đàn chim. Nhân vật này cũng được thể hiện với một chiếc mũ hề trên đầu.'}]}"
      ]
     },
     "execution_count": 6,
     "metadata": {},
     "output_type": "execute_result"
    }
   ],
   "source": [
    "sorted_new_data[0]"
   ]
  },
  {
   "cell_type": "code",
   "execution_count": 63,
   "metadata": {},
   "outputs": [],
   "source": [
    "# new_data = [\n",
    "#   {**x, \"path\": \"\"}\n",
    "#   for x in sorted_new_data\n",
    "#   if len(x[\"conversations\"][1][\"value\"].split(\" \")) > 10\n",
    "# ]"
   ]
  },
  {
   "cell_type": "code",
   "execution_count": 7,
   "metadata": {},
   "outputs": [],
   "source": [
    "new_data = sorted(new_data, key=lambda x: int(x[\"video\"].split(\"/\")[0].split(\"_\")[-1]))"
   ]
  },
  {
   "cell_type": "code",
   "execution_count": 8,
   "metadata": {},
   "outputs": [
    {
     "data": {
      "text/plain": [
       "92218"
      ]
     },
     "execution_count": 8,
     "metadata": {},
     "output_type": "execute_result"
    }
   ],
   "source": [
    "len(new_data)"
   ]
  },
  {
   "cell_type": "code",
   "execution_count": 9,
   "metadata": {},
   "outputs": [],
   "source": [
    "new_data = [{**d, \"path\": \"Vividbot/vivid-video-instruct/videos\"} for d in new_data]"
   ]
  },
  {
   "cell_type": "code",
   "execution_count": 10,
   "metadata": {},
   "outputs": [
    {
     "data": {
      "text/plain": [
       "{'id': 'zD5rDjh2whM.4',\n",
       " 'video': 'shard_129/zD5rDjh2whM.4.mp4',\n",
       " 'conversations': [{'from': 'human',\n",
       "   'value': 'Trình bày chi tiết về khung cảnh, nhân vật và sự kiện diễn ra trong video.\\n<video>'},\n",
       "  {'from': 'gpt',\n",
       "   'value': 'Video giới thiệu về công dụng của lá lốt đối với làn da của chị em phụ nữ. Lá lốt có chứa nhiều chất xơ, tinh dầu và phenol, đây đều là những dưỡng chất tốt cho làn da. Lá lốt được nhiều chị em phụ nữ sử dụng trong công thức làm đẹp của riêng mình.'}],\n",
       " 'path': 'Vividbot/vivid-video-instruct/videos'}"
      ]
     },
     "execution_count": 10,
     "metadata": {},
     "output_type": "execute_result"
    }
   ],
   "source": [
    "new_data[-10]"
   ]
  },
  {
   "cell_type": "code",
   "execution_count": 11,
   "metadata": {},
   "outputs": [],
   "source": [
    "delist_ids = [\"jdQwgqP5WAY.7\", \"jjAwFs3Yx2o.3\", \"jjAwFs3Yx2o.7\"]\n",
    "\n",
    "new_data = [x for x in new_data if x[\"id\"] not in delist_ids]"
   ]
  },
  {
   "cell_type": "code",
   "execution_count": null,
   "metadata": {},
   "outputs": [],
   "source": [
    "for d in new_data:\n",
    "  if len(d[\"conversations\"][1][\"value\"].split(\" \")) <= 30:\n",
    "    print(d)"
   ]
  },
  {
   "cell_type": "code",
   "execution_count": 60,
   "metadata": {},
   "outputs": [],
   "source": [
    "custom_data = [\n",
    "  d\n",
    "  for d in new_data\n",
    "  if d[\"video\"].split(\"/\")[0] in [f\"shard_{i}\" for i in range(110, 120)]\n",
    "]"
   ]
  },
  {
   "cell_type": "code",
   "execution_count": 65,
   "metadata": {},
   "outputs": [
    {
     "data": {
      "text/plain": [
       "{'id': 'UI4GFv7Y4XA.10',\n",
       " 'video': 'shard_111/UI4GFv7Y4XA.10.mp4',\n",
       " 'conversations': [{'from': 'human',\n",
       "   'value': 'Viết một bản mô tả toàn diện về video, nắm bắt được điểm chính và những khoảnh khắc đáng nhớ.\\n<video>'},\n",
       "  {'from': 'gpt',\n",
       "   'value': 'Video này giới thiệu một cô bé đang chơi với nhiều loại động vật con trong vườn. Cô bé lần lượt chỉ vào các chuồng và nói tên các loại động vật con như thỏ con, chó con, heo con, gà con, mèo con. Sau đó, cô bé chơi đùa với những con chó con và gà con. Cuối cùng, cô bé cùng hai người bạn của mình đứng trước camera và mỗi người cầm một bình sữa.'}],\n",
       " 'path': 'Vividbot/vivid-video-instruct/videos'}"
      ]
     },
     "execution_count": 65,
     "metadata": {},
     "output_type": "execute_result"
    }
   ],
   "source": [
    "custom_data[1202]"
   ]
  },
  {
   "cell_type": "code",
   "execution_count": 12,
   "metadata": {},
   "outputs": [],
   "source": [
    "with open(f\"{Path.home()}/data/vivid_video_instruct.json\", \"w\") as f:\n",
    "  json.dump(new_data, f, indent=2, ensure_ascii=False)"
   ]
  },
  {
   "cell_type": "code",
   "execution_count": 13,
   "metadata": {},
   "outputs": [
    {
     "data": {
      "text/plain": [
       "92213"
      ]
     },
     "execution_count": 13,
     "metadata": {},
     "output_type": "execute_result"
    }
   ],
   "source": [
    "len(new_data)"
   ]
  },
  {
   "cell_type": "code",
   "execution_count": 14,
   "metadata": {},
   "outputs": [
    {
     "data": {
      "text/plain": [
       "{'id': '01gE8ErrcJ4.0',\n",
       " 'video': 'shard_0/01gE8ErrcJ4.0.mp4',\n",
       " 'conversations': [{'from': 'human',\n",
       "   'value': '<video>\\nSự khác biệt chính giữa hình ảnh phổi đầu và hình ảnh phổi tiếp theo là gì?'},\n",
       "  {'from': 'gpt',\n",
       "   'value': 'Hình ảnh phổi đầu được mô tả với nhiều màu sắc khác nhau, trong khi hình ảnh phổi tiếp theo mô tả cấu trúc của phổi với nhiều túi khí nhỏ.'}],\n",
       " 'path': 'Vividbot/vivid-video-instruct/videos'}"
      ]
     },
     "execution_count": 14,
     "metadata": {},
     "output_type": "execute_result"
    }
   ],
   "source": [
    "new_data[0]"
   ]
  },
  {
   "cell_type": "code",
   "execution_count": 18,
   "metadata": {},
   "outputs": [],
   "source": [
    "item = filter(lambda x: x[\"video\"] == \"shard_60/zCzlzDW6vHE.4.mp4\", new_data)"
   ]
  },
  {
   "cell_type": "code",
   "execution_count": 19,
   "metadata": {},
   "outputs": [
    {
     "data": {
      "text/plain": [
       "{'id': 'zCzlzDW6vHE.4',\n",
       " 'video': 'shard_60/zCzlzDW6vHE.4.mp4',\n",
       " 'conversations': [{'from': 'human',\n",
       "   'value': '<video>\\nCó gì phía sau người đàn ông mặc áo choàng màu vàng ?'},\n",
       "  {'from': 'gpt',\n",
       "   'value': 'Phía sau người đàn ông mặc áo choàng màu vàng là một thành phố cổ kính với những tòa nhà cao tầng.'}],\n",
       " 'path': 'Vividbot/vivid-video-instruct/videos'}"
      ]
     },
     "execution_count": 19,
     "metadata": {},
     "output_type": "execute_result"
    }
   ],
   "source": [
    "next(item)"
   ]
  },
  {
   "cell_type": "code",
   "execution_count": 66,
   "metadata": {},
   "outputs": [],
   "source": [
    "sorted_new_data = sorted(\n",
    "  new_data,\n",
    "  key=lambda x: sum(\n",
    "    [\n",
    "      sum([len(x[\"value\"].split(\" \")) for x in x[\"conversations\"][:j]])\n",
    "      for j in range(1, len(x[\"conversations\"]) + 1)\n",
    "    ]\n",
    "  ),\n",
    "  reverse=True,\n",
    ")"
   ]
  },
  {
   "cell_type": "code",
   "execution_count": 74,
   "metadata": {},
   "outputs": [
    {
     "data": {
      "text/plain": [
       "(975,\n",
       " {'id': 'KRsrPnVGVkE.5',\n",
       "  'video': 'shard_59/KRsrPnVGVkE.5.mp4',\n",
       "  'conversations': [{'from': 'human',\n",
       "    'value': '<video>\\nHình ảnh minh họa cho podcast này là gì?'},\n",
       "   {'from': 'gpt',\n",
       "    'value': 'Hình ảnh là một căn phòng với một chiếc ghế sofa màu xanh lá cây có đệm sọc trắng và xanh lá cây, trên bàn cạnh ghế sofa có một chậu cây nhỏ, bên cạnh bàn là một chiếc bàn nhỏ khác có một chậu cây nhỏ khác, ở góc trên bên phải của hình ảnh là một chiếc điện thoại thông minh màu xanh lá cây với một biểu tượng phát màu trắng, trên màn hình điện thoại là một hình ảnh minh họa cho một podcast với một cô gái đang đọc sách, ở góc trên bên trái của hình ảnh là một dòng chữ màu xanh dương \"Tối giản\" và một dòng chữ màu xanh dương \"Tối ưu\" ở bên dưới, ở giữa hình ảnh là một dòng chữ màu xanh dương \"Lối sống cuộc đời\" với các chữ cái được trang trí bằng các hình ngôi sao màu trắng, ở góc dưới bên phải của hình ảnh là một dòng chữ màu xanh dương \"RADIOCHUALANHTRAITIM\".'},\n",
       "   {'from': 'human', 'value': 'Màu sắc của ghế sofa trong hình ảnh là gì?'},\n",
       "   {'from': 'gpt', 'value': 'Màu xanh lá cây.'},\n",
       "   {'from': 'human', 'value': 'Trên bàn cạnh ghế sofa có gì?'},\n",
       "   {'from': 'gpt', 'value': 'Trên bàn cạnh ghế sofa có một chậu cây nhỏ.'}]})"
      ]
     },
     "execution_count": 74,
     "metadata": {},
     "output_type": "execute_result"
    }
   ],
   "source": [
    "i = 1\n",
    "\n",
    "total_word_count = sum(\n",
    "  [\n",
    "    sum([len(x[\"value\"].split(\" \")) for x in sorted_new_data[i][\"conversations\"][:j]])\n",
    "    for j in range(1, len(sorted_new_data[i][\"conversations\"]) + 1)\n",
    "  ]\n",
    ")\n",
    "total_word_count, sorted_new_data[i]"
   ]
  },
  {
   "cell_type": "code",
   "execution_count": 1,
   "metadata": {},
   "outputs": [],
   "source": [
    "import json\n",
    "from pathlib import Path\n",
    "\n",
    "d2 = json.load(open(f\"{Path.home()}/data/vivid_video_instruct.json\"))"
   ]
  },
  {
   "cell_type": "code",
   "execution_count": 2,
   "metadata": {},
   "outputs": [
    {
     "data": {
      "text/plain": [
       "97448"
      ]
     },
     "execution_count": 2,
     "metadata": {},
     "output_type": "execute_result"
    }
   ],
   "source": [
    "len(d2)"
   ]
  },
  {
   "cell_type": "code",
   "execution_count": 4,
   "metadata": {},
   "outputs": [
    {
     "data": {
      "text/plain": [
       "{'id': 'z3X29hqSTGQ.9',\n",
       " 'video': 'shard_99/z3X29hqSTGQ.9.mp4',\n",
       " 'conversations': [{'from': 'human',\n",
       "   'value': 'Khi nào vụ tấn công tượng đài xảy ra?'},\n",
       "  {'from': 'gpt',\n",
       "   'value': 'Khoảng 3 giờ sáng ngày 10 tháng 6 theo giờ địa phương'}],\n",
       " 'path': 'Vividbot/vivid-video-instruct/videos'}"
      ]
     },
     "execution_count": 4,
     "metadata": {},
     "output_type": "execute_result"
    }
   ],
   "source": [
    "d2[-1]"
   ]
  }
 ],
 "metadata": {
  "kernelspec": {
   "display_name": "vividbot",
   "language": "python",
   "name": "python3"
  },
  "language_info": {
   "codemirror_mode": {
    "name": "ipython",
    "version": 3
   },
   "file_extension": ".py",
   "mimetype": "text/x-python",
   "name": "python",
   "nbconvert_exporter": "python",
   "pygments_lexer": "ipython3",
   "version": "3.10.0"
  }
 },
 "nbformat": 4,
 "nbformat_minor": 2
}
