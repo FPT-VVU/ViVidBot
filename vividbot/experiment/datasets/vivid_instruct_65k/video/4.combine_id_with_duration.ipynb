{
 "cells": [
  {
   "cell_type": "code",
   "execution_count": 2,
   "metadata": {},
   "outputs": [
    {
     "name": "stderr",
     "output_type": "stream",
     "text": [
      "Parameter 'function'=<function map_fn at 0x7f7328291990> of the transform datasets.arrow_dataset.Dataset._map_single couldn't be hashed properly, a random hash was used instead. Make sure your transforms and parameters are serializable with pickle or dill for the dataset fingerprinting and caching to work. If you reuse this transform, the caching mechanism will consider it to be different from the previous calls and recompute everything. This warning is only showed once. Subsequent hashing failures won't be showed.\n"
     ]
    },
    {
     "name": "stdout",
     "output_type": "stream",
     "text": [
      "Dataset({\n",
      "    features: ['id', 'category'],\n",
      "    num_rows: 7943\n",
      "})\n"
     ]
    },
    {
     "data": {
      "application/vnd.jupyter.widget-view+json": {
       "model_id": "410e1d6aa8b24bae8c9e3fe0a942a24c",
       "version_major": 2,
       "version_minor": 0
      },
      "text/plain": [
       "Map (num_proc=12):   0%|          | 0/7943 [00:00<?, ? examples/s]"
      ]
     },
     "metadata": {},
     "output_type": "display_data"
    },
    {
     "name": "stderr",
     "output_type": "stream",
     "text": [
      "ERROR: [youtube] iOsBf4dl1gs: Private video. Sign in if you've been granted access to this video\n",
      "ERROR: [youtube] DX24Yqr_vKE: Private video. Sign in if you've been granted access to this video\n",
      "ERROR: [youtube] mpQt9WCFlp0: Video unavailable. This video contains content from Netflix, who has blocked it in your country on copyright grounds\n",
      "ERROR: [youtube] Hu1yPZqHR74: Video unavailable. This video has been removed by the uploader\n",
      "ERROR: [youtube] WfTUPpXM5iM: Video unavailable. This video has been removed by the uploader\n",
      "ERROR: [youtube] CfVOgHkpJb8: Private video. Sign in if you've been granted access to this video\n",
      "ERROR: [youtube] TNbRqIpMGjA: Private video. Sign in if you've been granted access to this video\n",
      "ERROR: [youtube] l156aB5QHLo: Private video. Sign in if you've been granted access to this video\n",
      "ERROR: [youtube] yFY33Xyf0Ig: This live stream recording is not available.\n",
      "ERROR: [youtube] nJrBvKjGqck: Private video. Sign in if you've been granted access to this video\n",
      "ERROR: [youtube] voUSSgDjkzI: Video unavailable. This video has been removed by the uploader\n",
      "ERROR: [youtube] U30VBTTE6DI: Private video. Sign in if you've been granted access to this video\n",
      "ERROR: [youtube] 2TRLTyDhwFk: Video unavailable. This video has been removed by the uploader\n",
      "ERROR: [youtube] PK0FbX4M1jI: Private video. Sign in if you've been granted access to this video\n",
      "ERROR: [youtube] EP5D3aC41GM: Video unavailable. This video is no longer available because the YouTube account associated with this video has been terminated.\n",
      "ERROR: [youtube] TqMFwc68G-c: Private video. Sign in if you've been granted access to this video\n",
      "ERROR: [youtube] 23TnzEP2Xmk: Private video. Sign in if you've been granted access to this video\n",
      "ERROR: [youtube] jxeM6Zf6plE: Private video. Sign in if you've been granted access to this video\n",
      "ERROR: [youtube] v08FKA4VX6A: Video unavailable. This video is no longer available because the YouTube account associated with this video has been terminated.\n",
      "ERROR: [youtube] GwycK87uvrs: Video unavailable. This video has been removed by the uploader\n",
      "ERROR: [youtube] _WPJS4RsF7U: Private video. Sign in if you've been granted access to this video\n",
      "ERROR: [youtube] cGmPkGfkq-A: Private video. Sign in if you've been granted access to this video\n",
      "ERROR: [youtube] zw45juTe-RI: Private video. Sign in if you've been granted access to this video\n",
      "ERROR: [youtube] vVbHZo3SBO0: Private video. Sign in if you've been granted access to this video\n",
      "ERROR: [youtube] hZhhNqEAzRQ: This live stream recording is not available.\n",
      "ERROR: [youtube] MB04PommiJ4: Video unavailable. This video has been removed by the uploader\n",
      "ERROR: [youtube] 1_aEZHRHOyw: Private video. Sign in if you've been granted access to this video\n",
      "ERROR: [youtube] UzqYWsH9HRs: Video unavailable. This video is no longer available because the YouTube account associated with this video has been terminated.\n",
      "ERROR: [youtube] nnpErf9yiBw: Video unavailable. This video is no longer available because the YouTube account associated with this video has been terminated.\n",
      "ERROR: [youtube] 0df9o7-LUPw: Video unavailable. This video has been removed by the uploader\n",
      "ERROR: [youtube] md5YsALxLig: Video unavailable. This video has been removed by the uploader\n",
      "ERROR: [youtube] S1tuoOv3BJ4: Private video. Sign in if you've been granted access to this video\n",
      "ERROR: [youtube] lJrwp2Ax9Vg: Video unavailable. This video is no longer available due to a copyright claim by Youku - 优酷信息技术（北京）有限公司\n",
      "ERROR: [youtube] aCUUFQEd98g: Video unavailable. This video has been removed by the uploader\n",
      "ERROR: [youtube] tpr-Y4fu_WI: Video unavailable. This video has been removed by the uploader\n",
      "ERROR: [youtube] SDPlG-whjeY: Video unavailable. This video is no longer available because the YouTube account associated with this video has been terminated.\n",
      "ERROR: [youtube] R2c-hrqYcBg: Private video. Sign in if you've been granted access to this video\n",
      "ERROR: [youtube] sU1kdjmkJ6Y: Private video. Sign in if you've been granted access to this video\n",
      "ERROR: [youtube] 29EbjBPWnE4: Video unavailable. This video is no longer available because the YouTube account associated with this video has been terminated.\n",
      "ERROR: [youtube] E_jGS7WRuJM: Video unavailable. This video is no longer available because the YouTube account associated with this video has been terminated.\n",
      "ERROR: [youtube] -kcdpE2jdkE: Video unavailable. This video has been removed by the uploader\n",
      "ERROR: [youtube] DpkO195wRko: Private video. Sign in if you've been granted access to this video\n",
      "ERROR: [youtube] wSYaFrYQ0Dk: Video unavailable. This video has been removed by the uploader\n",
      "ERROR: [youtube] jKj9Vax-Sq0: This video has been removed for violating YouTube's Community Guidelines\n",
      "ERROR: [youtube] 9zsy0fDQyF4: Private video. Sign in if you've been granted access to this video\n",
      "ERROR: [youtube] PCK_4rNLGRc: Private video. Sign in if you've been granted access to this video\n",
      "ERROR: [youtube] FKAwcG3Dgw0: Video unavailable. This video is no longer available because the YouTube account associated with this video has been terminated.\n",
      "ERROR: [youtube] sUgk5JM4Nc0: Private video. Sign in if you've been granted access to this video\n",
      "ERROR: [youtube] _wUhyuXcMFk: Video unavailable. This video has been removed by the uploader\n",
      "ERROR: [youtube] 6uplN9iBta8: Private video. Sign in if you've been granted access to this video\n",
      "ERROR: [youtube] b-iZAcm_wIg: This live stream recording is not available.\n",
      "ERROR: [youtube] dd_x6dQ5Bqs: Video unavailable. This video is no longer available because the YouTube account associated with this video has been terminated.\n",
      "ERROR: [youtube] oqYBuRSlEzc: Video unavailable. This video has been removed by the uploader\n",
      "ERROR: [youtube] 85UOYwEny5M: Private video. Sign in if you've been granted access to this video\n",
      "ERROR: [youtube] X7HjhIFoNpY: Private video. Sign in if you've been granted access to this video\n",
      "ERROR: [youtube] 3ic31jAMYv8: Private video. Sign in if you've been granted access to this video\n",
      "ERROR: [youtube] H95bWAZ6LPM: This live stream recording is not available.\n",
      "ERROR: [youtube] RO3br-ZaLH8: Video unavailable. This video has been removed by the uploader\n",
      "ERROR: [youtube] ttyYMiKKfxk: Video unavailable. This video is no longer available because the uploader has closed their YouTube account.\n",
      "ERROR: [youtube] A6Z2y989jm8: Private video. Sign in if you've been granted access to this video\n",
      "ERROR: [youtube] eCTIKRqzOtA: Private video. Sign in if you've been granted access to this video\n",
      "ERROR: [youtube] K_B6LDOZnOo: Video unavailable. This video has been removed by the uploader\n",
      "ERROR: [youtube] SDqBdolzw6c: Video unavailable. This video is no longer available because the YouTube account associated with this video has been terminated.\n",
      "ERROR: [youtube] n2dGZ2ZxcyE: Private video. Sign in if you've been granted access to this video\n",
      "ERROR: [youtube] eBnwd7_qeoQ: Video unavailable. This video has been removed by the uploader\n",
      "ERROR: [youtube] 19iLjZW_su8: This live stream recording is not available.\n",
      "ERROR: [youtube] or7KJ69ONig: Private video. Sign in if you've been granted access to this video\n",
      "ERROR: [youtube] 7khswU5wQUk: Private video. Sign in if you've been granted access to this video\n",
      "ERROR: [youtube] vuNuG8Y09yw: Video unavailable. This video is no longer available because the YouTube account associated with this video has been terminated.\n",
      "ERROR: [youtube] iuiLNMCKZ7Q: Video unavailable. This video has been removed by the uploader\n",
      "ERROR: [youtube] bEFSt17Wnxc: Private video. Sign in if you've been granted access to this video\n"
     ]
    }
   ],
   "source": [
    "import os\n",
    "\n",
    "from datasets import load_dataset\n",
    "from yt_dlp import YoutubeDL\n",
    "from yt_dlp.utils import DownloadError\n",
    "\n",
    "dataset = load_dataset(\"json\", data_files=\"data/vivid_instruct_65k_raw.jsonl\")[\"train\"]\n",
    "\n",
    "print(dataset)\n",
    "\n",
    "\n",
    "def extract_duration(video_id):\n",
    "  with YoutubeDL(params={\"format\": \"best[ext=mp4]\", \"quiet\": True}) as ydl:\n",
    "    try:\n",
    "      video_info = ydl.extract_info(\n",
    "        f\"https://www.youtube.com/watch?v={video_id}\", download=False\n",
    "      )\n",
    "      video_duration = video_info.get(\"duration\", -1)\n",
    "      return video_duration\n",
    "    except DownloadError:\n",
    "      return -1\n",
    "\n",
    "\n",
    "def map_fn(batch):\n",
    "  temp = {}\n",
    "  durations = []\n",
    "  for video_id in batch[\"id\"]:\n",
    "    duration = extract_duration(video_id)\n",
    "    durations.append(duration)\n",
    "\n",
    "  temp[\"id\"] = batch[\"id\"]\n",
    "  temp[\"category\"] = batch[\"category\"]\n",
    "  temp[\"duration\"] = durations\n",
    "  return temp\n",
    "\n",
    "\n",
    "# data = dataset.select(range(10))\n",
    "data = dataset.map(\n",
    "  map_fn,\n",
    "  batched=True,\n",
    "  batch_size=16,\n",
    "  num_proc=os.cpu_count(),\n",
    "  remove_columns=[\"id\", \"category\"],\n",
    ")"
   ]
  },
  {
   "cell_type": "code",
   "execution_count": 5,
   "metadata": {},
   "outputs": [
    {
     "data": {
      "application/vnd.jupyter.widget-view+json": {
       "model_id": "3b6bd2a750f245d18a2d0bb02a56fcdd",
       "version_major": 2,
       "version_minor": 0
      },
      "text/plain": [
       "Filter:   0%|          | 0/7943 [00:00<?, ? examples/s]"
      ]
     },
     "metadata": {},
     "output_type": "display_data"
    },
    {
     "name": "stdout",
     "output_type": "stream",
     "text": [
      "Dataset({\n",
      "    features: ['id', 'category', 'duration'],\n",
      "    num_rows: 7871\n",
      "})\n"
     ]
    }
   ],
   "source": [
    "print(data.filter(lambda x: x.get(\"duration\", -1) > -1))"
   ]
  },
  {
   "cell_type": "code",
   "execution_count": 6,
   "metadata": {},
   "outputs": [
    {
     "data": {
      "application/vnd.jupyter.widget-view+json": {
       "model_id": "f30fe7c520164dd6a6d45397b21216e6",
       "version_major": 2,
       "version_minor": 0
      },
      "text/plain": [
       "Creating json from Arrow format:   0%|          | 0/8 [00:00<?, ?ba/s]"
      ]
     },
     "metadata": {},
     "output_type": "display_data"
    },
    {
     "data": {
      "text/plain": [
       "473371"
      ]
     },
     "execution_count": 6,
     "metadata": {},
     "output_type": "execute_result"
    }
   ],
   "source": [
    "data.filter(lambda x: x.get(\"duration\", -1) > -1).to_json(\n",
    "  \"data/vivid_instruct_65k_test.jsonl\", index=False\n",
    ")"
   ]
  }
 ],
 "metadata": {
  "kernelspec": {
   "display_name": "Python 3",
   "language": "python",
   "name": "python3"
  },
  "language_info": {
   "codemirror_mode": {
    "name": "ipython",
    "version": 3
   },
   "file_extension": ".py",
   "mimetype": "text/x-python",
   "name": "python",
   "nbconvert_exporter": "python",
   "pygments_lexer": "ipython3",
   "version": "3.10.12"
  }
 },
 "nbformat": 4,
 "nbformat_minor": 2
}
