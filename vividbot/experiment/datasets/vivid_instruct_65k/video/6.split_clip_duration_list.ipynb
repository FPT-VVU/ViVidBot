{
 "cells": [
  {
   "cell_type": "code",
   "execution_count": 5,
   "metadata": {},
   "outputs": [
    {
     "name": "stderr",
     "output_type": "stream",
     "text": [
      "Generating train split: 7118 examples [00:00, 1222665.90 examples/s]\n"
     ]
    }
   ],
   "source": [
    "import json\n",
    "from datasets import load_dataset\n",
    "\n",
    "dataset = load_dataset(\"json\", data_files=\"data/5.vivid_instruct_65k_result.jsonl\")[\n",
    "  \"train\"\n",
    "]"
   ]
  },
  {
   "cell_type": "code",
   "execution_count": 6,
   "metadata": {},
   "outputs": [],
   "source": [
    "final_result = []\n",
    "\n",
    "for i, data in enumerate(dataset):\n",
    "  clip_durations = data[\"clip_durations\"]\n",
    "  video_id = data[\"id\"]\n",
    "  video_category = data[\"category\"]\n",
    "  for j in range(len(clip_durations)):\n",
    "    final_result.append(\n",
    "      {\n",
    "        \"id\": f\"{video_id}.{j}\",\n",
    "        \"start\": sum(clip_durations[:j]),\n",
    "        \"end\": sum(clip_durations[: j + 1]),\n",
    "        \"category\": video_category,\n",
    "      }\n",
    "    )\n",
    "\n",
    "with open(\"data/6.vivid_instruct_65k_result.jsonl\", \"w\") as f:\n",
    "  for item in final_result:\n",
    "    f.write(json.dumps(item) + \"\\n\")"
   ]
  }
 ],
 "metadata": {
  "kernelspec": {
   "display_name": "Python 3",
   "language": "python",
   "name": "python3"
  },
  "language_info": {
   "codemirror_mode": {
    "name": "ipython",
    "version": 3
   },
   "file_extension": ".py",
   "mimetype": "text/x-python",
   "name": "python",
   "nbconvert_exporter": "python",
   "pygments_lexer": "ipython3",
   "version": "3.10.12"
  }
 },
 "nbformat": 4,
 "nbformat_minor": 2
}
