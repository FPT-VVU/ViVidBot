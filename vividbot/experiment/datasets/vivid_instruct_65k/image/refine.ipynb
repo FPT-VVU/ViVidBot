{
 "cells": [
  {
   "cell_type": "code",
   "execution_count": 6,
   "metadata": {},
   "outputs": [],
   "source": [
    "import json\n",
    "from pathlib import Path\n",
    "\n",
    "data = json.load(open(f\"{Path.home()}/data/vivid_image_instruct_56k_all.json\"))"
   ]
  },
  {
   "cell_type": "code",
   "execution_count": 7,
   "metadata": {},
   "outputs": [
    {
     "data": {
      "text/plain": [
       "{'id': '00003b9c36632879beb74144788d50f7',\n",
       " 'image': 'images/00003b9c36632879beb74144788d50f7.jpg',\n",
       " 'conversations': [{'from': 'human',\n",
       "   'value': '<image>\\nCáp treo trong hình đang di chuyển về hướng nào?'},\n",
       "  {'from': 'gpt',\n",
       "   'value': 'Cáp treo trong hình đang di chuyển từ đất liền ra đảo.'},\n",
       "  {'from': 'human', 'value': 'Thời tiết trong bức ảnh như thế nào?'},\n",
       "  {'from': 'gpt',\n",
       "   'value': 'Thời tiết trong bức ảnh rất đẹp, trời trong xanh, nắng đẹp.'},\n",
       "  {'from': 'human',\n",
       "   'value': 'Ngoài cáp treo, phương tiện nào khác được nhìn thấy trong hình?'},\n",
       "  {'from': 'gpt',\n",
       "   'value': 'Ngoài cáp treo, trong hình còn thấy du thuyền và tàu thuyền.'},\n",
       "  {'from': 'human', 'value': 'Hình ảnh gợi lên không khí gì?'},\n",
       "  {'from': 'gpt',\n",
       "   'value': 'Hình ảnh gợi lên không khí trong lành, mát mẻ và yên bình của vùng biển.'}],\n",
       " 'timestamp': 1722110894,\n",
       " 'keyword': 'điểm đến nha trang',\n",
       " 'category': 'Travel'}"
      ]
     },
     "execution_count": 7,
     "metadata": {},
     "output_type": "execute_result"
    }
   ],
   "source": [
    "sorted(data, key=lambda x: x[\"image\"])[0]"
   ]
  },
  {
   "cell_type": "code",
   "execution_count": 3,
   "metadata": {},
   "outputs": [],
   "source": [
    "longs = [x for x in data if len(x[\"conversations\"]) > 2 * 3]\n",
    "shorts = [x for x in data if len(x[\"conversations\"]) <= 2 * 3]"
   ]
  },
  {
   "cell_type": "code",
   "execution_count": 12,
   "metadata": {},
   "outputs": [],
   "source": [
    "superlongs = []\n",
    "\n",
    "for i in range(0, len(data)):\n",
    "  # total word count incrementally of all conversations, i.e. 1st, 1st+2nd, 1st+2nd+3rd, etc.\n",
    "\n",
    "  total_word_count = sum(\n",
    "    [\n",
    "      sum([len(x[\"value\"].split(\" \")) for x in data[i][\"conversations\"][:j]])\n",
    "      for j in range(1, len(data[i][\"conversations\"]) + 1)\n",
    "    ]\n",
    "  )\n",
    "  if total_word_count > 4000:\n",
    "    superlongs.append((i, len(data[i][\"conversations\"]), data[i][\"conversations\"]))"
   ]
  },
  {
   "cell_type": "code",
   "execution_count": 13,
   "metadata": {},
   "outputs": [
    {
     "data": {
      "text/plain": [
       "127"
      ]
     },
     "execution_count": 13,
     "metadata": {},
     "output_type": "execute_result"
    }
   ],
   "source": [
    "len(superlongs)"
   ]
  },
  {
   "cell_type": "code",
   "execution_count": 14,
   "metadata": {},
   "outputs": [],
   "source": [
    "sorted_data = sorted(\n",
    "  data,\n",
    "  key=lambda x: sum(\n",
    "    [\n",
    "      sum([len(x[\"value\"].split(\" \")) for x in x[\"conversations\"][:j]])\n",
    "      for j in range(1, len(x[\"conversations\"]) + 1)\n",
    "    ]\n",
    "  ),\n",
    "  reverse=True,\n",
    ")"
   ]
  },
  {
   "cell_type": "code",
   "execution_count": 15,
   "metadata": {},
   "outputs": [
    {
     "data": {
      "text/plain": [
       "56859"
      ]
     },
     "execution_count": 15,
     "metadata": {},
     "output_type": "execute_result"
    }
   ],
   "source": [
    "len(sorted_data)"
   ]
  },
  {
   "cell_type": "code",
   "execution_count": 16,
   "metadata": {},
   "outputs": [
    {
     "data": {
      "text/plain": [
       "127"
      ]
     },
     "execution_count": 16,
     "metadata": {},
     "output_type": "execute_result"
    }
   ],
   "source": [
    "len(superlongs)"
   ]
  },
  {
   "cell_type": "code",
   "execution_count": 17,
   "metadata": {},
   "outputs": [
    {
     "data": {
      "text/plain": [
       "(5293,\n",
       " 28,\n",
       " [{'from': 'human',\n",
       "   'value': '<image>\\nMẹo nấu ăn khẩn cấp này được chia thành bao nhiêu phần?'},\n",
       "  {'from': 'gpt', 'value': 'Mẹo nấu ăn khẩn cấp này được chia thành 10 phần.'},\n",
       "  {'from': 'human',\n",
       "   'value': 'Phần nào trong mẹo nấu ăn khẩn cấp này đề cập đến việc nấu ăn?'},\n",
       "  {'from': 'gpt',\n",
       "   'value': 'Phần \"Nấu ăn\" trong mẹo nấu ăn khẩn cấp này đề cập đến việc nấu ăn.'},\n",
       "  {'from': 'human',\n",
       "   'value': 'Có những phần nào trong mẹo nấu ăn khẩn cấp này đề cập đến việc làm bánh?'},\n",
       "  {'from': 'gpt',\n",
       "   'value': 'Có 4 phần trong mẹo nấu ăn khẩn cấp này đề cập đến việc làm bánh: Bánh bị nứt, Bánh bị khô, Bánh bị nhão, Lòng trắng trứng ko mịn.'},\n",
       "  {'from': 'human',\n",
       "   'value': 'Phần nào trong mẹo nấu ăn khẩn cấp này đề cập đến việc nấu thịt?'},\n",
       "  {'from': 'gpt',\n",
       "   'value': 'Phần \"Thịt còn sống\" trong mẹo nấu ăn khẩn cấp này đề cập đến việc nấu thịt.'},\n",
       "  {'from': 'human',\n",
       "   'value': 'Phần nào trong mẹo nấu ăn khẩn cấp này đề cập đến việc nấu mì?'},\n",
       "  {'from': 'gpt',\n",
       "   'value': 'Phần \"Mì nấu nhùn\" trong mẹo nấu ăn khẩn cấp này đề cập đến việc nấu mì.'},\n",
       "  {'from': 'human',\n",
       "   'value': 'Phần nào trong mẹo nấu ăn khẩn cấp này đề cập đến việc nấu trứng?'},\n",
       "  {'from': 'gpt',\n",
       "   'value': 'Phần \"Trứng luộc bị bỏ\" trong mẹo nấu ăn khẩn cấp này đề cập đến việc nấu trứng.'},\n",
       "  {'from': 'human',\n",
       "   'value': 'Phần nào trong mẹo nấu ăn khẩn cấp này đề cập đến việc nấu quả?'},\n",
       "  {'from': 'gpt',\n",
       "   'value': 'Phần \"Quả cưng\" trong mẹo nấu ăn khẩn cấp này đề cập đến việc nấu quả.'},\n",
       "  {'from': 'human',\n",
       "   'value': 'Phần nào trong mẹo nấu ăn khẩn cấp này đề cập đến việc nấu súp?'},\n",
       "  {'from': 'gpt',\n",
       "   'value': 'Phần \"Quả mặn\" trong mẹo nấu ăn khẩn cấp này đề cập đến việc nấu súp.'},\n",
       "  {'from': 'human',\n",
       "   'value': 'Phần nào trong mẹo nấu ăn khẩn cấp này đề cập đến việc nấu món ngọt?'},\n",
       "  {'from': 'gpt',\n",
       "   'value': 'Phần \"Quả ngọt\" trong mẹo nấu ăn khẩn cấp này đề cập đến việc nấu món ngọt.'},\n",
       "  {'from': 'human',\n",
       "   'value': 'Phần nào trong mẹo nấu ăn khẩn cấp này đề cập đến việc nấu món chua?'},\n",
       "  {'from': 'gpt',\n",
       "   'value': 'Phần \"Quả chua\" trong mẹo nấu ăn khẩn cấp này đề cập đến việc nấu món chua.'},\n",
       "  {'from': 'human',\n",
       "   'value': 'Phần nào trong mẹo nấu ăn khẩn cấp này đề cập đến việc nấu món cay?'},\n",
       "  {'from': 'gpt',\n",
       "   'value': 'Phần \"Quả cay\" trong mẹo nấu ăn khẩn cấp này đề cập đến việc nấu món cay.'},\n",
       "  {'from': 'human',\n",
       "   'value': 'Phần nào trong mẹo nấu ăn khẩn cấp này đề cập đến việc nấu món không rán vàng?'},\n",
       "  {'from': 'gpt',\n",
       "   'value': 'Phần \"Thức ăn không rán vàng\" trong mẹo nấu ăn khẩn cấp này đề cập đến việc nấu món không rán vàng.'},\n",
       "  {'from': 'human',\n",
       "   'value': 'Phần nào trong mẹo nấu ăn khẩn cấp này đề cập đến việc nấu món chiên giòn quá béo?'},\n",
       "  {'from': 'gpt',\n",
       "   'value': 'Phần \"Thức ăn chiên giòn quá béo\" trong mẹo nấu ăn khẩn cấp này đề cập đến việc nấu món chiên giòn quá béo.'},\n",
       "  {'from': 'human',\n",
       "   'value': 'Phần nào trong mẹo nấu ăn khẩn cấp này đề cập đến việc nướng không đều?'},\n",
       "  {'from': 'gpt',\n",
       "   'value': 'Phần \"Nướng không đều\" trong mẹo nấu ăn khẩn cấp này đề cập đến việc nướng không đều.'}])"
      ]
     },
     "execution_count": 17,
     "metadata": {},
     "output_type": "execute_result"
    }
   ],
   "source": [
    "superlongs[0]"
   ]
  },
  {
   "cell_type": "code",
   "execution_count": 63,
   "metadata": {},
   "outputs": [],
   "source": [
    "new_data = []\n",
    "\n",
    "for d in data:\n",
    "  d_copy = d.copy()\n",
    "  new_conv = []\n",
    "  for i in range(0, len(d[\"conversations\"]), 2):\n",
    "    conv = d[\"conversations\"][i : i + 2]\n",
    "    conv[0][\"value\"] = conv[0][\"value\"].strip()\n",
    "    conv[1][\"value\"] = conv[1][\"value\"].strip()\n",
    "    if (\n",
    "      len(conv[1][\"value\"].split(\" \")) > 10\n",
    "      and len(conv[1][\"value\"].split(\" \")) < 80\n",
    "      and len(conv[0][\"value\"].split(\" \")) > 2\n",
    "      and len(conv[0][\"value\"].split(\" \")) < 40\n",
    "    ):\n",
    "      new_conv.extend(conv)\n",
    "  if len(new_conv) > 0:\n",
    "    d_copy[\"conversations\"] = []\n",
    "    total_word_count = 0\n",
    "    for i in range(0, len(new_conv), 2):\n",
    "      try:\n",
    "        total_word_count += total_word_count + len(new_conv[i][\"value\"].split(\" \"))\n",
    "        if total_word_count < 1000:\n",
    "          d_copy[\"conversations\"].extend(new_conv[i : i + 2])\n",
    "        total_word_count += len(new_conv[i + 1][\"value\"].split(\" \"))\n",
    "      except:\n",
    "        pass\n",
    "    new_data.append(d_copy)"
   ]
  },
  {
   "cell_type": "code",
   "execution_count": 64,
   "metadata": {},
   "outputs": [
    {
     "data": {
      "text/plain": [
       "54338"
      ]
     },
     "execution_count": 64,
     "metadata": {},
     "output_type": "execute_result"
    }
   ],
   "source": [
    "len(new_data)"
   ]
  },
  {
   "cell_type": "code",
   "execution_count": 65,
   "metadata": {},
   "outputs": [
    {
     "data": {
      "text/plain": [
       "{'id': '915363097db803a7051ae24e1a4d03db',\n",
       " 'image': 'images/915363097db803a7051ae24e1a4d03db.jpg',\n",
       " 'conversations': [{'from': 'human', 'value': 'Họ đang làm gì trên bãi biển?'},\n",
       "  {'from': 'gpt',\n",
       "   'value': 'Họ đang đứng trên bãi biển, giơ tay lên chào tạm biệt biển.'},\n",
       "  {'from': 'human', 'value': 'Bầu trời trong bức ảnh như thế nào?'},\n",
       "  {'from': 'gpt',\n",
       "   'value': 'Bầu trời trong bức ảnh rất trong xanh và cao vời vợi.'}],\n",
       " 'timestamp': 1722108179,\n",
       " 'keyword': 'phim bộ hàn quốc hay nhất',\n",
       " 'category': 'Entertainment'}"
      ]
     },
     "execution_count": 65,
     "metadata": {},
     "output_type": "execute_result"
    }
   ],
   "source": [
    "new_data[100]"
   ]
  },
  {
   "cell_type": "code",
   "execution_count": 66,
   "metadata": {},
   "outputs": [],
   "source": [
    "sorted_new_data = sorted(\n",
    "  new_data,\n",
    "  key=lambda x: sum(\n",
    "    [\n",
    "      sum([len(x[\"value\"].split(\" \")) for x in x[\"conversations\"][:j]])\n",
    "      for j in range(1, len(x[\"conversations\"]) + 1)\n",
    "    ]\n",
    "  ),\n",
    "  reverse=True,\n",
    ")"
   ]
  },
  {
   "cell_type": "code",
   "execution_count": 67,
   "metadata": {},
   "outputs": [
    {
     "data": {
      "text/plain": [
       "{'id': '5a739efa08ecdf9eecca5bb491d70458',\n",
       " 'image': 'images/5a739efa08ecdf9eecca5bb491d70458.jpg',\n",
       " 'conversations': [{'from': 'human',\n",
       "   'value': 'Chiến dịch Hồ Chí Minh là chiến dịch quân sự lớn nhất của quân đội Việt Nam trong cuộc chiến tranh nào?\\n<image>'},\n",
       "  {'from': 'gpt',\n",
       "   'value': 'Chiến dịch Hồ Chí Minh là chiến dịch quân sự lớn nhất của Quân đội Nhân dân Việt Nam trong cuộc chiến tranh Việt Nam, diễn cuộc kháng chiến chống Mỹ cứu nước của dân tộc Việt Nam đi đến thắng lợi hoàn toàn.'},\n",
       "  {'from': 'human',\n",
       "   'value': 'Lực lượng quân đội Việt Nam và quân đội Mỹ có bao nhiêu quân số trong chiến dịch Hồ Chí Minh?'},\n",
       "  {'from': 'gpt',\n",
       "   'value': 'Lực lượng quân đội Việt Nam có 250.000 quân chủ lực, 20.000 quân địa phương và du kích, 180.000 dân công phục vụ hậu cần chiến dịch. Lực lượng quân đội Mỹ có 14.700 quân chủ lực, 405.300 quân tập trung.'},\n",
       "  {'from': 'human',\n",
       "   'value': 'Quân đội Việt Nam sử dụng bao nhiêu xe tăng, xe thiết giáp, pháo, máy bay trong chiến dịch Hồ Chí Minh?'},\n",
       "  {'from': 'gpt',\n",
       "   'value': 'Quân đội Việt Nam sử dụng 265 xe tăng, 127 xe thiết giáp, 241 pháo xe kéo, hơn 400 pháo cao xạ, 1600 xe kỹ thuật chiến đấu, 500 tên lửa, pháo phòng không. Quân đội Mỹ sử dụng 1117 xe tăng và xe thiết giáp, 772 pháo cỡ lớn, 1431 tàu và xuồng chiến đấu, hơn 1200 máy bay.'},\n",
       "  {'from': 'human',\n",
       "   'value': 'Quân đội Việt Nam và quân đội Mỹ bị thiệt hại bao nhiêu xe tăng, pháo, máy bay trong chiến dịch Hồ Chí Minh?'},\n",
       "  {'from': 'gpt',\n",
       "   'value': 'Quân đội Việt Nam bị thiệt hại 33 xe tăng bị cháy và hỏng. Quân đội Mỹ bị thiệt hại 400 xe tăng bị cháy và hỏng, hơn 500 khẩu pháo, 600 tàu chiến, hơn 400 xe tăng - thiết giáp, 3000 xe các loại, 800 máy bay, toàn bộ kho tăng bị thu giữ.'}],\n",
       " 'timestamp': 1722435725,\n",
       " 'keyword': 'địa lý Việt Nam',\n",
       " 'category': 'Education'}"
      ]
     },
     "execution_count": 67,
     "metadata": {},
     "output_type": "execute_result"
    }
   ],
   "source": [
    "sorted_new_data[0]"
   ]
  },
  {
   "cell_type": "code",
   "execution_count": 63,
   "metadata": {},
   "outputs": [],
   "source": [
    "new_data = [\n",
    "  {**x, \"conversations\": x[\"conversations\"][:6]}\n",
    "  for x in sorted_data\n",
    "  if len(x[\"conversations\"][1][\"value\"].split(\" \")) > 10\n",
    "]"
   ]
  },
  {
   "cell_type": "code",
   "execution_count": 68,
   "metadata": {},
   "outputs": [],
   "source": [
    "new_data = sorted(new_data, key=lambda x: x[\"image\"])"
   ]
  },
  {
   "cell_type": "code",
   "execution_count": 69,
   "metadata": {},
   "outputs": [
    {
     "data": {
      "text/plain": [
       "54338"
      ]
     },
     "execution_count": 69,
     "metadata": {},
     "output_type": "execute_result"
    }
   ],
   "source": [
    "len(new_data)"
   ]
  },
  {
   "cell_type": "code",
   "execution_count": 71,
   "metadata": {},
   "outputs": [],
   "source": [
    "new_data = [{**d, \"path\": \"Vividbot/vivid-image-instruct/images\"} for d in new_data]"
   ]
  },
  {
   "cell_type": "code",
   "execution_count": 72,
   "metadata": {},
   "outputs": [],
   "source": [
    "with open(f\"{Path.home()}/data/vivid_image_instruct.json\", \"w\") as f:\n",
    "  json.dump(new_data, f, indent=2, ensure_ascii=False)"
   ]
  },
  {
   "cell_type": "code",
   "execution_count": 66,
   "metadata": {},
   "outputs": [],
   "source": [
    "sorted_new_data = sorted(\n",
    "  new_data,\n",
    "  key=lambda x: sum(\n",
    "    [\n",
    "      sum([len(x[\"value\"].split(\" \")) for x in x[\"conversations\"][:j]])\n",
    "      for j in range(1, len(x[\"conversations\"]) + 1)\n",
    "    ]\n",
    "  ),\n",
    "  reverse=True,\n",
    ")"
   ]
  },
  {
   "cell_type": "code",
   "execution_count": 74,
   "metadata": {},
   "outputs": [
    {
     "data": {
      "text/plain": [
       "(975,\n",
       " {'id': 'KRsrPnVGVkE.5',\n",
       "  'video': 'shard_59/KRsrPnVGVkE.5.mp4',\n",
       "  'conversations': [{'from': 'human',\n",
       "    'value': '<video>\\nHình ảnh minh họa cho podcast này là gì?'},\n",
       "   {'from': 'gpt',\n",
       "    'value': 'Hình ảnh là một căn phòng với một chiếc ghế sofa màu xanh lá cây có đệm sọc trắng và xanh lá cây, trên bàn cạnh ghế sofa có một chậu cây nhỏ, bên cạnh bàn là một chiếc bàn nhỏ khác có một chậu cây nhỏ khác, ở góc trên bên phải của hình ảnh là một chiếc điện thoại thông minh màu xanh lá cây với một biểu tượng phát màu trắng, trên màn hình điện thoại là một hình ảnh minh họa cho một podcast với một cô gái đang đọc sách, ở góc trên bên trái của hình ảnh là một dòng chữ màu xanh dương \"Tối giản\" và một dòng chữ màu xanh dương \"Tối ưu\" ở bên dưới, ở giữa hình ảnh là một dòng chữ màu xanh dương \"Lối sống cuộc đời\" với các chữ cái được trang trí bằng các hình ngôi sao màu trắng, ở góc dưới bên phải của hình ảnh là một dòng chữ màu xanh dương \"RADIOCHUALANHTRAITIM\".'},\n",
       "   {'from': 'human', 'value': 'Màu sắc của ghế sofa trong hình ảnh là gì?'},\n",
       "   {'from': 'gpt', 'value': 'Màu xanh lá cây.'},\n",
       "   {'from': 'human', 'value': 'Trên bàn cạnh ghế sofa có gì?'},\n",
       "   {'from': 'gpt', 'value': 'Trên bàn cạnh ghế sofa có một chậu cây nhỏ.'}]})"
      ]
     },
     "execution_count": 74,
     "metadata": {},
     "output_type": "execute_result"
    }
   ],
   "source": [
    "i = 1\n",
    "\n",
    "total_word_count = sum(\n",
    "  [\n",
    "    sum([len(x[\"value\"].split(\" \")) for x in sorted_new_data[i][\"conversations\"][:j]])\n",
    "    for j in range(1, len(sorted_new_data[i][\"conversations\"]) + 1)\n",
    "  ]\n",
    ")\n",
    "total_word_count, sorted_new_data[i]"
   ]
  },
  {
   "cell_type": "code",
   "execution_count": 1,
   "metadata": {},
   "outputs": [],
   "source": [
    "import json\n",
    "from pathlib import Path\n",
    "\n",
    "d2 = json.load(open(f\"{Path.home()}/data/vivid_image_instruct.json\"))"
   ]
  },
  {
   "cell_type": "code",
   "execution_count": 2,
   "metadata": {},
   "outputs": [
    {
     "data": {
      "text/plain": [
       "54338"
      ]
     },
     "execution_count": 2,
     "metadata": {},
     "output_type": "execute_result"
    }
   ],
   "source": [
    "len(d2)"
   ]
  },
  {
   "cell_type": "code",
   "execution_count": 4,
   "metadata": {},
   "outputs": [
    {
     "data": {
      "text/plain": [
       "{'id': 'fffc6aaf3db17a781cfdb39e9608e3d4',\n",
       " 'image': 'images/fffc6aaf3db17a781cfdb39e9608e3d4.jpg',\n",
       " 'conversations': [{'from': 'human',\n",
       "   'value': '<image>\\nLoại máy chơi game cầm tay này là gì?'},\n",
       "  {'from': 'gpt',\n",
       "   'value': 'Đây là một chiếc máy chơi game cầm tay Game Boy Color.'},\n",
       "  {'from': 'human', 'value': 'Hình ảnh nào được in trên máy chơi game?'},\n",
       "  {'from': 'gpt',\n",
       "   'value': 'Hình ảnh được in trên máy chơi game là biểu tượng của ban nhạc Joy Division, một ban nhạc rock người Anh.'}],\n",
       " 'timestamp': 1722420453,\n",
       " 'keyword': 'game retro',\n",
       " 'category': 'Gaming',\n",
       " 'path': 'Vividbot/vivid-image-instruct/images'}"
      ]
     },
     "execution_count": 4,
     "metadata": {},
     "output_type": "execute_result"
    }
   ],
   "source": [
    "d2[-1]"
   ]
  }
 ],
 "metadata": {
  "kernelspec": {
   "display_name": "vividbot",
   "language": "python",
   "name": "python3"
  },
  "language_info": {
   "codemirror_mode": {
    "name": "ipython",
    "version": 3
   },
   "file_extension": ".py",
   "mimetype": "text/x-python",
   "name": "python",
   "nbconvert_exporter": "python",
   "pygments_lexer": "ipython3",
   "version": "3.10.0"
  }
 },
 "nbformat": 4,
 "nbformat_minor": 2
}
