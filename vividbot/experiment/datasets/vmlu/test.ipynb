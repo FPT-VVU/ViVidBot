{
 "cells": [
  {
   "cell_type": "code",
   "execution_count": 8,
   "metadata": {},
   "outputs": [],
   "source": [
    "import json\n",
    "from pathlib import Path\n",
    "\n",
    "DATA_PATH = f\"{Path.home()}/data/vmlu_v1.5\"\n",
    "dev_data = [json.loads(d) for d in open(f\"{DATA_PATH}/dev.jsonl\").readlines()]\n",
    "valid_data = [json.loads(d) for d in open(f\"{DATA_PATH}/valid.jsonl\").readlines()]"
   ]
  },
  {
   "cell_type": "code",
   "execution_count": 9,
   "metadata": {},
   "outputs": [],
   "source": [
    "train_data = dev_data + valid_data"
   ]
  },
  {
   "cell_type": "code",
   "execution_count": 10,
   "metadata": {},
   "outputs": [
    {
     "data": {
      "text/plain": [
       "{'id': '28-0001',\n",
       " 'question': 'Nếu GDP bình quân thực tế của năm 2000 là 18,073$ và GDP bình quân thực tế của năm 2001 là 18,635$ thì tỷ lệ tăng trưởng của sản lượng thực tế trong thời kỳ này là bao nhiêu?',\n",
       " 'choices': ['A. 3.0%', 'B. 3.1%', 'C. 5.62%', 'D. 18.0%', 'E. 18.6%'],\n",
       " 'answer': 'B'}"
      ]
     },
     "execution_count": 10,
     "metadata": {},
     "output_type": "execute_result"
    }
   ],
   "source": [
    "train_data[0]"
   ]
  },
  {
   "cell_type": "code",
   "execution_count": 11,
   "metadata": {},
   "outputs": [],
   "source": [
    "data = []\n",
    "\n",
    "\n",
    "for d in train_data:\n",
    "  choices = d[\"choices\"]\n",
    "  system_prompt = f\"\"\"Bạn là trợ lý AI thông minh về kiến thức trắc nghiệm.\n",
    "Hãy giúp người dùng trả lời các câu hỏi trắc nghiệm sau.\n",
    "Chỉ cần trả lời chữ đầu của các đáp án ({\", \".join(choices)}) mà không cần giải thích gì thêm.\n",
    "Ví dụ 1:\n",
    "Câu hỏi: Việt Nam có bao nhiêu tỉnh thành?\n",
    "A. 63\n",
    "B. 64\n",
    "C. 65\n",
    "D. 66\n",
    "Trả lời: A\n",
    "Ví dụ 2:\n",
    "Câu hỏi: Đâu là thủ đô của Việt Nam?\n",
    "A. Đà Nẵng\n",
    "B. TP.HCM\n",
    "C. Hà Nội\n",
    "D. Cần Thơ\n",
    "Trả lời: C\"\"\"\n",
    "\n",
    "  data.append(\n",
    "    {\n",
    "      \"id\": d[\"id\"],\n",
    "      \"conversations\": [\n",
    "        {\"from\": \"system\", \"value\": system_prompt},\n",
    "        {\n",
    "          \"from\": \"human\",\n",
    "          \"value\": \"Câu hỏi: \"\n",
    "          + d[\"question\"]\n",
    "          + \"\\n\"\n",
    "          + \"\\n\".join(d[\"choices\"])\n",
    "          + \"\\n\"\n",
    "          + \"Trả lời: \",\n",
    "        },\n",
    "        {\n",
    "          \"from\": \"gpt\",\n",
    "          \"value\": d[\"answer\"],\n",
    "        },\n",
    "      ],\n",
    "    }\n",
    "  )\n",
    "\n",
    "with open(f\"{DATA_PATH}/vmlu.json\", \"w\") as f:\n",
    "  f.write(json.dumps(data, ensure_ascii=False, indent=2))"
   ]
  },
  {
   "cell_type": "code",
   "execution_count": 12,
   "metadata": {},
   "outputs": [
    {
     "data": {
      "text/plain": [
       "1047"
      ]
     },
     "execution_count": 12,
     "metadata": {},
     "output_type": "execute_result"
    }
   ],
   "source": [
    "len(data)"
   ]
  }
 ],
 "metadata": {
  "kernelspec": {
   "display_name": "vividbot",
   "language": "python",
   "name": "python3"
  },
  "language_info": {
   "codemirror_mode": {
    "name": "ipython",
    "version": 3
   },
   "file_extension": ".py",
   "mimetype": "text/x-python",
   "name": "python",
   "nbconvert_exporter": "python",
   "pygments_lexer": "ipython3",
   "version": "3.10.0"
  }
 },
 "nbformat": 4,
 "nbformat_minor": 2
}
