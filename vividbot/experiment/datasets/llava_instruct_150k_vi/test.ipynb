{
 "cells": [
  {
   "cell_type": "code",
   "execution_count": 1,
   "metadata": {},
   "outputs": [],
   "source": [
    "import json\n",
    "import os\n",
    "from pathlib import Path\n",
    "\n",
    "data = json.load(open(f\"{Path.home()}/data/llava_instruct_150k_vi.json\", \"r\"))"
   ]
  },
  {
   "cell_type": "code",
   "execution_count": 2,
   "metadata": {},
   "outputs": [
    {
     "data": {
      "text/plain": [
       "157712"
      ]
     },
     "execution_count": 2,
     "metadata": {},
     "output_type": "execute_result"
    }
   ],
   "source": [
    "len(data)"
   ]
  },
  {
   "cell_type": "code",
   "execution_count": 3,
   "metadata": {},
   "outputs": [
    {
     "data": {
      "text/plain": [
       "{'id': '000000000081',\n",
       " 'image': 'shard_0/000000000081.jpg',\n",
       " 'conversations': [{'from': 'human',\n",
       "   'value': '<image>\\nLoại máy bay nào được hiển thị trong hình ảnh?'},\n",
       "  {'from': 'gpt',\n",
       "   'value': 'Hình ảnh hiển thị một chiếc máy bay lớn, hai tầng, bốn động cơ, là máy bay phản lực của Air France đang bay giữa chừng.'},\n",
       "  {'from': 'human', 'value': 'Bầu trời trong ảnh có màu gì?'},\n",
       "  {'from': 'gpt', 'value': 'Bầu trời trong ảnh có màu xanh.'},\n",
       "  {'from': 'human',\n",
       "   'value': 'Hãng hàng không của chiếc máy bay trong hình là hãng hàng không nào?'},\n",
       "  {'from': 'gpt',\n",
       "   'value': 'Hãng hàng không của chiếc máy bay trong ảnh là Air France.'},\n",
       "  {'from': 'human',\n",
       "   'value': 'Một số đặc điểm của máy bay trong hình ảnh là gì?'},\n",
       "  {'from': 'gpt',\n",
       "   'value': 'Chiếc máy bay trong ảnh có đặc điểm là kích thước lớn với hai sàn và bốn động cơ, cho thấy đây có thể là máy bay đường dài, công suất lớn, được thiết kế để vận chuyển một lượng lớn hành khách trên quãng đường dài. Nhãn hiệu Air France hiện rõ bên hông máy bay cho thấy nó được vận hành và bảo trì bởi hãng hàng không quốc gia Pháp, một công ty lớn trong ngành hàng không. Chiếc máy bay đang bay giữa chừng, bay vút qua bầu trời xanh rộng lớn, thể hiện sự kỳ diệu của kỹ thuật hiện đại và thành tựu của con người trong việc phát triển những cỗ máy khổng lồ và phức tạp có khả năng di chuyển liên tục trên không.'},\n",
       "  {'from': 'human',\n",
       "   'value': 'Những loại máy bay đường dài, lớn này thường bay những loại đường bay nào?'},\n",
       "  {'from': 'gpt',\n",
       "   'value': 'Máy bay cỡ lớn, đường dài, giống như trong hình, được thiết kế để bay đường dài với sức chứa hành khách lớn. Những chiếc máy bay này thường được sử dụng trên các tuyến quốc tế, kết nối các thành phố lớn trên khắp các châu lục và có thể bay thẳng trong vài giờ (đôi khi hơn 10 giờ) để vận chuyển hành khách và hàng hóa từ nơi này đến nơi khác trên thế giới. Một số ví dụ về đường bay của những chiếc máy bay lớn này bao gồm: - Các chuyến bay xuyên Đại Tây Dương kết nối các thành phố lớn ở Bắc Mỹ (như New York, Los Angeles hoặc Toronto) và Châu Âu (như Paris, London hoặc Frankfurt) - Các chuyến bay xuyên Thái Bình Dương kết nối Bắc Mỹ (chẳng hạn như Los Angeles hoặc San Francisco) với các thành phố lớn ở Châu Á (như Tokyo, Seoul hoặc Hồng Kông) - Các chuyến bay kết nối Châu Âu với Châu Á (ví dụ: Paris đến Tokyo hoặc London đến Mumbai) Các tuyến đường dài này rất quan trọng trong tạo điều kiện thuận lợi cho du lịch quốc tế, thương mại và trao đổi văn hóa, trong đó các hãng hàng không như Air France đóng vai trò quan trọng trong việc kết nối mọi người và các địa điểm trên toàn cầu. Các máy bay được sử dụng cho các tuyến đường như vậy được thiết kế đặc biệt để mang lại sự thoải mái cho hành khách, tiết kiệm nhiên liệu và hiệu suất trên những chặng đường dài, đảm bảo trải nghiệm bay an toàn và thú vị.'}],\n",
       " 'path': 'Vividbot/llava-instruct-150k-vi/images'}"
      ]
     },
     "execution_count": 3,
     "metadata": {},
     "output_type": "execute_result"
    }
   ],
   "source": [
    "data[0]"
   ]
  },
  {
   "cell_type": "code",
   "execution_count": 24,
   "metadata": {},
   "outputs": [],
   "source": [
    "data = sorted(data, key=lambda x: x[\"image\"])"
   ]
  },
  {
   "cell_type": "code",
   "execution_count": 25,
   "metadata": {},
   "outputs": [
    {
     "data": {
      "text/plain": [
       "{'id': '000000000081',\n",
       " 'image': 'shard_0/000000000081.jpg',\n",
       " 'conversations': [{'from': 'human',\n",
       "   'value': '<image>\\nLoại máy bay nào được hiển thị trong hình ảnh?'},\n",
       "  {'from': 'gpt',\n",
       "   'value': 'Hình ảnh hiển thị một chiếc máy bay lớn, hai tầng, bốn động cơ, là máy bay phản lực của Air France đang bay giữa chừng.'},\n",
       "  {'from': 'human', 'value': 'Bầu trời trong ảnh có màu gì?'},\n",
       "  {'from': 'gpt', 'value': 'Bầu trời trong ảnh có màu xanh.'},\n",
       "  {'from': 'human',\n",
       "   'value': 'Hãng hàng không của chiếc máy bay trong hình là hãng hàng không nào?'},\n",
       "  {'from': 'gpt',\n",
       "   'value': 'Hãng hàng không của chiếc máy bay trong ảnh là Air France.'},\n",
       "  {'from': 'human',\n",
       "   'value': 'Một số đặc điểm của máy bay trong hình ảnh là gì?'},\n",
       "  {'from': 'gpt',\n",
       "   'value': 'Chiếc máy bay trong ảnh có đặc điểm là kích thước lớn với hai sàn và bốn động cơ, cho thấy đây có thể là máy bay đường dài, công suất lớn, được thiết kế để vận chuyển một lượng lớn hành khách trên quãng đường dài. Nhãn hiệu Air France hiện rõ bên hông máy bay cho thấy nó được vận hành và bảo trì bởi hãng hàng không quốc gia Pháp, một công ty lớn trong ngành hàng không. Chiếc máy bay đang bay giữa chừng, bay vút qua bầu trời xanh rộng lớn, thể hiện sự kỳ diệu của kỹ thuật hiện đại và thành tựu của con người trong việc phát triển những cỗ máy khổng lồ và phức tạp có khả năng di chuyển liên tục trên không.'},\n",
       "  {'from': 'human',\n",
       "   'value': 'Những loại máy bay đường dài, lớn này thường bay những loại đường bay nào?'},\n",
       "  {'from': 'gpt',\n",
       "   'value': 'Máy bay cỡ lớn, đường dài, giống như trong hình, được thiết kế để bay đường dài với sức chứa hành khách lớn. Những chiếc máy bay này thường được sử dụng trên các tuyến quốc tế, kết nối các thành phố lớn trên khắp các châu lục và có thể bay thẳng trong vài giờ (đôi khi hơn 10 giờ) để vận chuyển hành khách và hàng hóa từ nơi này đến nơi khác trên thế giới. Một số ví dụ về đường bay của những chiếc máy bay lớn này bao gồm: - Các chuyến bay xuyên Đại Tây Dương kết nối các thành phố lớn ở Bắc Mỹ (như New York, Los Angeles hoặc Toronto) và Châu Âu (như Paris, London hoặc Frankfurt) - Các chuyến bay xuyên Thái Bình Dương kết nối Bắc Mỹ (chẳng hạn như Los Angeles hoặc San Francisco) với các thành phố lớn ở Châu Á (như Tokyo, Seoul hoặc Hồng Kông) - Các chuyến bay kết nối Châu Âu với Châu Á (ví dụ: Paris đến Tokyo hoặc London đến Mumbai) Các tuyến đường dài này rất quan trọng trong tạo điều kiện thuận lợi cho du lịch quốc tế, thương mại và trao đổi văn hóa, trong đó các hãng hàng không như Air France đóng vai trò quan trọng trong việc kết nối mọi người và các địa điểm trên toàn cầu. Các máy bay được sử dụng cho các tuyến đường như vậy được thiết kế đặc biệt để mang lại sự thoải mái cho hành khách, tiết kiệm nhiên liệu và hiệu suất trên những chặng đường dài, đảm bảo trải nghiệm bay an toàn và thú vị.'}],\n",
       " 'path': 'Vividbot/llava-instruct-150k-vi/images'}"
      ]
     },
     "execution_count": 25,
     "metadata": {},
     "output_type": "execute_result"
    }
   ],
   "source": [
    "data[0]"
   ]
  },
  {
   "cell_type": "code",
   "execution_count": 17,
   "metadata": {},
   "outputs": [],
   "source": [
    "longs = []\n",
    "\n",
    "for d in data:\n",
    "  conv = d[\"conversations\"]\n",
    "  total_word_count = 0\n",
    "  for c in conv:\n",
    "    total_word_count += len(c[\"value\"].split(\" \"))\n",
    "    if total_word_count > 1500:\n",
    "      longs.append(d)\n",
    "      break"
   ]
  },
  {
   "cell_type": "code",
   "execution_count": 18,
   "metadata": {},
   "outputs": [
    {
     "data": {
      "text/plain": [
       "0"
      ]
     },
     "execution_count": 18,
     "metadata": {},
     "output_type": "execute_result"
    }
   ],
   "source": [
    "len(longs)"
   ]
  },
  {
   "cell_type": "code",
   "execution_count": 19,
   "metadata": {},
   "outputs": [],
   "source": [
    "for d in data:\n",
    "  d[\"path\"] = \"Vividbot/llava-instruct-150k-vi/images\""
   ]
  },
  {
   "cell_type": "code",
   "execution_count": 26,
   "metadata": {},
   "outputs": [],
   "source": [
    "with open(f\"{Path.home()}/data/llava_instruct_150k_vi.json\", \"w\") as f:\n",
    "  json.dump(data, f, indent=2, ensure_ascii=False)"
   ]
  },
  {
   "cell_type": "code",
   "execution_count": 2,
   "metadata": {},
   "outputs": [],
   "source": [
    "import json\n",
    "\n",
    "metadata_list = list(json.loads(\"\".join(metadata_raw)))"
   ]
  },
  {
   "cell_type": "code",
   "execution_count": 6,
   "metadata": {},
   "outputs": [],
   "source": [
    "import numpy as np\n",
    "\n",
    "os.makedirs(\"shards\", exist_ok=True)\n",
    "\n",
    "with open(\"./shards/shard_all.json\", \"w\") as f1:\n",
    "  for i in range(0, len(metadata_list), 5000):\n",
    "    shard_id = i // 5000\n",
    "    with open(f\"./shards/shard_{shard_id}.json\", \"w\") as f:\n",
    "      for j in range(i, min(i + 5000, len(metadata_list))):\n",
    "        image = f\"shard_{shard_id}/{metadata_list[j]['image']}\"\n",
    "        conversations_vi = metadata_list[j][\"vi\"]\n",
    "        if len(conversations_vi) > 0:\n",
    "          if np.random.rand() < 0.5:\n",
    "            conversations_vi[0][\"value\"] = f\"<image>\\n{conversations_vi[0]['value']}\"\n",
    "          else:\n",
    "            conversations_vi[0][\"value\"] = f\"{conversations_vi[0]['value']}\\n<image>\"\n",
    "\n",
    "        data = {\n",
    "          \"id\": metadata_list[j][\"id\"],\n",
    "          \"image\": image,\n",
    "          \"conversations\": conversations_vi,\n",
    "        }\n",
    "        f.write(json.dumps(data, ensure_ascii=False) + \"\\n\")\n",
    "        f1.write(json.dumps(data, ensure_ascii=False) + \"\\n\")"
   ]
  },
  {
   "cell_type": "code",
   "execution_count": 7,
   "metadata": {},
   "outputs": [
    {
     "name": "stderr",
     "output_type": "stream",
     "text": [
      "shards.zip: 100%|██████████| 121M/121M [00:15<00:00, 8.05MB/s] \n"
     ]
    }
   ],
   "source": [
    "from vividbot.data.processor.huggingface import HuggingFaceProcessor\n",
    "\n",
    "hf_processor = HuggingFaceProcessor()\n",
    "\n",
    "hf_processor.zip_and_upload_dir(\n",
    "  dir_path=\"./shards\",\n",
    "  repo_id=\"Vividbot/llava-instruct-150k-vi\",\n",
    "  path_in_repo=\"shards.zip\",\n",
    "  repo_type=\"dataset\",\n",
    "  overwrite=True,\n",
    ")"
   ]
  },
  {
   "cell_type": "code",
   "execution_count": 3,
   "metadata": {},
   "outputs": [],
   "source": [
    "import numpy as np\n",
    "\n",
    "os.makedirs(\"shards\", exist_ok=True)\n",
    "\n",
    "BASE_DATA_PATH = f\"{Path.home()}/llava-instruct-150k-vi\"\n",
    "\n",
    "with open(f\"{BASE_DATA_PATH}/metadata.json\", \"w\") as f:\n",
    "  for shard in os.listdir(f\"{BASE_DATA_PATH}/shards\"):\n",
    "    with open(f\"{BASE_DATA_PATH}/shards/{shard}\", \"r\") as f1:\n",
    "      for line in f1:\n",
    "        f.write(line)"
   ]
  },
  {
   "cell_type": "code",
   "execution_count": 1,
   "metadata": {},
   "outputs": [
    {
     "name": "stdout",
     "output_type": "stream",
     "text": [
      "157712\n",
      "157711\n"
     ]
    }
   ],
   "source": [
    "import json\n",
    "from pathlib import Path\n",
    "\n",
    "data = json.load(open(f\"{Path.home()}/data/llava_instruct_150k_vi.json\", \"r\"))\n",
    "\n",
    "print(len(data))\n",
    "# filter image shard_18/000000231392.jpg\n",
    "\n",
    "data = [d for d in data if \"shard_18/000000231392.jpg\" not in d[\"image\"]]\n",
    "print(len(data))\n",
    "\n",
    "with open(f\"{Path.home()}/data/llava_instruct_150k_vi.json\", \"w\") as f:\n",
    "  json.dump(data, f, indent=2, ensure_ascii=False)"
   ]
  },
  {
   "cell_type": "code",
   "execution_count": 2,
   "metadata": {},
   "outputs": [
    {
     "name": "stdout",
     "output_type": "stream",
     "text": [
      "157712\n",
      "[{'id': '000000231392', 'image': '000000231392.jpg', 'conversations': [{'from': 'human', 'value': 'What factors make this pizza unique and what challenges might someone face while eating it?\\n<image>'}, {'from': 'gpt', 'value': 'The pizza in the image is unique due to its toppings and crust. It features a thick crust and is topped with a variety of ingredients including bacon, cheese, spinach, veggies, and thinly sliced prosciutto ham. These diverse toppings make it different from the more traditional, simpler pizzas.\\n\\nOne challenge someone might face while eating this pizza could be managing the balance between the thick crust and the generous amount of toppings. With a crust that thick and numerous toppings, there is a risk of the toppings sliding off or the pizza being difficult to handle. Another challenge could involve accommodating personal taste preferences, as some people might prefer different types or quantities of toppings. ############################################################################'}]}]\n"
     ]
    }
   ],
   "source": [
    "import json\n",
    "from pathlib import Path\n",
    "\n",
    "data = json.load(open(f\"{Path.home()}/data/llava_instruct_150k_en.json\", \"r\"))\n",
    "\n",
    "print(len(data))\n",
    "# filter image shard_18/000000231392.jpg\n",
    "\n",
    "data = [d for d in data if \"000000231392.jpg\" in d[\"image\"]]\n",
    "print(data)"
   ]
  }
 ],
 "metadata": {
  "kernelspec": {
   "display_name": "vividbot",
   "language": "python",
   "name": "python3"
  },
  "language_info": {
   "codemirror_mode": {
    "name": "ipython",
    "version": 3
   },
   "file_extension": ".py",
   "mimetype": "text/x-python",
   "name": "python",
   "nbconvert_exporter": "python",
   "pygments_lexer": "ipython3",
   "version": "3.10.0"
  }
 },
 "nbformat": 4,
 "nbformat_minor": 2
}
