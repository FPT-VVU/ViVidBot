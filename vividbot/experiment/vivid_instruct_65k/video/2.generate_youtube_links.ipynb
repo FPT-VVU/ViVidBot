{
 "cells": [
  {
   "cell_type": "code",
   "execution_count": 2,
   "metadata": {},
   "outputs": [],
   "source": [
    "import json\n",
    "from typing import Dict, List\n",
    "\n",
    "saved_keywords: Dict[str, List[str]] = json.load(\n",
    "    open(\"data/generated_keywords.json\", \"r\", encoding=\"utf-8\")\n",
    ")\n",
    "\n",
    "CATEGORIES = list(saved_keywords.keys())"
   ]
  },
  {
   "cell_type": "code",
   "execution_count": 3,
   "metadata": {},
   "outputs": [
    {
     "data": {
      "text/plain": [
       "['Food',\n",
       " 'Travel',\n",
       " 'Entertainment',\n",
       " 'Gaming',\n",
       " 'Lifestyle',\n",
       " 'Education',\n",
       " 'Sports',\n",
       " 'Technology',\n",
       " 'Pets & Animals',\n",
       " 'Health & Wellness']"
      ]
     },
     "execution_count": 3,
     "metadata": {},
     "output_type": "execute_result"
    }
   ],
   "source": [
    "CATEGORIES"
   ]
  },
  {
   "cell_type": "code",
   "execution_count": 4,
   "metadata": {},
   "outputs": [
    {
     "name": "stderr",
     "output_type": "stream",
     "text": [
      "100%|██████████| 124/124 [00:00<00:00, 55619.05it/s]\n",
      "100%|██████████| 106/106 [00:00<00:00, 52953.34it/s]\n",
      "100%|██████████| 131/131 [00:00<00:00, 52483.89it/s]\n",
      "100%|██████████| 113/113 [00:00<00:00, 62527.22it/s]\n",
      "100%|██████████| 109/109 [00:00<00:00, 54995.69it/s]\n",
      "100%|██████████| 146/146 [00:00<00:00, 54437.58it/s]\n",
      "100%|██████████| 136/136 [00:00<00:00, 57363.77it/s]\n",
      "100%|██████████| 126/126 [00:00<00:00, 40781.10it/s]\n",
      "100%|██████████| 179/179 [00:00<00:00, 40436.28it/s]\n",
      "100%|██████████| 125/125 [00:00<00:00, 43792.85it/s]\n",
      "100%|██████████| 10/10 [00:00<00:00, 211.37it/s]\n"
     ]
    }
   ],
   "source": [
    "# a function to get all youtube search results for a given keyword\n",
    "import os\n",
    "from youtubesearchpython import VideosSearch\n",
    "from typing import List\n",
    "\n",
    "\n",
    "def get_youtube_search_results(keyword: str) -> List[str]:\n",
    "    if os.path.exists(f\"cache/youtube_search_results/{keyword}.json\"):\n",
    "        with open(f\"cache/youtube_search_results/{keyword}.json\", \"r\") as f:\n",
    "            return json.load(f)\n",
    "\n",
    "    videosSearch = VideosSearch(\n",
    "        keyword,\n",
    "        limit=10,\n",
    "        region=\"VN\",\n",
    "        language=\"vi\",\n",
    "    )\n",
    "    results = videosSearch.result()[\"result\"]\n",
    "    ids = [result[\"id\"] for result in results]\n",
    "\n",
    "    with open(f\"cache/youtube_search_results/{keyword}.json\", \"w\") as f:\n",
    "        json.dump(ids, f, indent=2, ensure_ascii=False)\n",
    "\n",
    "    return ids\n",
    "\n",
    "\n",
    "# a function to iterate through all keywords and get all youtube search results\n",
    "# filter out duplicate results\n",
    "from tqdm import tqdm\n",
    "from typing import Dict, List\n",
    "\n",
    "\n",
    "def get_all_youtube_search_results(\n",
    "    keywords: Dict[str, List[str]]\n",
    ") -> Dict[str, List[str]]:\n",
    "    all_youtube_search_results = {}\n",
    "    for category in tqdm(keywords):\n",
    "        all_youtube_search_results[category] = []\n",
    "        for keyword in tqdm(keywords[category]):\n",
    "            results = get_youtube_search_results(keyword)\n",
    "            all_youtube_search_results[category] += results\n",
    "        all_youtube_search_results[category] = list(\n",
    "            set(all_youtube_search_results[category])\n",
    "        )\n",
    "\n",
    "    return all_youtube_search_results\n",
    "\n",
    "\n",
    "all_youtube_search_results = get_all_youtube_search_results(saved_keywords)"
   ]
  },
  {
   "cell_type": "code",
   "execution_count": 5,
   "metadata": {},
   "outputs": [],
   "source": [
    "# get unique search results through all categories\n",
    "# if a video appears in multiple categories, it will only be counted once in the first category\n",
    "\n",
    "unique_search_results = {}\n",
    "for category in all_youtube_search_results:\n",
    "    unique_search_results[category] = []\n",
    "    for video_id in all_youtube_search_results[category]:\n",
    "        found = False\n",
    "        for category2 in unique_search_results:\n",
    "            if video_id in unique_search_results[category2]:\n",
    "                found = True\n",
    "                break\n",
    "        if not found:\n",
    "            unique_search_results[category].append(video_id)"
   ]
  },
  {
   "cell_type": "code",
   "execution_count": 9,
   "metadata": {},
   "outputs": [
    {
     "data": {
      "text/plain": [
       "7943"
      ]
     },
     "execution_count": 9,
     "metadata": {},
     "output_type": "execute_result"
    }
   ],
   "source": [
    "len([video_id for category in unique_search_results for video_id in unique_search_results[category]])"
   ]
  },
  {
   "cell_type": "code",
   "execution_count": 10,
   "metadata": {},
   "outputs": [],
   "source": [
    "# write the results to a json file\n",
    "with open(\"data/youtube_search_results.json\", \"w\", encoding=\"utf-8\") as f:\n",
    "    json.dump(unique_search_results, f, indent=2, ensure_ascii=False)"
   ]
  }
 ],
 "metadata": {
  "kernelspec": {
   "display_name": "Python 3",
   "language": "python",
   "name": "python3"
  },
  "language_info": {
   "codemirror_mode": {
    "name": "ipython",
    "version": 3
   },
   "file_extension": ".py",
   "mimetype": "text/x-python",
   "name": "python",
   "nbconvert_exporter": "python",
   "pygments_lexer": "ipython3",
   "version": "3.10.12"
  }
 },
 "nbformat": 4,
 "nbformat_minor": 2
}
