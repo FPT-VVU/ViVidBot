{
 "cells": [
  {
   "cell_type": "code",
   "execution_count": 1,
   "metadata": {},
   "outputs": [],
   "source": [
    "import json\n",
    "from typing import Dict, List\n",
    "\n",
    "saved_keywords: Dict[str, List[str]] = json.load(\n",
    "    open(\"../data/image_generated_keywords.json\", \"r\", encoding=\"utf-8\")\n",
    ")\n",
    "\n",
    "CATEGORIES = list(saved_keywords.keys())"
   ]
  },
  {
   "cell_type": "code",
   "execution_count": 3,
   "metadata": {},
   "outputs": [],
   "source": [
    "keywords = [keyword for category in CATEGORIES for keyword in saved_keywords[category]]\n",
    "\n",
    "with open(\"../data/image_flattened_keywords.json\", \"w\", encoding=\"utf-8\") as f:\n",
    "    for keyword in keywords:\n",
    "        f.write(json.dumps({\n",
    "            \"keyword\": keyword,\n",
    "            \"category\": next(category for category in CATEGORIES if keyword in saved_keywords[category])\n",
    "        }, ensure_ascii=False) + \"\\n\")"
   ]
  },
  {
   "cell_type": "code",
   "execution_count": 4,
   "metadata": {},
   "outputs": [
    {
     "data": {
      "text/plain": [
       "2134"
      ]
     },
     "execution_count": 4,
     "metadata": {},
     "output_type": "execute_result"
    }
   ],
   "source": [
    "len(keywords)"
   ]
  },
  {
   "cell_type": "code",
   "execution_count": 1,
   "metadata": {},
   "outputs": [],
   "source": [
    "from vividbot.data.task.vivid_instruct_65k.utils import pinscrape\n",
    "\n",
    "\n",
    "details = pinscrape.scraper.scrape(\"phim hoạt hình Trung Quốc\", \"output\", {}, 12, 20)"
   ]
  },
  {
   "cell_type": "code",
   "execution_count": 2,
   "metadata": {},
   "outputs": [
    {
     "data": {
      "text/plain": [
       "{'isDownloaded': True,\n",
       " 'search_engine_status_code': 200,\n",
       " 'urls_list': ['https://i.pinimg.com/originals/11/b3/62/11b362173272a4f92b6485b1c9f51197.jpg',\n",
       "  'https://i.pinimg.com/originals/1a/72/87/1a7287950d8af71dfb7ffa29e972dd95.jpg',\n",
       "  'https://i.pinimg.com/originals/0e/99/1c/0e991c52cff948288f18a685b2ad9a78.jpg',\n",
       "  'https://i.pinimg.com/originals/a2/c2/be/a2c2bea579928bcb9818e24c85ea29ef.jpg',\n",
       "  'https://i.pinimg.com/originals/0b/ac/6f/0bac6fb8b06661d19e9d32118050f7de.png',\n",
       "  'https://i.pinimg.com/originals/e7/f8/d0/e7f8d0e1b7fda1bc9fc12174087e7d38.jpg',\n",
       "  'https://i.pinimg.com/originals/ce/ad/b2/ceadb2c67f532a804fc8d18eb4efaa15.jpg',\n",
       "  'https://i.pinimg.com/originals/81/22/cc/8122cc8c5b7750d18df2fab49b53036b.jpg',\n",
       "  'https://i.pinimg.com/originals/59/9a/d5/599ad58e3afa4deb1bb07d20fbf18c53.jpg',\n",
       "  'https://i.pinimg.com/originals/25/4a/3a/254a3a8e2e28c095ba98b620898df026.jpg',\n",
       "  'https://i.pinimg.com/originals/1c/da/e9/1cdae9cdff45738c9b5453b6403d7426.png',\n",
       "  'https://i.pinimg.com/originals/e1/e9/08/e1e9087b5fc348a3f120fc291ad91ef5.jpg',\n",
       "  'https://i.pinimg.com/originals/1f/b8/a7/1fb8a743e0795803866fca860a9e4417.jpg',\n",
       "  'https://i.pinimg.com/originals/56/2f/e2/562fe2c17e90204b3bc4a47fe941471c.jpg',\n",
       "  'https://i.pinimg.com/originals/76/d2/e2/76d2e233c91a6ac72a5b71d2f12ca2c6.png',\n",
       "  'https://i.pinimg.com/originals/d4/bf/d8/d4bfd8a15592c8396bf0532b6d45148f.jpg',\n",
       "  'https://i.pinimg.com/originals/26/8f/5a/268f5afc67743e3d999fc497c2f6f0f0.png',\n",
       "  'https://i.pinimg.com/originals/3c/95/81/3c95817ac20a79e2ddc41fc280327b2a.jpg',\n",
       "  'https://i.pinimg.com/originals/d4/73/7f/d4737fb42222d0f81f3347fa256c0400.jpg'],\n",
       " 'searched_urls': ['https://www.pinterest.com/nguyenngoc…',\n",
       "  'youtube.com',\n",
       "  'youtube.com',\n",
       "  'canhrau.com',\n",
       "  'bloganchoi.com',\n",
       "  'minhvy.net',\n",
       "  'bing.com/images',\n",
       "  'https://www.pinterest.com/khuechuyenbl/hoạt-hình-3d-trung-quốc',\n",
       "  'cellphones.com.vn',\n",
       "  'youtube.com',\n",
       "  'https://www.pinterest.com/trongminhtv/hoạt-hình-3d-trung-quốc',\n",
       "  'bing.com/videos',\n",
       "  'bing.com/videos',\n",
       "  'https://kids.pops.vn/blog/hoat-hinh-trung-quoc',\n",
       "  'https://bloganchoi.com/phim-hoat-hinh-trung-quoc-3d-hay-nhat',\n",
       "  'https://thegioireview.vn/phim-hoat-hinh …',\n",
       "  'https://chuuniotaku.com/top-50-bo-hoat-hinh-trung...',\n",
       "  'https://metiiu.com/giai-tri-genz/hoat-hinh-trung-quoc',\n",
       "  'https://voh.com.vn/phim/phim-hoat-hin…',\n",
       "  'https://toplist.vn/top-list/phim-hoat-hin…'],\n",
       " 'extracted_urls': ['https://www.pinterest.com/nguyenngoc…',\n",
       "  'https://www.pinterest.com/khuechuyenbl/hoạt-hình-3d-trung-quốc',\n",
       "  'https://www.pinterest.com/trongminhtv/hoạt-hình-3d-trung-quốc'],\n",
       " 'keyword': 'phim hoạt hình Trung Quốc'}"
      ]
     },
     "execution_count": 2,
     "metadata": {},
     "output_type": "execute_result"
    }
   ],
   "source": [
    "details"
   ]
  },
  {
   "cell_type": "code",
   "execution_count": 3,
   "metadata": {},
   "outputs": [
    {
     "data": {
      "text/plain": [
       "'11b362173272a4f92b6485b1c9f51197.jpg'"
      ]
     },
     "execution_count": 3,
     "metadata": {},
     "output_type": "execute_result"
    }
   ],
   "source": [
    "\"https://i.pinimg.com/originals/11/b3/62/11b362173272a4f92b6485b1c9f51197.jpg\".split(\"/\")[-1]"
   ]
  },
  {
   "cell_type": "code",
   "execution_count": 4,
   "metadata": {},
   "outputs": [
    {
     "name": "stdout",
     "output_type": "stream",
     "text": [
      "[{{\"question\": \"Người phụ nữ trong hình đang làm gì?\", \"answer\": \"Người phụ nữ đang ngồi và viết lên một tờ giấy, có vẻ như cô ấy đang tập trung vào việc viết.\"}, {\"question\": \"Bạn có nhận thấy điều gì đặc biệt về cách người phụ nữ đang ngồi không?\", \"answer\": \"Người phụ nữ đang ngồi với một tay chống lên đầu, có thể cô ấy đang cảm thấy mệt mỏi hoặc căng thẳng.\"}, {\"question\": \"Có vẻ như người phụ nữ đang ở đâu?\", \"answer\": \"Có vẻ như người phụ nữ đang ở trong một văn phòng hoặc một không gian công cộng, có bàn ghế và giấy tờ xung quanh.\"}]\n"
     ]
    }
   ],
   "source": [
    "st = \"\"\"[{{\\\"question\\\": \\\"Ng\\u01b0\\u1eddi ph\\u1ee5 n\\u1eef trong h\\u00ecnh \\u0111ang l\\u00e0m g\\u00ec?\\\", \\\"answer\\\": \\\"Ng\\u01b0\\u1eddi ph\\u1ee5 n\\u1eef \\u0111ang ng\\u1ed3i v\\u00e0 vi\\u1ebft l\\u00ean m\\u1ed9t t\\u1edd gi\\u1ea5y, c\\u00f3 v\\u1ebb nh\\u01b0 c\\u00f4 \\u1ea5y \\u0111ang t\\u1eadp trung v\\u00e0o vi\\u1ec7c vi\\u1ebft.\\\"}, {\\\"question\\\": \\\"B\\u1ea1n c\\u00f3 nh\\u1eadn th\\u1ea5y \\u0111i\\u1ec1u g\\u00ec \\u0111\\u1eb7c bi\\u1ec7t v\\u1ec1 c\\u00e1ch ng\\u01b0\\u1eddi ph\\u1ee5 n\\u1eef \\u0111ang ng\\u1ed3i kh\\u00f4ng?\\\", \\\"answer\\\": \\\"Ng\\u01b0\\u1eddi ph\\u1ee5 n\\u1eef \\u0111ang ng\\u1ed3i v\\u1edbi m\\u1ed9t tay ch\\u1ed1ng l\\u00ean \\u0111\\u1ea7u, c\\u00f3 th\\u1ec3 c\\u00f4 \\u1ea5y \\u0111ang c\\u1ea3m th\\u1ea5y m\\u1ec7t m\\u1ecfi ho\\u1eb7c c\\u0103ng th\\u1eb3ng.\\\"}, {\\\"question\\\": \\\"C\\u00f3 v\\u1ebb nh\\u01b0 ng\\u01b0\\u1eddi ph\\u1ee5 n\\u1eef \\u0111ang \\u1edf \\u0111\\u00e2u?\\\", \\\"answer\\\": \\\"C\\u00f3 v\\u1ebb nh\\u01b0 ng\\u01b0\\u1eddi ph\\u1ee5 n\\u1eef \\u0111ang \\u1edf trong m\\u1ed9t v\\u0103n ph\\u00f2ng ho\\u1eb7c m\\u1ed9t kh\\u00f4ng gian c\\u00f4ng c\\u1ed9ng, c\\u00f3 b\\u00e0n gh\\u1ebf v\\u00e0 gi\\u1ea5y t\\u1edd xung quanh.\\\"}]\"\"\"\n",
    "\n",
    "print(str(st).encode(\"utf-8\").decode(\"utf-8\"))"
   ]
  },
  {
   "cell_type": "code",
   "execution_count": 4,
   "metadata": {},
   "outputs": [],
   "source": [
    "path = \"/home/dminhvu/data/images/metadata.jsonl\"\n",
    "\n",
    "lines = open(path, \"r\", encoding=\"utf-8\").readlines()"
   ]
  },
  {
   "cell_type": "code",
   "execution_count": 7,
   "metadata": {},
   "outputs": [],
   "source": [
    "import json\n",
    "\n",
    "for line in lines:\n",
    "    data = json.loads(line)\n",
    "    # remove \"description\" from data\n",
    "    data.pop(\"description\", None)\n",
    "    with open(\"/home/dminhvu/data/images/metadata2.jsonl\", \"a\", encoding=\"utf-8\") as f:\n",
    "        f.write(json.dumps(data, ensure_ascii=False) + \"\\n\")"
   ]
  }
 ],
 "metadata": {
  "kernelspec": {
   "display_name": "vividbot",
   "language": "python",
   "name": "python3"
  },
  "language_info": {
   "codemirror_mode": {
    "name": "ipython",
    "version": 3
   },
   "file_extension": ".py",
   "mimetype": "text/x-python",
   "name": "python",
   "nbconvert_exporter": "python",
   "pygments_lexer": "ipython3",
   "version": "3.10.0"
  }
 },
 "nbformat": 4,
 "nbformat_minor": 2
}
