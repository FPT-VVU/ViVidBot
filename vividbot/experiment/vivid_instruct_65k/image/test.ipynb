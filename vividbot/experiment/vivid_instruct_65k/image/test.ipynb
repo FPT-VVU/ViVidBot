{
 "cells": [
  {
   "cell_type": "code",
   "execution_count": 4,
   "metadata": {},
   "outputs": [],
   "source": [
    "import json\n",
    "from typing import Dict, List\n",
    "\n",
    "saved_keywords: Dict[str, List[str]] = json.load(\n",
    "    open(\"../data/generated_keywords.json\", \"r\", encoding=\"utf-8\")\n",
    ")\n",
    "\n",
    "CATEGORIES = list(saved_keywords.keys())"
   ]
  },
  {
   "cell_type": "code",
   "execution_count": 6,
   "metadata": {},
   "outputs": [],
   "source": [
    "keywords = [keyword for category in CATEGORIES for keyword in saved_keywords[category]]\n",
    "\n",
    "with open(\"../data/flattened_keywords.jsonl\", \"w\", encoding=\"utf-8\") as f:\n",
    "    for keyword in keywords:\n",
    "        f.write(json.dumps({\n",
    "            \"keyword\": keyword,\n",
    "            \"category\": next(category for category in CATEGORIES if keyword in saved_keywords[category])\n",
    "        }, ensure_ascii=False) + \"\\n\")"
   ]
  },
  {
   "cell_type": "code",
   "execution_count": 5,
   "metadata": {},
   "outputs": [
    {
     "data": {
      "text/plain": [
       "1295"
      ]
     },
     "execution_count": 5,
     "metadata": {},
     "output_type": "execute_result"
    }
   ],
   "source": [
    "len(keywords)"
   ]
  },
  {
   "cell_type": "code",
   "execution_count": 2,
   "metadata": {},
   "outputs": [],
   "source": [
    "from vividbot.data.task.vivid_instruct_65k.utils import pinscrape\n",
    "\n",
    "\n",
    "details = pinscrape.scraper.scrape(\"messi\", \"output\", {}, 10, 2)"
   ]
  },
  {
   "cell_type": "code",
   "execution_count": 7,
   "metadata": {},
   "outputs": [
    {
     "data": {
      "text/plain": [
       "{'isDownloaded': True,\n",
       " 'search_engine_status_code': 200,\n",
       " 'urls_list': ['https://i.pinimg.com/originals/12/8e/6e/128e6e5e651dab7aae7f135e24b74a08.jpg',\n",
       "  'https://i.pinimg.com/originals/6d/8c/ef/6d8cef114f2613042765e3f7fc8262d0.jpg'],\n",
       " 'searched_urls': ['https://www.pinterest.com/mariojrlopez/lionel-messi',\n",
       "  'wallpapercave.com',\n",
       "  'wallpapers.com',\n",
       "  'pinterest.com'],\n",
       " 'extracted_urls': ['https://www.pinterest.com/mariojrlopez/lionel-messi',\n",
       "  'pinterest.com'],\n",
       " 'keyword': 'messi'}"
      ]
     },
     "execution_count": 7,
     "metadata": {},
     "output_type": "execute_result"
    }
   ],
   "source": [
    "details"
   ]
  },
  {
   "cell_type": "code",
   "execution_count": 4,
   "metadata": {},
   "outputs": [
    {
     "name": "stdout",
     "output_type": "stream",
     "text": [
      "[{{\"question\": \"Người phụ nữ trong hình đang làm gì?\", \"answer\": \"Người phụ nữ đang ngồi và viết lên một tờ giấy, có vẻ như cô ấy đang tập trung vào việc viết.\"}, {\"question\": \"Bạn có nhận thấy điều gì đặc biệt về cách người phụ nữ đang ngồi không?\", \"answer\": \"Người phụ nữ đang ngồi với một tay chống lên đầu, có thể cô ấy đang cảm thấy mệt mỏi hoặc căng thẳng.\"}, {\"question\": \"Có vẻ như người phụ nữ đang ở đâu?\", \"answer\": \"Có vẻ như người phụ nữ đang ở trong một văn phòng hoặc một không gian công cộng, có bàn ghế và giấy tờ xung quanh.\"}]\n"
     ]
    }
   ],
   "source": [
    "st = \"\"\"[{{\\\"question\\\": \\\"Ng\\u01b0\\u1eddi ph\\u1ee5 n\\u1eef trong h\\u00ecnh \\u0111ang l\\u00e0m g\\u00ec?\\\", \\\"answer\\\": \\\"Ng\\u01b0\\u1eddi ph\\u1ee5 n\\u1eef \\u0111ang ng\\u1ed3i v\\u00e0 vi\\u1ebft l\\u00ean m\\u1ed9t t\\u1edd gi\\u1ea5y, c\\u00f3 v\\u1ebb nh\\u01b0 c\\u00f4 \\u1ea5y \\u0111ang t\\u1eadp trung v\\u00e0o vi\\u1ec7c vi\\u1ebft.\\\"}, {\\\"question\\\": \\\"B\\u1ea1n c\\u00f3 nh\\u1eadn th\\u1ea5y \\u0111i\\u1ec1u g\\u00ec \\u0111\\u1eb7c bi\\u1ec7t v\\u1ec1 c\\u00e1ch ng\\u01b0\\u1eddi ph\\u1ee5 n\\u1eef \\u0111ang ng\\u1ed3i kh\\u00f4ng?\\\", \\\"answer\\\": \\\"Ng\\u01b0\\u1eddi ph\\u1ee5 n\\u1eef \\u0111ang ng\\u1ed3i v\\u1edbi m\\u1ed9t tay ch\\u1ed1ng l\\u00ean \\u0111\\u1ea7u, c\\u00f3 th\\u1ec3 c\\u00f4 \\u1ea5y \\u0111ang c\\u1ea3m th\\u1ea5y m\\u1ec7t m\\u1ecfi ho\\u1eb7c c\\u0103ng th\\u1eb3ng.\\\"}, {\\\"question\\\": \\\"C\\u00f3 v\\u1ebb nh\\u01b0 ng\\u01b0\\u1eddi ph\\u1ee5 n\\u1eef \\u0111ang \\u1edf \\u0111\\u00e2u?\\\", \\\"answer\\\": \\\"C\\u00f3 v\\u1ebb nh\\u01b0 ng\\u01b0\\u1eddi ph\\u1ee5 n\\u1eef \\u0111ang \\u1edf trong m\\u1ed9t v\\u0103n ph\\u00f2ng ho\\u1eb7c m\\u1ed9t kh\\u00f4ng gian c\\u00f4ng c\\u1ed9ng, c\\u00f3 b\\u00e0n gh\\u1ebf v\\u00e0 gi\\u1ea5y t\\u1edd xung quanh.\\\"}]\"\"\"\n",
    "\n",
    "print(str(st).encode(\"utf-8\").decode(\"utf-8\"))"
   ]
  },
  {
   "cell_type": "code",
   "execution_count": 4,
   "metadata": {},
   "outputs": [],
   "source": [
    "path = \"/home/dminhvu/data/images/metadata.jsonl\"\n",
    "\n",
    "lines = open(path, \"r\", encoding=\"utf-8\").readlines()"
   ]
  },
  {
   "cell_type": "code",
   "execution_count": 7,
   "metadata": {},
   "outputs": [],
   "source": [
    "import json\n",
    "\n",
    "for line in lines:\n",
    "    data = json.loads(line)\n",
    "    # remove \"description\" from data\n",
    "    data.pop(\"description\", None)\n",
    "    with open(\"/home/dminhvu/data/images/metadata2.jsonl\", \"a\", encoding=\"utf-8\") as f:\n",
    "        f.write(json.dumps(data, ensure_ascii=False) + \"\\n\")"
   ]
  }
 ],
 "metadata": {
  "kernelspec": {
   "display_name": "vividbot",
   "language": "python",
   "name": "python3"
  },
  "language_info": {
   "codemirror_mode": {
    "name": "ipython",
    "version": 3
   },
   "file_extension": ".py",
   "mimetype": "text/x-python",
   "name": "python",
   "nbconvert_exporter": "python",
   "pygments_lexer": "ipython3",
   "version": "3.10.12"
  }
 },
 "nbformat": 4,
 "nbformat_minor": 2
}
