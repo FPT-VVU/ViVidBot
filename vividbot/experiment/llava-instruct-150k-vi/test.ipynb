{
 "cells": [
  {
   "cell_type": "code",
   "execution_count": 1,
   "metadata": {},
   "outputs": [],
   "source": [
    "import os\n",
    "from pathlib import Path\n",
    "\n",
    "metadata_raw = open(f\"{Path.home()}/Downloads/train.json\", \"r\").readlines()"
   ]
  },
  {
   "cell_type": "code",
   "execution_count": 2,
   "metadata": {},
   "outputs": [],
   "source": [
    "import json\n",
    "\n",
    "\n",
    "metadata_list = list(json.loads(\"\".join(metadata_raw)))"
   ]
  },
  {
   "cell_type": "code",
   "execution_count": 6,
   "metadata": {},
   "outputs": [],
   "source": [
    "import numpy as np\n",
    "\n",
    "\n",
    "os.makedirs(\"shards\", exist_ok=True)\n",
    "\n",
    "with open(\"./shards/shard_all.json\", \"w\") as f1:\n",
    "  for i in range(0, len(metadata_list), 5000):\n",
    "    shard_id = i // 5000\n",
    "    with open(f\"./shards/shard_{shard_id}.json\", \"w\") as f:\n",
    "      for j in range(i, min(i + 5000, len(metadata_list))):\n",
    "        image = f\"shard_{shard_id}/{metadata_list[j]['image']}\"\n",
    "        conversations_vi = metadata_list[j][\"vi\"]\n",
    "        if len(conversations_vi) > 0:\n",
    "          if np.random.rand() < 0.5:\n",
    "            conversations_vi[0][\"value\"] = f\"<image>\\n{conversations_vi[0]['value']}\"\n",
    "          else:\n",
    "            conversations_vi[0][\"value\"] = f\"{conversations_vi[0]['value']}\\n<image>\"\n",
    "\n",
    "        data = {\n",
    "          \"id\": metadata_list[j][\"id\"],\n",
    "          \"image\": image,\n",
    "          \"conversations\": conversations_vi\n",
    "        }\n",
    "        f.write(json.dumps(data, ensure_ascii=False) + \"\\n\")\n",
    "        f1.write(json.dumps(data, ensure_ascii=False) + \"\\n\")"
   ]
  },
  {
   "cell_type": "code",
   "execution_count": 7,
   "metadata": {},
   "outputs": [
    {
     "name": "stderr",
     "output_type": "stream",
     "text": [
      "shards.zip: 100%|██████████| 121M/121M [00:15<00:00, 8.05MB/s] \n"
     ]
    }
   ],
   "source": [
    "from vividbot.data.processor.huggingface import HuggingFaceProcessor\n",
    "\n",
    "\n",
    "hf_processor = HuggingFaceProcessor()\n",
    "\n",
    "hf_processor.zip_and_upload_dir(\n",
    "  dir_path=\"./shards\",\n",
    "      repo_id=\"Vividbot/llava-instruct-150k-vi\",\n",
    "      path_in_repo=\"shards.zip\",\n",
    "      repo_type=\"dataset\",\n",
    "      overwrite=True,\n",
    "    \n",
    ")"
   ]
  },
  {
   "cell_type": "code",
   "execution_count": 3,
   "metadata": {},
   "outputs": [],
   "source": [
    "import numpy as np\n",
    "\n",
    "\n",
    "os.makedirs(\"shards\", exist_ok=True)\n",
    "\n",
    "BASE_DATA_PATH = f\"{Path.home()}/llava-instruct-150k-vi\"\n",
    "\n",
    "with open(f\"{BASE_DATA_PATH}/metadata.json\", \"w\") as f:\n",
    "  for shard in os.listdir(f\"{BASE_DATA_PATH}/shards\"):\n",
    "    with open(f\"{BASE_DATA_PATH}/shards/{shard}\", \"r\") as f1:\n",
    "      for line in f1:\n",
    "        f.write(line)"
   ]
  }
 ],
 "metadata": {
  "kernelspec": {
   "display_name": "vividbot",
   "language": "python",
   "name": "python3"
  },
  "language_info": {
   "codemirror_mode": {
    "name": "ipython",
    "version": 3
   },
   "file_extension": ".py",
   "mimetype": "text/x-python",
   "name": "python",
   "nbconvert_exporter": "python",
   "pygments_lexer": "ipython3",
   "version": "3.10.0"
  }
 },
 "nbformat": 4,
 "nbformat_minor": 2
}
